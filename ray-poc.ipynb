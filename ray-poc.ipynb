{
 "cells": [
  {
   "cell_type": "code",
   "execution_count": 37,
   "metadata": {},
   "outputs": [
    {
     "data": {
      "application/vnd.jupyter.widget-view+json": {
       "model_id": "613844f8ae8540f7ba585aaa7eb2cffe",
       "version_major": 2,
       "version_minor": 0
      },
      "text/html": [
       "<div class=\"lm-Widget p-Widget lm-Panel p-Panel jp-Cell-outputWrapper\">\n",
       "    <div style=\"margin-left: 50px;display: flex;flex-direction: row;align-items: center\">\n",
       "        <div class=\"jp-RenderedHTMLCommon\" style=\"display: flex; flex-direction: row;\">\n",
       "  <svg viewBox=\"0 0 567 224\" fill=\"none\" xmlns=\"http://www.w3.org/2000/svg\" style=\"height: 3em;\">\n",
       "    <g clip-path=\"url(#clip0_4338_178347)\">\n",
       "        <path d=\"M341.29 165.561H355.29L330.13 129.051C345.63 123.991 354.21 112.051 354.21 94.2307C354.21 71.3707 338.72 58.1807 311.88 58.1807H271V165.561H283.27V131.661H311.8C314.25 131.661 316.71 131.501 319.01 131.351L341.25 165.561H341.29ZM283.29 119.851V70.0007H311.82C331.3 70.0007 342.34 78.2907 342.34 94.5507C342.34 111.271 331.34 119.861 311.82 119.861L283.29 119.851ZM451.4 138.411L463.4 165.561H476.74L428.74 58.1807H416L367.83 165.561H380.83L392.83 138.411H451.4ZM446.19 126.601H398L422 72.1407L446.24 126.601H446.19ZM526.11 128.741L566.91 58.1807H554.35L519.99 114.181L485.17 58.1807H472.44L514.01 129.181V165.541H526.13V128.741H526.11Z\" fill=\"var(--jp-ui-font-color0)\"/>\n",
       "        <path d=\"M82.35 104.44C84.0187 97.8827 87.8248 92.0678 93.1671 87.9146C98.5094 83.7614 105.083 81.5067 111.85 81.5067C118.617 81.5067 125.191 83.7614 130.533 87.9146C135.875 92.0678 139.681 97.8827 141.35 104.44H163.75C164.476 101.562 165.622 98.8057 167.15 96.2605L127.45 56.5605C121.071 60.3522 113.526 61.6823 106.235 60.3005C98.9443 58.9187 92.4094 54.9203 87.8602 49.0574C83.3109 43.1946 81.0609 35.8714 81.5332 28.4656C82.0056 21.0599 85.1679 14.0819 90.4252 8.8446C95.6824 3.60726 102.672 0.471508 110.08 0.0272655C117.487 -0.416977 124.802 1.86091 130.647 6.4324C136.493 11.0039 140.467 17.5539 141.821 24.8501C143.175 32.1463 141.816 39.6859 138 46.0505L177.69 85.7505C182.31 82.9877 187.58 81.4995 192.962 81.4375C198.345 81.3755 203.648 82.742 208.33 85.3976C213.012 88.0532 216.907 91.9029 219.616 96.5544C222.326 101.206 223.753 106.492 223.753 111.875C223.753 117.258 222.326 122.545 219.616 127.197C216.907 131.848 213.012 135.698 208.33 138.353C203.648 141.009 198.345 142.375 192.962 142.313C187.58 142.251 182.31 140.763 177.69 138L138 177.7C141.808 184.071 143.155 191.614 141.79 198.91C140.424 206.205 136.44 212.75 130.585 217.313C124.731 221.875 117.412 224.141 110.004 223.683C102.596 223.226 95.6103 220.077 90.3621 214.828C85.1139 209.58 81.9647 202.595 81.5072 195.187C81.0497 187.779 83.3154 180.459 87.878 174.605C92.4405 168.751 98.9853 164.766 106.281 163.401C113.576 162.035 121.119 163.383 127.49 167.19L167.19 127.49C165.664 124.941 164.518 122.182 163.79 119.3H141.39C139.721 125.858 135.915 131.673 130.573 135.826C125.231 139.98 118.657 142.234 111.89 142.234C105.123 142.234 98.5494 139.98 93.2071 135.826C87.8648 131.673 84.0587 125.858 82.39 119.3H60C58.1878 126.495 53.8086 132.78 47.6863 136.971C41.5641 141.163 34.1211 142.972 26.7579 142.059C19.3947 141.146 12.6191 137.574 7.70605 132.014C2.79302 126.454 0.0813599 119.29 0.0813599 111.87C0.0813599 104.451 2.79302 97.2871 7.70605 91.7272C12.6191 86.1673 19.3947 82.5947 26.7579 81.6817C34.1211 80.7686 41.5641 82.5781 47.6863 86.7696C53.8086 90.9611 58.1878 97.2456 60 104.44H82.35ZM100.86 204.32C103.407 206.868 106.759 208.453 110.345 208.806C113.93 209.159 117.527 208.258 120.522 206.256C123.517 204.254 125.725 201.276 126.771 197.828C127.816 194.38 127.633 190.677 126.253 187.349C124.874 184.021 122.383 181.274 119.205 179.577C116.027 177.88 112.359 177.337 108.826 178.042C105.293 178.746 102.113 180.654 99.8291 183.44C97.5451 186.226 96.2979 189.718 96.3 193.32C96.2985 195.364 96.7006 197.388 97.4831 199.275C98.2656 201.163 99.4132 202.877 100.86 204.32ZM204.32 122.88C206.868 120.333 208.453 116.981 208.806 113.396C209.159 109.811 208.258 106.214 206.256 103.219C204.254 100.223 201.275 98.0151 197.827 96.97C194.38 95.9249 190.676 96.1077 187.348 97.4873C184.02 98.8669 181.274 101.358 179.577 104.536C177.879 107.714 177.337 111.382 178.041 114.915C178.746 118.448 180.653 121.627 183.439 123.911C186.226 126.195 189.717 127.443 193.32 127.44C195.364 127.443 197.388 127.042 199.275 126.259C201.163 125.476 202.878 124.328 204.32 122.88ZM122.88 19.4205C120.333 16.8729 116.981 15.2876 113.395 14.9347C109.81 14.5817 106.213 15.483 103.218 17.4849C100.223 19.4868 98.0146 22.4654 96.9696 25.9131C95.9245 29.3608 96.1073 33.0642 97.4869 36.3922C98.8665 39.7202 101.358 42.4668 104.535 44.1639C107.713 45.861 111.381 46.4036 114.914 45.6992C118.447 44.9949 121.627 43.0871 123.911 40.301C126.195 37.515 127.442 34.0231 127.44 30.4205C127.44 28.3772 127.038 26.3539 126.255 24.4664C125.473 22.5788 124.326 20.8642 122.88 19.4205ZM19.42 100.86C16.8725 103.408 15.2872 106.76 14.9342 110.345C14.5813 113.93 15.4826 117.527 17.4844 120.522C19.4863 123.518 22.4649 125.726 25.9127 126.771C29.3604 127.816 33.0638 127.633 36.3918 126.254C39.7198 124.874 42.4664 122.383 44.1635 119.205C45.8606 116.027 46.4032 112.359 45.6988 108.826C44.9944 105.293 43.0866 102.114 40.3006 99.8296C37.5145 97.5455 34.0227 96.2983 30.42 96.3005C26.2938 96.3018 22.337 97.9421 19.42 100.86ZM100.86 100.86C98.3125 103.408 96.7272 106.76 96.3742 110.345C96.0213 113.93 96.9226 117.527 98.9244 120.522C100.926 123.518 103.905 125.726 107.353 126.771C110.8 127.816 114.504 127.633 117.832 126.254C121.16 124.874 123.906 122.383 125.604 119.205C127.301 116.027 127.843 112.359 127.139 108.826C126.434 105.293 124.527 102.114 121.741 99.8296C118.955 97.5455 115.463 96.2983 111.86 96.3005C109.817 96.299 107.793 96.701 105.905 97.4835C104.018 98.2661 102.303 99.4136 100.86 100.86Z\" fill=\"#00AEEF\"/>\n",
       "    </g>\n",
       "    <defs>\n",
       "        <clipPath id=\"clip0_4338_178347\">\n",
       "            <rect width=\"566.93\" height=\"223.75\" fill=\"white\"/>\n",
       "        </clipPath>\n",
       "    </defs>\n",
       "  </svg>\n",
       "</div>\n",
       "\n",
       "        <table class=\"jp-RenderedHTMLCommon\" style=\"border-collapse: collapse;color: var(--jp-ui-font-color1);font-size: var(--jp-ui-font-size1);\">\n",
       "    <tr>\n",
       "        <td style=\"text-align: left\"><b>Python version:</b></td>\n",
       "        <td style=\"text-align: left\"><b>3.10.15</b></td>\n",
       "    </tr>\n",
       "    <tr>\n",
       "        <td style=\"text-align: left\"><b>Ray version:</b></td>\n",
       "        <td style=\"text-align: left\"><b>2.37.0</b></td>\n",
       "    </tr>\n",
       "    \n",
       "</table>\n",
       "\n",
       "    </div>\n",
       "</div>\n"
      ],
      "text/plain": [
       "RayContext(dashboard_url='', python_version='3.10.15', ray_version='2.37.0', ray_commit='1b620f244c4fb67d80661046091573fb6eefecb6')"
      ]
     },
     "execution_count": 37,
     "metadata": {},
     "output_type": "execute_result"
    }
   ],
   "source": [
    "import ray\n",
    "\n",
    "ray.init(logging_level=\"ERROR\")\n"
   ]
  },
  {
   "cell_type": "markdown",
   "metadata": {},
   "source": [
    "## Extracting data from data location "
   ]
  },
  {
   "cell_type": "code",
   "execution_count": 38,
   "metadata": {},
   "outputs": [
    {
     "name": "stderr",
     "output_type": "stream",
     "text": [
      "2024-10-19 15:23:45,582\tINFO streaming_executor.py:108 -- Starting execution of Dataset. Full logs are in C:\\Users\\Vipul\\AppData\\Local\\Temp\\ray\\session_2024-10-19_15-23-27_640146_1900\\logs\\ray-data\n",
      "2024-10-19 15:23:45,583\tINFO streaming_executor.py:109 -- Execution plan of Dataset: InputDataBuffer[Input] -> LimitOperator[limit=2]\n"
     ]
    },
    {
     "data": {
      "application/vnd.jupyter.widget-view+json": {
       "model_id": "22d9280a075547c9a04f56d7afa48f3e",
       "version_major": 2,
       "version_minor": 0
      },
      "text/plain": [
       "Running 0: 0.00 row [00:00, ? row/s]"
      ]
     },
     "metadata": {},
     "output_type": "display_data"
    },
    {
     "data": {
      "application/vnd.jupyter.widget-view+json": {
       "model_id": "76fc1db718d949a9abec87905a3ae078",
       "version_major": 2,
       "version_minor": 0
      },
      "text/plain": [
       "- limit=2 1: 0.00 row [00:00, ? row/s]"
      ]
     },
     "metadata": {},
     "output_type": "display_data"
    },
    {
     "name": "stdout",
     "output_type": "stream",
     "text": [
      "[{'filename': 'CleanBot_Robotic_Vacuum_Cleaner_FAQ.pdf', 'content': 'CleanBot Robotic Vacuum Cleaner FAQ \\n1. Product Overview \\nCleanBot offers a range of robotic vacuum cleaners to suit different cleaning needs. Our \\ncurrent lineup includes: \\n• CB-100 (Basic) \\n• CB-200 (Smart Navigation) \\n• CB-300 (Self-Emptying) \\nEach model is designed to provide efficient and hassle-free cleaning. \\n2. Technical Specifications \\nCB-100 (Basic) \\nBattery Life: 90 minutes \\nSuction Power: 2000Pa \\nDustbin Capacity: 0.5L \\nNoise Level: 60dB \\nWeight: 3.5kg \\nCB-200 (Smart Navigation) \\nBattery Life: 90 minutes \\nSuction Power: 2000Pa \\nDustbin Capacity: 0.5L \\nNoise Level: 60dB \\nWeight: 3.5kg \\nCB-300 (Self-Emptying) \\nBattery Life: 90 minutes \\nSuction Power: 2000Pa \\nDustbin Capacity: 0.5L Noise Level: 60dB \\nWeight: 3.5kg \\n3. Key Features \\n• Efficient Cleaning: High suction power and multiple cleaning modes. \\n• Smart Navigation: Advanced sensors for better navigation and cleaning. \\n• Self-Emptying: Automatically empties its dustbin for hands-free maintenance. \\n4. Setup and Installation \\nStep-by-step instructions for setting up your CleanBot robotic vacuum cleaner: \\n1. Unbox the vacuum cleaner and charging dock. \\n2. Place the charging dock against a wall and plug it in. \\n3. Place the vacuum cleaner on the dock to charge. \\n4. Download the CleanBot app and follow the setup instructions. \\n5. Usage Instructions \\nDetailed guidelines on using various features and optimizing performance: \\n• Use the app to start, stop, and schedule cleaning sessions. \\n• Select different cleaning modes (e.g., auto, spot, edge) based on your needs. \\n• Monitor the cleaning progress and battery status through the app. \\n6. Maintenance and Care \\nGuidelines for keeping your robotic vacuum cleaner in top condition: \\n• Regularly empty the dustbin and clean the filters. \\n• Check and clean the brushes and sensors to ensure optimal performance. \\n• Keep the firmware updated for enhanced features and performance. \\n7. Troubleshooting \\nCommon issues and their solutions: Problem: Vacuum Cleaner Not Charging \\nSolution: Ensure the charging dock is plugged in and the vacuum is properly aligned with \\nthe dock. \\nProblem: Reduced Suction Power \\nSolution: Check for blockages in the suction path and clean the filters. \\nProblem: Random Navigation \\nSolution: Reset the navigation system through the app and ensure the sensors are clean. \\n8. Warranty Information \\nComprehensive warranty details for your CleanBot robotic vacuum cleaner: \\n• Coverage period: 1 year from the date of purchase. \\n• Includes free repair and replacement for manufacturing defects. \\n• Excludes damage caused by misuse or unauthorized modifications. \\n9. Customer Support \\nInformation on how to get support for your CleanBot robotic vacuum cleaner: \\n• Visit our online support portal for FAQs and troubleshooting guides. \\n• Contact our support team via phone or email for personalized assistance. \\n• Locate the nearest service center for in-person support. '}, {'filename': 'CleanPro_Washing_Machine_FAQ.pdf', 'content': 'CleanPro Washing Machine FAQ \\n1. Product Overview \\nCleanPro offers a range of washing machines designed to meet various laundry needs. Our \\ncurrent lineup includes: \\n• CP-FL800 (Front Load) \\n• CP-TL600 (Top Load) \\n• CP-CD900 (Combo Washer-Dryer) \\nEach model is equipped with advanced technology and features to provide a superior \\nwashing experience. \\n2. Technical Specifications \\nCP-FL800 (Front Load) \\nCapacity: 8kg \\nSpin Speed: 1200 RPM \\nEnergy Rating: A+++ \\nWater Consumption: 50L per wash cycle \\nPrograms: Cotton, Synthetic, Delicate, Quick Wash, Eco Wash \\nCP-TL600 (Top Load) \\nCapacity: 8kg \\nSpin Speed: 1200 RPM \\nEnergy Rating: A+++ \\nWater Consumption: 50L per wash cycle \\nPrograms: Cotton, Synthetic, Delicate, Quick Wash, Eco Wash \\nCP-CD900 (Combo Washer-Dryer) \\nCapacity: 8kg \\nSpin Speed: 1200 RPM \\nEnergy Rating: A+++ Water Consumption: 50L per wash cycle \\nPrograms: Cotton, Synthetic, Delicate, Quick Wash, Eco Wash \\n3. Key Features \\n• Multiple Wash Programs: Choose from a variety of programs to suit different fabrics and \\nstains. \\n• Eco Wash: Reduces water and energy consumption while maintaining wash quality. \\n• Smart Diagnosis: Detects and alerts you to potential issues before they become serious \\nproblems. \\n4. Setup and Installation \\nStep-by-step instructions for setting up your CleanPro washing machine: \\n1. Unbox the washing machine and remove all packing materials. \\n2. Place the washing machine on a flat, stable surface near a water source and drain. \\n3. Connect the water inlet hose to a water tap and the drain hose to a drain outlet. \\n4. Plug in the washing machine and perform a test wash without laundry. \\n5. Usage Instructions \\nDetailed guidelines on using various features and optimizing performance: \\n• Select the appropriate wash program based on the type of laundry. \\n• Use the correct amount of detergent to avoid over-sudsing. \\n• Clean the detergent drawer and filter regularly to maintain performance. \\n6. Maintenance and Care \\nGuidelines for keeping your washing machine in top condition: \\n• Clean the drum and door seal regularly to prevent mold and mildew. \\n• Check the hoses for any leaks or damage and replace them if necessary. \\n• Run a maintenance wash with a washing machine cleaner once a month. 7. Troubleshooting \\nCommon issues and their solutions: \\nProblem: Washing Machine Not Draining \\nSolution: Check the drain hose for any blockages and ensure it is positioned correctly. \\nProblem: Excessive Vibration During Spin \\nSolution: Ensure the washing machine is level and all transit bolts have been removed. \\nProblem: Detergent Not Dispensing \\nSolution: Clean the detergent drawer and ensure it is properly inserted. \\n8. Warranty Information \\nComprehensive warranty details for your CleanPro washing machine: \\n• Coverage period: 2 years from the date of purchase. \\n• Includes free repair and replacement for manufacturing defects. \\n• Excludes damage caused by misuse or unauthorized modifications. \\n9. Customer Support \\nInformation on how to get support for your CleanPro washing machine: \\n• Visit our online support portal for FAQs and troubleshooting guides. \\n• Contact our support team via phone or email for personalized assistance. \\n• Locate the nearest service center for in-person support. '}]\n"
     ]
    }
   ],
   "source": [
    "import os\n",
    "from PyPDF2 import PdfReader\n",
    "import ray\n",
    "import ray.data\n",
    "\n",
    "\n",
    "pdf_dir = r\"C:\\Users\\Vipul\\RAG-PDF-QUERYING\\data\"\n",
    "\n",
    "# Function to extract text from a PDF\n",
    "def extract_text(filepath):\n",
    "    reader = PdfReader(filepath)\n",
    "    text = ''.join(page.extract_text() or '' for page in reader.pages)\n",
    "    return text\n",
    "\n",
    "data = []\n",
    "for filename in os.listdir(pdf_dir):\n",
    "    if filename.lower().endswith('.pdf'):\n",
    "        path = os.path.join(pdf_dir, filename)\n",
    "        text = extract_text(path)\n",
    "        data.append({\"filename\": filename, \"content\": text})\n",
    "\n",
    "\n",
    "dataset = ray.data.from_items(data)\n",
    "\n",
    "\n",
    "print(dataset.take(2))\n",
    "\n",
    "\n"
   ]
  },
  {
   "cell_type": "markdown",
   "metadata": {},
   "source": [
    "## Splitting data into sections"
   ]
  },
  {
   "cell_type": "code",
   "execution_count": 39,
   "metadata": {},
   "outputs": [
    {
     "name": "stderr",
     "output_type": "stream",
     "text": [
      "2024-10-19 15:23:53,560\tINFO streaming_executor.py:108 -- Starting execution of Dataset. Full logs are in C:\\Users\\Vipul\\AppData\\Local\\Temp\\ray\\session_2024-10-19_15-23-27_640146_1900\\logs\\ray-data\n",
      "2024-10-19 15:23:53,561\tINFO streaming_executor.py:109 -- Execution plan of Dataset: InputDataBuffer[Input] -> TaskPoolMapOperator[Map(split_sections)->Filter(<lambda>)] -> LimitOperator[limit=1]\n"
     ]
    },
    {
     "data": {
      "application/vnd.jupyter.widget-view+json": {
       "model_id": "e5af843c62c8445c96bce66d808431d4",
       "version_major": 2,
       "version_minor": 0
      },
      "text/plain": [
       "Running 0: 0.00 row [00:00, ? row/s]"
      ]
     },
     "metadata": {},
     "output_type": "display_data"
    },
    {
     "data": {
      "application/vnd.jupyter.widget-view+json": {
       "model_id": "f4a3a6ef91174194ab76f6085bf9ceb3",
       "version_major": 2,
       "version_minor": 0
      },
      "text/plain": [
       "- Map(split_sections)->Filter(<lambda>) 1: 0.00 row [00:00, ? row/s]"
      ]
     },
     "metadata": {},
     "output_type": "display_data"
    },
    {
     "data": {
      "application/vnd.jupyter.widget-view+json": {
       "model_id": "de54933c37c543cd9ed101d3470cf4ec",
       "version_major": 2,
       "version_minor": 0
      },
      "text/plain": [
       "- limit=1 2: 0.00 row [00:00, ? row/s]"
      ]
     },
     "metadata": {},
     "output_type": "display_data"
    },
    {
     "name": "stderr",
     "output_type": "stream",
     "text": [
      "2024-10-19 15:23:55,525\tINFO streaming_executor.py:108 -- Starting execution of Dataset. Full logs are in C:\\Users\\Vipul\\AppData\\Local\\Temp\\ray\\session_2024-10-19_15-23-27_640146_1900\\logs\\ray-data\n",
      "2024-10-19 15:23:55,526\tINFO streaming_executor.py:109 -- Execution plan of Dataset: InputDataBuffer[Input] -> TaskPoolMapOperator[Map(split_sections)->Filter(<lambda>)] -> LimitOperator[limit=1]\n"
     ]
    },
    {
     "data": {
      "application/vnd.jupyter.widget-view+json": {
       "model_id": "3e67730d2c004f0684cadeaa30afb2af",
       "version_major": 2,
       "version_minor": 0
      },
      "text/plain": [
       "Running 0: 0.00 row [00:00, ? row/s]"
      ]
     },
     "metadata": {},
     "output_type": "display_data"
    },
    {
     "data": {
      "application/vnd.jupyter.widget-view+json": {
       "model_id": "62fb2ddce91342898d07dd4e6f659790",
       "version_major": 2,
       "version_minor": 0
      },
      "text/plain": [
       "- Map(split_sections)->Filter(<lambda>) 1: 0.00 row [00:00, ? row/s]"
      ]
     },
     "metadata": {},
     "output_type": "display_data"
    },
    {
     "data": {
      "application/vnd.jupyter.widget-view+json": {
       "model_id": "e0eeae820b9f4a1da1532cf6451c68be",
       "version_major": 2,
       "version_minor": 0
      },
      "text/plain": [
       "- limit=1 2: 0.00 row [00:00, ? row/s]"
      ]
     },
     "metadata": {},
     "output_type": "display_data"
    },
    {
     "name": "stdout",
     "output_type": "stream",
     "text": [
      "--- TechMobile_Smartphone_FAQ.pdf ---\n",
      "--- 1. Product Overview ---\n",
      "TechMobile offers a range of smartphones to suit various needs and preferences. Our \n",
      "current lineup includes: \n",
      "• TM-S100 (Standard) \n",
      "• TM-P200 (Pro) \n",
      "• TM-L150 (Lite) \n",
      "Each device is designed with cutting-edge technology to provide an exceptional user \n",
      "experience.\n",
      "\n",
      "--- 2. Technical Specifications ---\n",
      "TM-S100 (Standard) \n",
      "Processor: Snapdragon 888 \n",
      "Memory: 8GB RAM \n",
      "Storage: 128GB \n",
      "Display: 6.5-inch AMOLED, 1080x2400 pixels \n",
      "Camera: 64MP main, 12MP ultra-wide, 5MP macro \n",
      "Battery Capacity: 4500mAh \n",
      "TM-P200 (Pro) \n",
      "Processor: Snapdragon 888 \n",
      "Memory: 8GB RAM \n",
      "Storage: 128GB \n",
      "Display: 6.5-inch AMOLED, 1080x2400 pixels \n",
      "Camera: 64MP main, 12MP ultra-wide, 5MP macro \n",
      "Battery Capacity: 4500mAh \n",
      "TM-L150 (Lite) \n",
      "Processor: Snapdragon 888 Memory: 8GB RAM \n",
      "Storage: 128GB \n",
      "Display: 6.5-inch AMOLED, 1080x2400 pixels \n",
      "Camera: 64MP main, 12MP ultra-wide, 5MP macro \n",
      "Battery Capacity: 4500mAh\n",
      "\n",
      "--- 3. Key Features ---\n",
      "• AI-Enhanced Photography: The AI camera system optimizes settings for different scenes, \n",
      "ensuring stunning photos every time. \n",
      "• 5G Connectivity: Experience blazing fast internet speeds with 5G support, allowing \n",
      "seamless streaming and browsing. \n",
      "• Advanced Security Measures: Includes facial recognition, fingerprint scanner, and secure \n",
      "encryption to protect your data.\n",
      "\n",
      "--- 4. Battery Life ---\n",
      "The battery life of TechMobile smartphones is designed to last all day with moderate use. \n",
      "For heavy users, fast charging capabilities ensure you are never out of power for long. \n",
      "Tips for optimizing battery life: \n",
      "• Reduce screen brightness and timeout duration. \n",
      "• Disable background app refresh for non-essential apps. \n",
      "• Use battery saver mode when needed.\n",
      "\n",
      "--- 5. Camera ---\n",
      "TechMobile smartphones feature a versatile camera system with multiple lenses to suit \n",
      "different photography needs. From ultra-wide landscape shots to detailed macro \n",
      "photography, capture every moment with precision. \n",
      "Tips for best photography: \n",
      "• Use Pro mode to manually adjust settings for optimal results. \n",
      "• Experiment with different camera modes like Night, Portrait, and Panorama. \n",
      "• Clean the camera lens regularly to avoid blurry images. 6. Connectivity \n",
      "TechMobile smartphones support a wide range of connectivity options including: \n",
      "• 5G and 4G LTE networks for fast mobile internet. \n",
      "• Bluetooth 5.0 for quick and reliable connections with accessories. \n",
      "• Dual-band Wi-Fi for stable and fast internet at home or work. \n",
      "• NFC for easy contactless payments and data transfer.\n",
      "\n",
      "--- 7. Troubleshooting ---\n",
      "Here are some common issues and their solutions: \n",
      "Problem: Battery Draining Quickly \n",
      "Solution: Check for power-hungry apps in settings and limit their usage. Enable battery \n",
      "saver mode. \n",
      "Problem: Phone Overheating \n",
      "Solution: Avoid using your phone while charging. Remove the case during intensive tasks to \n",
      "help with heat dissipation. \n",
      "Problem: Poor Network Connectivity \n",
      "Solution: Restart your phone. Check for software updates. Reset network settings if the \n",
      "problem persists.\n",
      "\n",
      "--- Common PDF Example ---\n",
      "--- 1. Product Overview ---\n",
      "CleanBot offers a range of robotic vacuum cleaners to suit different cleaning needs. Our \n",
      "current lineup includes: \n",
      "• CB-100 (Basic) \n",
      "• CB-200 (Smart Navigation) \n",
      "• CB-300 (Self-Emptying) \n",
      "Each model is designed to provide efficient and hassle-free cleaning.\n",
      "\n",
      "--- 2. Technical Specifications ---\n",
      "CB-100 (Basic) \n",
      "Battery Life: 90 minutes \n",
      "Suction Power: 2000Pa \n",
      "Dustbin Capacity: 0.5L \n",
      "Noise Level: 60dB \n",
      "Weight: 3.5kg \n",
      "CB-200 (Smart Navigation) \n",
      "Battery Life: 90 minutes \n",
      "Suction Power: 2000Pa \n",
      "Dustbin Capacity: 0.5L \n",
      "Noise Level: 60dB \n",
      "Weight: 3.5kg \n",
      "CB-300 (Self-Emptying) \n",
      "Battery Life: 90 minutes \n",
      "Suction Power: 2000Pa \n",
      "Dustbin Capacity: 0.5L Noise Level: 60dB \n",
      "Weight: 3.5kg\n",
      "\n",
      "--- 3. Key Features ---\n",
      "• Efficient Cleaning: High suction power and multiple cleaning modes. \n",
      "• Smart Navigation: Advanced sensors for better navigation and cleaning. \n",
      "• Self-Emptying: Automatically empties its dustbin for hands-free maintenance.\n",
      "\n",
      "--- 4. Setup and Installation ---\n",
      "Step-by-step instructions for setting up your CleanBot robotic vacuum cleaner: \n",
      "1. Unbox the vacuum cleaner and charging dock. \n",
      "2. Place the charging dock against a wall and plug it in. \n",
      "3. Place the vacuum cleaner on the dock to charge. \n",
      "4. Download the CleanBot app and follow the setup instructions.\n",
      "\n",
      "--- 5. Usage Instructions ---\n",
      "Detailed guidelines on using various features and optimizing performance: \n",
      "• Use the app to start, stop, and schedule cleaning sessions. \n",
      "• Select different cleaning modes (e.g., auto, spot, edge) based on your needs. \n",
      "• Monitor the cleaning progress and battery status through the app.\n",
      "\n",
      "--- 6. Maintenance and Care ---\n",
      "Guidelines for keeping your robotic vacuum cleaner in top condition: \n",
      "• Regularly empty the dustbin and clean the filters. \n",
      "• Check and clean the brushes and sensors to ensure optimal performance. \n",
      "• Keep the firmware updated for enhanced features and performance.\n",
      "\n",
      "--- 7. Troubleshooting ---\n",
      "Common issues and their solutions: Problem: Vacuum Cleaner Not Charging \n",
      "Solution: Ensure the charging dock is plugged in and the vacuum is properly aligned with \n",
      "the dock. \n",
      "Problem: Reduced Suction Power \n",
      "Solution: Check for blockages in the suction path and clean the filters. \n",
      "Problem: Random Navigation \n",
      "Solution: Reset the navigation system through the app and ensure the sensors are clean.\n",
      "\n",
      "--- 8. Warranty Information ---\n",
      "Comprehensive warranty details for your CleanBot robotic vacuum cleaner: \n",
      "• Coverage period: 1 year from the date of purchase. \n",
      "• Includes free repair and replacement for manufacturing defects. \n",
      "• Excludes damage caused by misuse or unauthorized modifications.\n",
      "\n",
      "--- 9. Customer Support ---\n",
      "Information on how to get support for your CleanBot robotic vacuum cleaner: \n",
      "• Visit our online support portal for FAQs and troubleshooting guides. \n",
      "• Contact our support team via phone or email for personalized assistance. \n",
      "• Locate the nearest service center for in-person support.\n",
      "\n"
     ]
    }
   ],
   "source": [
    "import re\n",
    "import ray\n",
    "import ray.data\n",
    "\n",
    "# Initialize Ray\n",
    "\n",
    "\n",
    "# Define section headers\n",
    "common_headers = [\n",
    "    r\"1\\. Product Overview\", r\"2\\. Technical Specifications\", r\"3\\. Key Features\",\n",
    "    r\"4\\. Setup and Installation\", r\"5\\. Usage Instructions\", r\"6\\. Maintenance and Care\",\n",
    "    r\"7\\. Troubleshooting\", r\"8\\. Warranty Information\", r\"9\\. Customer Support\"\n",
    "]\n",
    "\n",
    "techmobile_headers = [\n",
    "    r\"1\\. Product Overview\", r\"2\\. Technical Specifications\", r\"3\\. Key Features\",\n",
    "    r\"4\\. Battery Life\", r\"5\\. Camera\", r\"6\\. Connectivity\", r\"7\\. Troubleshooting\"\n",
    "]\n",
    "\n",
    "# Function to clean page breaks\n",
    "def clean_page_breaks(text):\n",
    "    return re.sub(r'\\n+', '\\n', text)\n",
    "\n",
    "# Function to split into sections\n",
    "def split_sections(row):\n",
    "    text = clean_page_breaks(row[\"content\"])\n",
    "    headers = techmobile_headers if row[\"filename\"] == \"TechMobile_Smartphone_FAQ.pdf\" else common_headers\n",
    "    sections = {}\n",
    "    current_section = None\n",
    "    current_content = []\n",
    "    header_pattern = re.compile(rf\"({'|'.join(headers)})\", re.IGNORECASE)\n",
    "    \n",
    "    for line in text.split('\\n'):\n",
    "        match = header_pattern.match(line.strip())\n",
    "        if match:\n",
    "            if current_section:\n",
    "                sections[current_section] = '\\n'.join(current_content).strip()\n",
    "            current_section = match.group(0)\n",
    "            current_content = []\n",
    "        elif current_section:\n",
    "            current_content.append(line)\n",
    "    \n",
    "    if current_section:\n",
    "        sections[current_section] = '\\n'.join(current_content).strip()\n",
    "    \n",
    "    row[\"sections\"] = sections\n",
    "    return row\n",
    "\n",
    "\n",
    "\n",
    "# Applying the split_sections function\n",
    "split_dataset = dataset.map(split_sections)\n",
    "\n",
    "techmobile = split_dataset.filter(lambda row: row[\"filename\"] == \"TechMobile_Smartphone_FAQ.pdf\").take(1)\n",
    "common_pdf = split_dataset.filter(lambda row: row[\"filename\"] != \"TechMobile_Smartphone_FAQ.pdf\").take(1)\n",
    "\n",
    "print(\"--- TechMobile_Smartphone_FAQ.pdf ---\")\n",
    "for section, content in techmobile[0][\"sections\"].items():\n",
    "    print(f\"--- {section} ---\\n{content}\\n\")\n",
    "\n",
    "print(\"--- Common PDF Example ---\")\n",
    "for section, content in common_pdf[0][\"sections\"].items():\n",
    "    print(f\"--- {section} ---\\n{content}\\n\")\n"
   ]
  },
  {
   "cell_type": "code",
   "execution_count": 40,
   "metadata": {},
   "outputs": [
    {
     "name": "stderr",
     "output_type": "stream",
     "text": [
      "2024-10-19 15:24:07,581\tINFO streaming_executor.py:108 -- Starting execution of Dataset. Full logs are in C:\\Users\\Vipul\\AppData\\Local\\Temp\\ray\\session_2024-10-19_15-23-27_640146_1900\\logs\\ray-data\n",
      "2024-10-19 15:24:07,582\tINFO streaming_executor.py:109 -- Execution plan of Dataset: InputDataBuffer[Input] -> LimitOperator[limit=20]\n"
     ]
    },
    {
     "data": {
      "application/vnd.jupyter.widget-view+json": {
       "model_id": "159f93350344457aa9858efb8e67f241",
       "version_major": 2,
       "version_minor": 0
      },
      "text/plain": [
       "Running 0: 0.00 row [00:00, ? row/s]"
      ]
     },
     "metadata": {},
     "output_type": "display_data"
    },
    {
     "data": {
      "application/vnd.jupyter.widget-view+json": {
       "model_id": "a56543890d6d4553ab18d7df3d812d18",
       "version_major": 2,
       "version_minor": 0
      },
      "text/plain": [
       "- limit=20 1: 0.00 row [00:00, ? row/s]"
      ]
     },
     "metadata": {},
     "output_type": "display_data"
    },
    {
     "name": "stdout",
     "output_type": "stream",
     "text": [
      "{'filename': 'CleanBot_Robotic_Vacuum_Cleaner_FAQ.pdf', 'content': 'CleanBot Robotic Vacuum Cleaner FAQ \\n1. Product Overview \\nCleanBot offers a range of robotic vacuum cleaners to suit different cleaning needs. Our \\ncurrent lineup includes: \\n• CB-100 (Basic) \\n• CB-200 (Smart Navigation) \\n• CB-300 (Self-Emptying) \\nEach model is designed to provide efficient and hassle-free cleaning. \\n2. Technical Specifications \\nCB-100 (Basic) \\nBattery Life: 90 minutes \\nSuction Power: 2000Pa \\nDustbin Capacity: 0.5L \\nNoise Level: 60dB \\nWeight: 3.5kg \\nCB-200 (Smart Navigation) \\nBattery Life: 90 minutes \\nSuction Power: 2000Pa \\nDustbin Capacity: 0.5L \\nNoise Level: 60dB \\nWeight: 3.5kg \\nCB-300 (Self-Emptying) \\nBattery Life: 90 minutes \\nSuction Power: 2000Pa \\nDustbin Capacity: 0.5L Noise Level: 60dB \\nWeight: 3.5kg \\n3. Key Features \\n• Efficient Cleaning: High suction power and multiple cleaning modes. \\n• Smart Navigation: Advanced sensors for better navigation and cleaning. \\n• Self-Emptying: Automatically empties its dustbin for hands-free maintenance. \\n4. Setup and Installation \\nStep-by-step instructions for setting up your CleanBot robotic vacuum cleaner: \\n1. Unbox the vacuum cleaner and charging dock. \\n2. Place the charging dock against a wall and plug it in. \\n3. Place the vacuum cleaner on the dock to charge. \\n4. Download the CleanBot app and follow the setup instructions. \\n5. Usage Instructions \\nDetailed guidelines on using various features and optimizing performance: \\n• Use the app to start, stop, and schedule cleaning sessions. \\n• Select different cleaning modes (e.g., auto, spot, edge) based on your needs. \\n• Monitor the cleaning progress and battery status through the app. \\n6. Maintenance and Care \\nGuidelines for keeping your robotic vacuum cleaner in top condition: \\n• Regularly empty the dustbin and clean the filters. \\n• Check and clean the brushes and sensors to ensure optimal performance. \\n• Keep the firmware updated for enhanced features and performance. \\n7. Troubleshooting \\nCommon issues and their solutions: Problem: Vacuum Cleaner Not Charging \\nSolution: Ensure the charging dock is plugged in and the vacuum is properly aligned with \\nthe dock. \\nProblem: Reduced Suction Power \\nSolution: Check for blockages in the suction path and clean the filters. \\nProblem: Random Navigation \\nSolution: Reset the navigation system through the app and ensure the sensors are clean. \\n8. Warranty Information \\nComprehensive warranty details for your CleanBot robotic vacuum cleaner: \\n• Coverage period: 1 year from the date of purchase. \\n• Includes free repair and replacement for manufacturing defects. \\n• Excludes damage caused by misuse or unauthorized modifications. \\n9. Customer Support \\nInformation on how to get support for your CleanBot robotic vacuum cleaner: \\n• Visit our online support portal for FAQs and troubleshooting guides. \\n• Contact our support team via phone or email for personalized assistance. \\n• Locate the nearest service center for in-person support. '}\n",
      "{'filename': 'CleanPro_Washing_Machine_FAQ.pdf', 'content': 'CleanPro Washing Machine FAQ \\n1. Product Overview \\nCleanPro offers a range of washing machines designed to meet various laundry needs. Our \\ncurrent lineup includes: \\n• CP-FL800 (Front Load) \\n• CP-TL600 (Top Load) \\n• CP-CD900 (Combo Washer-Dryer) \\nEach model is equipped with advanced technology and features to provide a superior \\nwashing experience. \\n2. Technical Specifications \\nCP-FL800 (Front Load) \\nCapacity: 8kg \\nSpin Speed: 1200 RPM \\nEnergy Rating: A+++ \\nWater Consumption: 50L per wash cycle \\nPrograms: Cotton, Synthetic, Delicate, Quick Wash, Eco Wash \\nCP-TL600 (Top Load) \\nCapacity: 8kg \\nSpin Speed: 1200 RPM \\nEnergy Rating: A+++ \\nWater Consumption: 50L per wash cycle \\nPrograms: Cotton, Synthetic, Delicate, Quick Wash, Eco Wash \\nCP-CD900 (Combo Washer-Dryer) \\nCapacity: 8kg \\nSpin Speed: 1200 RPM \\nEnergy Rating: A+++ Water Consumption: 50L per wash cycle \\nPrograms: Cotton, Synthetic, Delicate, Quick Wash, Eco Wash \\n3. Key Features \\n• Multiple Wash Programs: Choose from a variety of programs to suit different fabrics and \\nstains. \\n• Eco Wash: Reduces water and energy consumption while maintaining wash quality. \\n• Smart Diagnosis: Detects and alerts you to potential issues before they become serious \\nproblems. \\n4. Setup and Installation \\nStep-by-step instructions for setting up your CleanPro washing machine: \\n1. Unbox the washing machine and remove all packing materials. \\n2. Place the washing machine on a flat, stable surface near a water source and drain. \\n3. Connect the water inlet hose to a water tap and the drain hose to a drain outlet. \\n4. Plug in the washing machine and perform a test wash without laundry. \\n5. Usage Instructions \\nDetailed guidelines on using various features and optimizing performance: \\n• Select the appropriate wash program based on the type of laundry. \\n• Use the correct amount of detergent to avoid over-sudsing. \\n• Clean the detergent drawer and filter regularly to maintain performance. \\n6. Maintenance and Care \\nGuidelines for keeping your washing machine in top condition: \\n• Clean the drum and door seal regularly to prevent mold and mildew. \\n• Check the hoses for any leaks or damage and replace them if necessary. \\n• Run a maintenance wash with a washing machine cleaner once a month. 7. Troubleshooting \\nCommon issues and their solutions: \\nProblem: Washing Machine Not Draining \\nSolution: Check the drain hose for any blockages and ensure it is positioned correctly. \\nProblem: Excessive Vibration During Spin \\nSolution: Ensure the washing machine is level and all transit bolts have been removed. \\nProblem: Detergent Not Dispensing \\nSolution: Clean the detergent drawer and ensure it is properly inserted. \\n8. Warranty Information \\nComprehensive warranty details for your CleanPro washing machine: \\n• Coverage period: 2 years from the date of purchase. \\n• Includes free repair and replacement for manufacturing defects. \\n• Excludes damage caused by misuse or unauthorized modifications. \\n9. Customer Support \\nInformation on how to get support for your CleanPro washing machine: \\n• Visit our online support portal for FAQs and troubleshooting guides. \\n• Contact our support team via phone or email for personalized assistance. \\n• Locate the nearest service center for in-person support. '}\n",
      "{'filename': 'CompuTech_Laptop_FAQ.pdf', 'content': 'CompuTech Laptop FAQ \\n1. Product Overview \\nCompuTech offers a range of laptops to meet diverse computing needs. Our current lineup \\nincludes: \\n• CT-B500 (Business) \\n• CT-G700 (Gaming) \\n• CT-U300 (Ultralight) \\nEach model is engineered with high-performance components and innovative features to \\nenhance user experience. \\n2. Technical Specifications \\nCT-B500 (Business) \\nProcessor: Intel i7 \\nMemory: 16GB RAM \\nStorage: 512GB SSD \\nDisplay: 15.6-inch Full HD \\nGraphics: NVIDIA GTX 1650 \\nBattery Capacity: 6000mAh \\nCT-G700 (Gaming) \\nProcessor: Intel i7 \\nMemory: 16GB RAM \\nStorage: 512GB SSD \\nDisplay: 15.6-inch Full HD \\nGraphics: NVIDIA GTX 1650 \\nBattery Capacity: 6000mAh \\nCT-U300 (Ultralight) \\nProcessor: Intel i7 Memory: 16GB RAM \\nStorage: 512GB SSD \\nDisplay: 15.6-inch Full HD \\nGraphics: NVIDIA GTX 1650 \\nBattery Capacity: 6000mAh \\n3. Key Features \\n• High-Performance Processor: Ensures smooth and fast computing experience for all tasks. \\n• Advanced Graphics: Provides stunning visuals for gaming and multimedia. \\n• Long Battery Life: Offers extended usage without frequent recharging. \\n4. Setup and Installation \\nStep-by-step instructions for setting up your new CompuTech laptop: \\n1. Unbox the laptop and connect the charger. \\n2. Power on the laptop and follow the on-screen setup instructions. \\n3. Install essential software and updates. \\n5. Usage Instructions \\nDetailed guidelines on using various features and optimizing performance: \\n• Use the control panel to manage hardware settings. \\n• Customize the desktop environment for better productivity. \\n• Utilize power-saving modes to extend battery life. \\n6. Maintenance and Care \\nGuidelines for keeping your laptop in top condition: \\n• Regularly clean the keyboard and screen. \\n• Ensure proper ventilation to prevent overheating. \\n• Keep the software updated to enhance security and performance. 7. Troubleshooting \\nCommon issues and their solutions: \\nProblem: Slow Performance \\nSolution: Close unnecessary applications and check for malware. \\nProblem: Overheating \\nSolution: Ensure proper ventilation and clean the cooling fans. \\nProblem: Battery Not Charging \\nSolution: Check the charger and battery health. Replace if necessary. \\n8. Warranty Information \\nComprehensive warranty details for your CompuTech laptop: \\n• Coverage period: 2 years from the date of purchase. \\n• Includes free repair and replacement for manufacturing defects. \\n• Excludes damage caused by misuse or unauthorized modifications. \\n9. Customer Support \\nInformation on how to get support for your CompuTech laptop: \\n• Visit our online support portal for FAQs and troubleshooting guides. \\n• Contact our support team via phone or email for personalized assistance. \\n• Locate the nearest service center for in-person support. '}\n",
      "{'filename': 'CoolTech_Refrigerator_FAQ.pdf', 'content': 'CoolTech Refrigerator FAQ \\n1. Product Overview \\nCoolTech offers a variety of refrigerators to suit different household needs. Our current \\nlineup includes: \\n• CT-FD450 (French Door) \\n• CT-SBS500 (Side-by-Side) \\n• CT-TF400 (Top Freezer) \\nEach model is equipped with innovative cooling technology and convenient features. \\n2. Technical Specifications \\nCT-FD450 (French Door) \\nCapacity: 450L \\nDimensions: 70 x 36 x 33 inches \\nEnergy Rating: A++ \\nCooling Technology: Multi-Airflow System \\nFreezer Capacity: 150L \\nRefrigerator Capacity: 300L \\nCT-SBS500 (Side-by-Side) \\nCapacity: 450L \\nDimensions: 70 x 36 x 33 inches \\nEnergy Rating: A++ \\nCooling Technology: Multi-Airflow System \\nFreezer Capacity: 150L \\nRefrigerator Capacity: 300L \\nCT-TF400 (Top Freezer) \\nCapacity: 450L Dimensions: 70 x 36 x 33 inches \\nEnergy Rating: A++ \\nCooling Technology: Multi-Airflow System \\nFreezer Capacity: 150L \\nRefrigerator Capacity: 300L \\n3. Key Features \\n• Multi-Airflow System: Ensures uniform cooling throughout the refrigerator. \\n• Frost-Free Technology: Prevents ice build-up, reducing the need for manual defrosting. \\n• Digital Inverter Compressor: Adjusts cooling speed for efficient energy consumption. \\n4. Setup and Installation \\nStep-by-step instructions for setting up your CoolTech refrigerator: \\n1. Unbox the refrigerator and remove all packing materials. \\n2. Place the refrigerator on a flat, stable surface. \\n3. Connect the refrigerator to a power outlet and allow it to cool for a few hours before use. \\n5. Usage Instructions \\nDetailed guidelines on using various features and optimizing performance: \\n• Adjust the temperature settings according to the type of food stored. \\n• Use the humidity-controlled crisper drawers to keep fruits and vegetables fresh. \\n• Ensure proper spacing between items for better air circulation. \\n6. Maintenance and Care \\nGuidelines for keeping your refrigerator in top condition: \\n• Clean the interior and exterior regularly with a mild detergent. \\n• Check the door seals for any damage and replace them if necessary. \\n• Defrost the freezer compartment periodically to maintain efficiency. 7. Troubleshooting \\nCommon issues and their solutions: \\nProblem: Refrigerator Not Cooling \\nSolution: Check if the refrigerator is properly plugged in and the thermostat is set correctly. \\nProblem: Excessive Frost Build-Up \\nSolution: Ensure the door is closing properly and the seals are intact. \\nProblem: Unusual Noises \\nSolution: Check for any items obstructing the fan or compressor. \\n8. Warranty Information \\nComprehensive warranty details for your CoolTech refrigerator: \\n• Coverage period: 2 years from the date of purchase. \\n• Includes free repair and replacement for manufacturing defects. \\n• Excludes damage caused by misuse or unauthorized modifications. \\n9. Customer Support \\nInformation on how to get support for your CoolTech refrigerator: \\n• Visit our online support portal for FAQs and troubleshooting guides. \\n• Contact our support team via phone or email for personalized assistance. \\n• Locate the nearest service center for in-person support. '}\n",
      "{'filename': 'EcoControl_Smart_Home_Thermostat_FAQ.pdf', 'content': \"EcoControl Smart Home Thermostat \\nFAQ \\n1. Product Overview \\nEcoControl offers a range of smart home thermostats designed to provide comfort and \\nenergy efficiency. Our current lineup includes: \\n• EC-B10 (Basic) \\n• EC-L20 (Learning) \\n• EC-V30 (Voice-Controlled) \\nEach model is equipped with features to help you manage your home's climate effectively. \\n2. Technical Specifications \\nEC-B10 (Basic) \\nDisplay: 3.5-inch color LCD \\nConnectivity: Wi-Fi, Bluetooth \\nPower Source: Hardwired, Battery Backup \\nCompatibility: Works with most HVAC systems \\nSensors: Temperature, Humidity, Proximity \\nEC-L20 (Learning) \\nDisplay: 3.5-inch color LCD \\nConnectivity: Wi-Fi, Bluetooth \\nPower Source: Hardwired, Battery Backup \\nCompatibility: Works with most HVAC systems \\nSensors: Temperature, Humidity, Proximity \\nEC-V30 (Voice-Controlled) \\nDisplay: 3.5-inch color LCD \\nConnectivity: Wi-Fi, Bluetooth Power Source: Hardwired, Battery Backup \\nCompatibility: Works with most HVAC systems \\nSensors: Temperature, Humidity, Proximity \\n3. Key Features \\n• Energy Savings: Automatically adjusts temperature settings to save energy when you're \\naway. \\n• Smart Learning: Learns your schedule and preferences to optimize comfort and efficiency. \\n• Voice Control: Compatible with major voice assistants like Alexa and Google Assistant. \\n4. Setup and Installation \\nStep-by-step instructions for installing your EcoControl Smart Thermostat: \\n1. Turn off power to your HVAC system. \\n2. Remove your old thermostat and label the wires. \\n3. Mount the EcoControl thermostat base and connect the wires. \\n4. Attach the thermostat display and turn the power back on. \\n5. Follow the on-screen prompts to complete setup and connect to Wi-Fi. \\n5. Usage Instructions \\nDetailed guidelines on using various features and optimizing performance: \\n• Use the mobile app to remotely control your thermostat settings. \\n• Set schedules to automatically adjust temperatures based on your routine. \\n• Monitor energy usage and receive tips for saving energy. \\n6. Maintenance and Care \\nGuidelines for keeping your thermostat in top condition: \\n• Clean the display regularly with a soft, dry cloth. \\n• Replace the battery backup annually to ensure uninterrupted operation. \\n• Keep the firmware updated for optimal performance and security. 7. Troubleshooting \\nCommon issues and their solutions: \\nProblem: Thermostat Not Responding \\nSolution: Check the power connection and ensure the thermostat is properly installed. \\nProblem: Inaccurate Temperature Readings \\nSolution: Calibrate the thermostat and check for any obstructions blocking the sensors. \\nProblem: Unable to Connect to Wi-Fi \\nSolution: Restart the thermostat and router. Ensure you are using the correct Wi-Fi \\ncredentials. \\n8. Warranty Information \\nComprehensive warranty details for your EcoControl Smart Thermostat: \\n• Coverage period: 2 years from the date of purchase. \\n• Includes free repair and replacement for manufacturing defects. \\n• Excludes damage caused by misuse or unauthorized modifications. \\n9. Customer Support \\nInformation on how to get support for your EcoControl Smart Thermostat: \\n• Visit our online support portal for FAQs and troubleshooting guides. \\n• Contact our support team via phone or email for personalized assistance. \\n• Locate the nearest service center for in-person support. \"}\n",
      "{'filename': 'FitTech_Fitness_Tracker_FAQ.pdf', 'content': 'FitTech Fitness Tracker FAQ \\n1. Product Overview \\nFitTech offers a range of fitness trackers to help you monitor your health and fitness goals. \\nOur current lineup includes: \\n• FT-B100 (Basic) \\n• FT-A200 (Advanced) \\n• FT-P300 (Premium) \\nEach model is equipped with features to track your activity, heart rate, and more. \\n2. Technical Specifications \\nFT-B100 (Basic) \\nDisplay: 1.4-inch OLED \\nBattery Life: Up to 10 days \\nWater Resistance: 50 meters \\nConnectivity: Bluetooth 5.0 \\nSensors: Heart rate, accelerometer, gyroscope \\nCompatibility: iOS and Android \\nFT-A200 (Advanced) \\nDisplay: 1.4-inch OLED \\nBattery Life: Up to 10 days \\nWater Resistance: 50 meters \\nConnectivity: Bluetooth 5.0 \\nSensors: Heart rate, accelerometer, gyroscope \\nCompatibility: iOS and Android \\nFT-P300 (Premium) \\nDisplay: 1.4-inch OLED Battery Life: Up to 10 days \\nWater Resistance: 50 meters \\nConnectivity: Bluetooth 5.0 \\nSensors: Heart rate, accelerometer, gyroscope \\nCompatibility: iOS and Android \\n3. Key Features \\n• Activity Tracking: Monitor steps, distance, calories burned, and active minutes. \\n• Heart Rate Monitoring: Continuous heart rate tracking for better health insights. \\n• Sleep Analysis: Track your sleep patterns and get insights to improve your sleep quality. \\n4. Setup and Installation \\nStep-by-step instructions for setting up your FitTech fitness tracker: \\n1. Charge the tracker fully before first use. \\n2. Download the FitTech app from the App Store or Google Play. \\n3. Pair the tracker with your smartphone via Bluetooth. \\n4. Follow the in-app instructions to complete the setup process. \\n5. Usage Instructions \\nGuidelines on using various features and optimizing performance: \\n• Use the app to set goals and track your progress. \\n• Customize the watch face and notifications to suit your preferences. \\n• Sync the tracker with your phone regularly to keep data updated. \\n6. Maintenance and Care \\nTips for keeping your fitness tracker in top condition: \\n• Clean the band and tracker regularly to prevent skin irritation. \\n• Avoid exposing the tracker to extreme temperatures or direct sunlight. \\n• Keep the firmware updated for optimal performance. 7. Troubleshooting \\nCommon issues and their solutions: \\nProblem: Tracker Not Syncing \\nSolution: Ensure Bluetooth is enabled on your phone and restart both devices. \\nProblem: Inaccurate Step Count \\nSolution: Adjust the tracker fit and check the settings in the app. \\nProblem: Battery Draining Quickly \\nSolution: Reduce the frequency of notifications and disable unnecessary features. \\n8. Warranty Information \\nComprehensive warranty details for your FitTech fitness tracker: \\n• Coverage period: 1 year from the date of purchase. \\n• Includes free repair and replacement for manufacturing defects. \\n• Excludes damage caused by misuse or unauthorized modifications. \\n9. Customer Support \\nInformation on how to get support for your FitTech fitness tracker: \\n• Visit our online support portal for FAQs and troubleshooting guides. \\n• Contact our support team via phone or email for personalized assistance. \\n• Locate the nearest service center for in-person support. '}\n",
      "{'filename': 'PhotoPro_Digital_Camera_FAQ.pdf', 'content': 'PhotoPro Digital Camera FAQ \\n1. Product Overview \\nPhotoPro offers a range of digital cameras to cater to various photography needs. Our \\ncurrent lineup includes: \\n• PP-D5000 (DSLR) \\n• PP-M3000 (Mirrorless) \\n• PP-P1000 (Point-and-Shoot) \\nEach model is designed with advanced features to capture stunning images and videos. \\n2. Technical Specifications \\nPP-D5000 (DSLR) \\nResolution: 24.2MP \\nSensor Type: APS-C \\nISO Range: 100-25600 \\nDisplay: 3.0-inch LCD \\nVideo Resolution: 4K UHD at 30fps \\nBattery Life: 700 shots per charge \\nPP-M3000 (Mirrorless) \\nResolution: 24.2MP \\nSensor Type: APS-C \\nISO Range: 100-25600 \\nDisplay: 3.0-inch LCD \\nVideo Resolution: 4K UHD at 30fps \\nBattery Life: 700 shots per charge \\nPP-P1000 (Point-and-Shoot) \\nResolution: 24.2MP Sensor Type: APS-C \\nISO Range: 100-25600 \\nDisplay: 3.0-inch LCD \\nVideo Resolution: 4K UHD at 30fps \\nBattery Life: 700 shots per charge \\n3. Key Features \\n• High-Resolution Sensor: Capture detailed images with 24.2MP resolution. \\n• Fast Autofocus: Quick and accurate focusing for sharp photos. \\n• 4K Video Recording: Record high-quality videos with stunning clarity. \\n4. Setup and Installation \\nStep-by-step instructions for setting up your PhotoPro camera: \\n1. Insert the battery and memory card. \\n2. Attach the lens and remove the lens cap. \\n3. Power on the camera and set the date and time. \\n4. Adjust the settings according to your shooting preference. \\n5. Usage Instructions \\nGuidelines on using various features and optimizing performance: \\n• Use the mode dial to switch between different shooting modes. \\n• Adjust ISO, aperture, and shutter speed for better exposure. \\n• Use the viewfinder or LCD screen to compose your shots. \\n6. Maintenance and Care \\nTips for keeping your camera in top condition: \\n• Clean the lens and sensor regularly to avoid dust and smudges. \\n• Store the camera in a dry place and use a camera bag for protection. \\n• Update the firmware periodically for improved performance. 7. Troubleshooting \\nCommon issues and their solutions: \\nProblem: Blurry Images \\nSolution: Check the focus settings and use a tripod for stability. \\nProblem: Camera Not Powering On \\nSolution: Ensure the battery is charged and properly inserted. \\nProblem: Memory Card Error \\nSolution: Format the memory card in the camera and check for compatibility. \\n8. Warranty Information \\nComprehensive warranty details for your PhotoPro camera: \\n• Coverage period: 2 years from the date of purchase. \\n• Includes free repair and replacement for manufacturing defects. \\n• Excludes damage caused by misuse or unauthorized modifications. \\n9. Customer Support \\nInformation on how to get support for your PhotoPro camera: \\n• Visit our online support portal for FAQs and troubleshooting guides. \\n• Contact our support team via phone or email for personalized assistance. \\n• Locate the nearest service center for in-person support. '}\n",
      "{'filename': 'SoundWave_Wireless_Earbuds_FAQ.pdf', 'content': 'SoundWave Wireless Earbuds FAQ \\n1. Product Overview \\nSoundWave offers a range of wireless earbuds designed for different lifestyles. Our current \\nlineup includes: \\n• SW-S50 (Sport) \\n• SW-NC100 (Noise-Cancelling) \\n• SW-TW150 (True Wireless) \\nEach model delivers superior sound quality and advanced features for an enhanced \\nlistening experience. \\n2. Technical Specifications \\nSW-S50 (Sport) \\nBattery Life: 6 hours (earbuds), 24 hours (with charging case) \\nBluetooth Version: 5.0 \\nDriver Size: 10mm \\nFrequency Response: 20Hz - 20kHz \\nWater Resistance: IPX5 \\nSW-NC100 (Noise-Cancelling) \\nBattery Life: 6 hours (earbuds), 24 hours (with charging case) \\nBluetooth Version: 5.0 \\nDriver Size: 10mm \\nFrequency Response: 20Hz - 20kHz \\nWater Resistance: IPX5 \\nSW-TW150 (True Wireless) \\nBattery Life: 6 hours (earbuds), 24 hours (with charging case) \\nBluetooth Version: 5.0 \\nDriver Size: 10mm Frequency Response: 20Hz - 20kHz \\nWater Resistance: IPX5 \\n3. Key Features \\n• High-Quality Sound: Enjoy crystal clear audio with deep bass and balanced mids and \\nhighs. \\n• Active Noise Cancelling: Reduce ambient noise for an immersive listening experience. \\n• True Wireless Design: Experience total freedom with no wires to get in the way. \\n4. Setup and Installation \\nStep-by-step instructions for setting up your SoundWave wireless earbuds: \\n1. Remove the earbuds from the charging case. \\n2. Enable Bluetooth on your device and select the earbuds from the list of available devices. \\n3. Follow the pairing instructions displayed on your device. \\n5. Usage Instructions \\nDetailed guidelines on using various features and optimizing performance: \\n• Use touch controls to play/pause music, answer/end calls, and activate voice assistants. \\n• Switch between different noise cancelling modes using the app. \\n• Monitor battery status and customize settings through the SoundWave app. \\n6. Maintenance and Care \\nGuidelines for keeping your wireless earbuds in top condition: \\n• Regularly clean the earbuds and charging contacts with a soft, dry cloth. \\n• Store the earbuds in the charging case when not in use to protect them and keep them \\ncharged. \\n• Keep the firmware updated through the app for improved performance and new features. \\n7. Troubleshooting \\nCommon issues and their solutions: Problem: Earbuds Not Pairing \\nSolution: Ensure Bluetooth is enabled on your device and the earbuds are in pairing mode. \\nReset the earbuds if necessary. \\nProblem: Poor Sound Quality \\nSolution: Check the fit of the earbuds and clean any debris from the ear tips and speaker \\nmesh. \\nProblem: Battery Draining Quickly \\nSolution: Ensure the earbuds are properly seated in the charging case when not in use and \\ndisable any unnecessary features. \\n8. Warranty Information \\nComprehensive warranty details for your SoundWave wireless earbuds: \\n• Coverage period: 1 year from the date of purchase. \\n• Includes free repair and replacement for manufacturing defects. \\n• Excludes damage caused by misuse or unauthorized modifications. \\n9. Customer Support \\nInformation on how to get support for your SoundWave wireless earbuds: \\n• Visit our online support portal for FAQs and troubleshooting guides. \\n• Contact our support team via phone or email for personalized assistance. \\n• Locate the nearest service center for in-person support. '}\n",
      "{'filename': 'TechMobile_Smartphone_FAQ.pdf', 'content': 'TechMobile Smartphone FAQ \\n1. Product Overview \\nTechMobile offers a range of smartphones to suit various needs and preferences. Our \\ncurrent lineup includes: \\n• TM-S100 (Standard) \\n• TM-P200 (Pro) \\n• TM-L150 (Lite) \\nEach device is designed with cutting-edge technology to provide an exceptional user \\nexperience. \\n2. Technical Specifications \\nTM-S100 (Standard) \\nProcessor: Snapdragon 888 \\nMemory: 8GB RAM \\nStorage: 128GB \\nDisplay: 6.5-inch AMOLED, 1080x2400 pixels \\nCamera: 64MP main, 12MP ultra-wide, 5MP macro \\nBattery Capacity: 4500mAh \\nTM-P200 (Pro) \\nProcessor: Snapdragon 888 \\nMemory: 8GB RAM \\nStorage: 128GB \\nDisplay: 6.5-inch AMOLED, 1080x2400 pixels \\nCamera: 64MP main, 12MP ultra-wide, 5MP macro \\nBattery Capacity: 4500mAh \\nTM-L150 (Lite) \\nProcessor: Snapdragon 888 Memory: 8GB RAM \\nStorage: 128GB \\nDisplay: 6.5-inch AMOLED, 1080x2400 pixels \\nCamera: 64MP main, 12MP ultra-wide, 5MP macro \\nBattery Capacity: 4500mAh \\n3. Key Features \\n• AI-Enhanced Photography: The AI camera system optimizes settings for different scenes, \\nensuring stunning photos every time. \\n• 5G Connectivity: Experience blazing fast internet speeds with 5G support, allowing \\nseamless streaming and browsing. \\n• Advanced Security Measures: Includes facial recognition, fingerprint scanner, and secure \\nencryption to protect your data. \\n4. Battery Life \\nThe battery life of TechMobile smartphones is designed to last all day with moderate use. \\nFor heavy users, fast charging capabilities ensure you are never out of power for long. \\nTips for optimizing battery life: \\n• Reduce screen brightness and timeout duration. \\n• Disable background app refresh for non-essential apps. \\n• Use battery saver mode when needed. \\n5. Camera \\nTechMobile smartphones feature a versatile camera system with multiple lenses to suit \\ndifferent photography needs. From ultra-wide landscape shots to detailed macro \\nphotography, capture every moment with precision. \\nTips for best photography: \\n• Use Pro mode to manually adjust settings for optimal results. \\n• Experiment with different camera modes like Night, Portrait, and Panorama. \\n• Clean the camera lens regularly to avoid blurry images. 6. Connectivity \\nTechMobile smartphones support a wide range of connectivity options including: \\n• 5G and 4G LTE networks for fast mobile internet. \\n• Bluetooth 5.0 for quick and reliable connections with accessories. \\n• Dual-band Wi-Fi for stable and fast internet at home or work. \\n• NFC for easy contactless payments and data transfer. \\n7. Troubleshooting \\nHere are some common issues and their solutions: \\nProblem: Battery Draining Quickly \\nSolution: Check for power-hungry apps in settings and limit their usage. Enable battery \\nsaver mode. \\nProblem: Phone Overheating \\nSolution: Avoid using your phone while charging. Remove the case during intensive tasks to \\nhelp with heat dissipation. \\nProblem: Poor Network Connectivity \\nSolution: Restart your phone. Check for software updates. Reset network settings if the \\nproblem persists. '}\n",
      "{'filename': 'ViewMax_Smart_TV_FAQ.pdf', 'content': 'ViewMax Smart TV FAQ \\n1. Product Overview \\nViewMax offers a range of Smart TVs designed to deliver an immersive viewing experience. \\nOur current lineup includes: \\n• VM-O55 (OLED) \\n• VM-Q65 (QLED) \\n• VM-L50 (LED) \\nEach model is equipped with advanced technology and smart features to enhance your \\nentertainment. \\n2. Technical Specifications \\nVM-O55 (OLED) \\nScreen Size: 55 inches \\nResolution: 4K Ultra HD (3840 x 2160) \\nRefresh Rate: 120Hz \\nHDR: Dolby Vision, HDR10+ \\nSmart Platform: ViewMax OS \\nConnectivity: HDMI x 4, USB x 2, Wi-Fi, Ethernet \\nVM-Q65 (QLED) \\nScreen Size: 55 inches \\nResolution: 4K Ultra HD (3840 x 2160) \\nRefresh Rate: 120Hz \\nHDR: Dolby Vision, HDR10+ \\nSmart Platform: ViewMax OS \\nConnectivity: HDMI x 4, USB x 2, Wi-Fi, Ethernet \\nVM-L50 (LED) \\nScreen Size: 55 inches Resolution: 4K Ultra HD (3840 x 2160) \\nRefresh Rate: 120Hz \\nHDR: Dolby Vision, HDR10+ \\nSmart Platform: ViewMax OS \\nConnectivity: HDMI x 4, USB x 2, Wi-Fi, Ethernet \\n3. Key Features \\n• Stunning Picture Quality: Experience lifelike images with deep blacks and vibrant colors. \\n• Smart Features: Access popular streaming services, browse the internet, and use voice \\ncontrol. \\n• Advanced Audio: Enjoy immersive sound with Dolby Atmos support. \\n4. Setup and Installation \\nStep-by-step instructions for setting up your ViewMax Smart TV: \\n1. Unbox the TV and attach the stand or mount it on the wall. \\n2. Connect the TV to a power source and turn it on. \\n3. Follow the on-screen prompts to connect to Wi-Fi and sign in to your accounts. \\n4. Adjust picture and sound settings to your preference. \\n5. Usage Instructions \\nDetailed guidelines on using various features and optimizing performance: \\n• Use the home screen to access apps, live TV, and settings. \\n• Utilize the search function to quickly find content. \\n• Customize the picture and sound settings to suit different types of content. \\n6. Maintenance and Care \\nGuidelines for keeping your Smart TV in top condition: \\n• Clean the screen regularly with a soft, dry cloth. \\n• Ensure proper ventilation to prevent overheating. • Keep the firmware updated for optimal performance. \\n7. Troubleshooting \\nCommon issues and their solutions: \\nProblem: No Picture or Sound \\nSolution: Check the power connection and ensure the TV is turned on. Verify the input \\nsource. \\nProblem: Poor Picture Quality \\nSolution: Adjust the picture settings and check for any signal interference. \\nProblem: Unable to Connect to Wi-Fi \\nSolution: Restart the TV and router. Check if other devices can connect to the network. \\n8. Warranty Information \\nComprehensive warranty details for your ViewMax Smart TV: \\n• Coverage period: 1 year from the date of purchase. \\n• Includes free repair and replacement for manufacturing defects. \\n• Excludes damage caused by misuse or unauthorized modifications. \\n9. Customer Support \\nInformation on how to get support for your ViewMax Smart TV: \\n• Visit our online support portal for FAQs and troubleshooting guides. \\n• Contact our support team via phone or email for personalized assistance. \\n• Locate the nearest service center for in-person support. '}\n"
     ]
    }
   ],
   "source": [
    "dataset.show()"
   ]
  },
  {
   "cell_type": "markdown",
   "metadata": {},
   "source": [
    "## Vectorizing the data using sentence transformers"
   ]
  },
  {
   "cell_type": "code",
   "execution_count": 42,
   "metadata": {},
   "outputs": [
    {
     "name": "stderr",
     "output_type": "stream",
     "text": [
      "2024-10-19 15:45:27,979\tINFO streaming_executor.py:108 -- Starting execution of Dataset. Full logs are in C:\\Users\\Vipul\\AppData\\Local\\Temp\\ray\\session_2024-10-19_15-23-27_640146_1900\\logs\\ray-data\n",
      "2024-10-19 15:45:27,980\tINFO streaming_executor.py:109 -- Execution plan of Dataset: InputDataBuffer[Input] -> TaskPoolMapOperator[Map(split_sections)->Map(add_embeddings)] -> LimitOperator[limit=1]\n"
     ]
    },
    {
     "data": {
      "application/vnd.jupyter.widget-view+json": {
       "model_id": "c7e878f9d7ac4857a7a661b9925ee7db",
       "version_major": 2,
       "version_minor": 0
      },
      "text/plain": [
       "Running 0: 0.00 row [00:00, ? row/s]"
      ]
     },
     "metadata": {},
     "output_type": "display_data"
    },
    {
     "data": {
      "application/vnd.jupyter.widget-view+json": {
       "model_id": "ea4e71c5a84d43688594b6f3b05caabe",
       "version_major": 2,
       "version_minor": 0
      },
      "text/plain": [
       "- Map(split_sections)->Map(add_embeddings) 1: 0.00 row [00:00, ? row/s]"
      ]
     },
     "metadata": {},
     "output_type": "display_data"
    },
    {
     "data": {
      "application/vnd.jupyter.widget-view+json": {
       "model_id": "12c0711f74d640f0af4570ff25380983",
       "version_major": 2,
       "version_minor": 0
      },
      "text/plain": [
       "- limit=1 2: 0.00 row [00:00, ? row/s]"
      ]
     },
     "metadata": {},
     "output_type": "display_data"
    },
    {
     "name": "stdout",
     "output_type": "stream",
     "text": [
      "{'1. Product Overview': [-0.019733421504497528, -0.02898591198027134, 0.04973491653800011, -0.0383463092148304, -0.00798757653683424, -0.011916300281882286, -0.05135061591863632, -0.022328751161694527, -0.05514802783727646, -0.012471417896449566, 0.05268944054841995, -0.020419711247086525, 0.05925546959042549, -0.0383404903113842, 0.019626185297966003, 0.051284193992614746, 0.06684503704309464, 0.06356421858072281, -0.00542270066216588, -0.005997914355248213, -0.059939488768577576, 0.0798417404294014, 0.04974566772580147, -0.009518001228570938, -0.09346228092908859, 0.0047973585315048695, -0.0229222122579813, -0.11738171428442001, -0.015925630927085876, -0.08075936883687973, 0.03634943813085556, -0.03631165996193886, 0.009531721472740173, -0.02887299284338951, 0.05302103981375694, -0.016742542386054993, -0.0445123054087162, 0.008961837738752365, 0.018183106556534767, 0.0022640686947852373, -0.033541660755872726, -0.008550062775611877, -0.03682660683989525, 0.031172599643468857, 0.02498237043619156, 0.04836875572800636, -0.06715983897447586, -0.03404935449361801, 0.059731416404247284, -0.027213338762521744, 0.007432800251990557, -0.03097003512084484, 0.007647802121937275, 0.09566523134708405, -0.00990311149507761, -0.05380944535136223, -0.08545062690973282, -0.02552652917802334, 0.03816249966621399, -0.020742613822221756, -0.014857395552098751, 0.03133261576294899, 0.04299692064523697, -0.028504617512226105, 0.06858262419700623, 0.017606642097234726, -0.08882103115320206, -0.034857377409935, 0.020137319341301918, -0.006993379909545183, -0.08732938766479492, -0.012052328325808048, -0.00022712773352395743, 0.08607698976993561, -0.0019434785936027765, 0.035864051431417465, -0.019132569432258606, 0.012956649996340275, -0.04802103713154793, 0.013103719800710678, -0.04298129677772522, -0.07119188457727432, -0.01755477674305439, 0.01581967994570732, 0.001324531389400363, 0.02871922217309475, 0.014184360392391682, -0.024859443306922913, 0.05022162199020386, -0.01838335394859314, 0.018532460555434227, -0.009073520079255104, 0.035959720611572266, -0.08286973834037781, -0.06806857883930206, -0.030629493296146393, 0.036146700382232666, 0.04023795202374458, 0.0011627556523308158, 0.017560839653015137, -0.006569737568497658, -0.020171960815787315, 0.026919050142169, -0.0374344103038311, 0.007128479424864054, 0.011758560314774513, 0.0417398065328598, -0.015825409442186356, 0.05614669620990753, 0.0003621587820816785, -0.007663197815418243, -0.0789114460349083, -0.05428030341863632, -0.03547568619251251, 0.018443869426846504, -0.05426637828350067, 0.00046025545452721417, 0.03703942149877548, 0.012253286316990852, 0.03635721281170845, 0.013141294941306114, -0.07874557375907898, -0.035982947796583176, -0.046931032091379166, -0.009557721205055714, -0.027349203824996948, 0.028827669098973274, -2.5452097557591875e-34, 0.020294994115829468, 0.032092057168483734, -0.01165371760725975, -0.00370437977835536, -0.024650119245052338, 0.027312232181429863, 0.030967852100729942, 0.09364012628793716, 0.0392359159886837, 0.07317035645246506, -0.06316963583230972, 0.04751995950937271, -0.09083201736211777, 0.054399605840444565, -0.008699937723577023, -0.016733698546886444, -0.019477983936667442, -0.06920754164457321, 0.0004562399990390986, -0.01697583682835102, 0.023647574707865715, 0.09344105422496796, -0.041077688336372375, 0.0892987921833992, 0.0641743540763855, 0.020505419000983238, 0.04880111292004585, -0.024514298886060715, -0.0769820511341095, 0.026198312640190125, -0.0654648020863533, 0.10177693516016006, -0.07916513085365295, 0.08980319648981094, -0.11413615942001343, 0.02114783599972725, -0.08804626017808914, -0.0012968204682692885, -0.0203859880566597, -0.02443745918571949, -0.06371229141950607, 0.015560666099190712, -0.0710873007774353, -0.12677325308322906, 0.02553984709084034, -0.07298699021339417, -0.004323831293731928, 0.02711474522948265, 0.06201096624135971, 0.020494405180215836, -0.006974745076149702, 0.05536279454827309, -0.023696456104516983, 0.013682658784091473, -0.040972426533699036, -0.051313430070877075, 0.10360042750835419, 0.04850723594427109, -0.03953670337796211, 0.041748709976673126, -0.010968129150569439, 0.08130519092082977, -0.05137938633561134, 0.020302526652812958, 0.016204331070184708, -0.0037840965669602156, 0.06778234988451004, 0.01837255246937275, 0.06311493366956711, -0.026221081614494324, -0.06431622803211212, 0.07879085093736649, -0.01476700883358717, 0.016536420211195946, 0.0006855077808722854, -0.01613629423081875, -0.01930357702076435, -0.11509041488170624, 0.008040758781135082, 0.017774350941181183, -0.00665813684463501, 0.009686739183962345, -0.06110960617661476, 0.008730150759220123, 0.017859725281596184, -0.01782800629734993, -0.026995884254574776, 0.06372237950563431, -0.038669344037771225, -0.046602267771959305, 0.01703147403895855, 0.025872813537716866, -0.025665519759058952, 0.08850348740816116, -0.029206199571490288, -2.3287751644918955e-33, 0.11925413459539413, -0.02510843612253666, 0.057365238666534424, 0.10584820806980133, 0.039418913424015045, 0.014011675491929054, 0.0517473965883255, -0.022097866982221603, -0.055813152343034744, 0.025433562695980072, -0.047572579234838486, 0.0483446940779686, 0.0647466629743576, 0.05379629135131836, 0.07845362275838852, 0.08840127289295197, -0.09448033571243286, -0.16865141689777374, -0.07905903458595276, 0.01794532500207424, -0.0023194963578134775, 0.10222993046045303, -0.004107875283807516, -0.02727188915014267, -0.04071766510605812, 0.02076767198741436, -0.06456011533737183, 0.048574239015579224, 0.05426451936364174, 0.048941172659397125, -0.08725797384977341, 0.054074302315711975, 0.15535934269428253, 0.015021588653326035, 0.0051320516504347324, -0.08499825745820999, 0.009573922492563725, 0.0517544262111187, 0.032207831740379333, -0.0146143464371562, -0.008649243973195553, -0.0030745144467800856, -0.00903251487761736, 0.054278865456581116, 0.00029820765485055745, 0.00509854219853878, -0.03788574039936066, -0.010606554336845875, -0.03356534242630005, 0.02206457033753395, -0.004322884138673544, 0.03898497670888901, -0.11297391355037689, 0.004384650848805904, -0.026412714272737503, 0.06258692592382431, -0.030791528522968292, -0.0590822733938694, 0.010252808220684528, 0.004762642085552216, -0.01618865877389908, 0.08726707100868225, -0.017597103491425514, 0.09773076325654984, -0.0899585634469986, 0.02188563160598278, 0.09492112696170807, 0.0547688789665699, -0.04577856883406639, -0.057443153113126755, 0.019205521792173386, -0.008297204971313477, 0.10063356906175613, -0.07111597061157227, -0.03757380321621895, 0.003969547804445028, 0.03233257681131363, -0.04732866212725639, 0.03275343403220177, 0.023990806192159653, 0.000789749319665134, 0.017723919823765755, 0.05382585898041725, 0.06718829274177551, -0.007498867344111204, 0.02252182923257351, -0.11245278269052505, -0.057121776044368744, -0.004894901532679796, 0.08582223951816559, 0.006283714435994625, -0.0022558344062417746, 0.07294407486915588, 0.06499076634645462, -0.02134600654244423, -3.785596192074081e-08, 0.02397669479250908, 0.0121166305616498, 0.04376959055662155, 0.038589656352996826, 0.031299568712711334, -0.06547115743160248, -0.05301105976104736, 0.16411280632019043, -0.03159864991903305, 0.033261459320783615, 0.0793667659163475, -0.007794777397066355, -0.13424649834632874, 0.036560382694005966, 0.07434061914682388, -0.005040946416556835, 0.025074414908885956, 0.01713513769209385, -0.009198874235153198, -0.010257503017783165, -0.013307273387908936, -0.06613946706056595, 0.07701930403709412, 0.022940611466765404, -0.05697103962302208, 0.010043888352811337, -0.12014506757259369, -0.023657867684960365, -0.0037364268209785223, -0.005040267948061228, 0.003946299199014902, 0.02107059955596924, 0.004333398770540953, -0.05555682256817818, -0.019762568175792694, 0.017009606584906578, -0.08631564676761627, -0.06594894081354141, -0.040876299142837524, 0.022066261619329453, 0.08135392516851425, -0.01460975594818592, -0.08187046647071838, -0.023759273812174797, -0.0074352906085550785, -0.07701550424098969, -0.05122460052371025, -0.15494953095912933, -0.02423376590013504, -0.03236173838376999, -0.048374760895967484, -0.02768012508749962, -0.0799415186047554, 0.023971321061253548, 0.008487649261951447, 0.09739907085895538, 0.00662087369710207, -0.06670800596475601, -0.02548440545797348, 0.01509591843932867, 0.027280548587441444, 0.01727631874382496, 0.017321912571787834, -0.07719872146844864], '2. Technical Specifications': [-0.01870477758347988, 0.03941775858402252, -0.03972664475440979, -0.026736877858638763, 0.031596142798662186, -0.012945231050252914, 0.017543289810419083, 0.02166394330561161, -0.12164438515901566, 0.0028263612184673548, -0.0012490805238485336, -0.06350164115428925, 0.09942890703678131, -0.01853373646736145, -0.02024720422923565, 0.11385346204042435, 0.1475498527288437, -0.05708780884742737, -0.07141943275928497, 0.05574110895395279, 0.018278298899531364, 0.047654420137405396, 0.024269292131066322, 0.0021137958392500877, 0.05189739167690277, 0.011013584211468697, -0.020748300477862358, -0.0725935623049736, -0.054030731320381165, 0.025010230019688606, -0.016858281567692757, 0.021783439442515373, 0.024588828906416893, -0.016453241929411888, -0.01787714660167694, -0.06635736674070358, -0.03289606422185898, 0.021715331822633743, 0.04449847713112831, -0.039111796766519547, -0.08529091626405716, -0.028760802000761032, 0.005493626929819584, 0.04979867488145828, -0.03102344088256359, -0.005724072456359863, -0.012285911478102207, -0.02024579606950283, 0.059082966297864914, -0.02102569118142128, 0.010584087111055851, -0.009543979540467262, -0.029811738058924675, 0.06625699251890182, -0.004591974429786205, 0.024906355887651443, -0.08677029609680176, 0.006334712728857994, 0.058636296540498734, 0.01848096214234829, -0.057527095079422, 0.02545875869691372, 0.01281229592859745, -0.04048647731542587, 0.11303739994764328, -0.01486301515251398, -0.0440058559179306, -0.03656885400414467, 0.02250528894364834, 0.059966396540403366, -0.08990489691495895, -0.007195341866463423, -0.04024175927042961, -0.011033576913177967, -0.0013785338960587978, 0.028147375211119652, -0.04671904444694519, 0.040738362818956375, 7.344062851188937e-06, -0.08456546068191528, 0.010788547806441784, -0.021133365109562874, -0.010438046418130398, -0.011688117869198322, 0.07088213413953781, -0.04210799187421799, 0.06965872645378113, -0.018463803455233574, -0.06733299791812897, 0.0052019152790308, 0.030541423708200455, 0.03501023352146149, 0.008872922509908676, 0.034573994576931, -0.046337470412254333, 0.03750733286142349, -0.04849053919315338, 0.08138655871152878, -0.011889229528605938, -0.03694838285446167, 0.050153687596321106, -0.006907335482537746, 0.00681259436532855, -0.05459954962134361, -0.03672129660844803, -0.028987018391489983, 0.043424975126981735, 0.029188940301537514, -0.037031617015600204, 0.1090124174952507, 0.0575314462184906, 0.015879102051258087, -0.0997951403260231, -0.03670777007937431, -0.007025234866887331, 0.021028557792305946, -0.06147976219654083, 0.07363975048065186, 0.05698540806770325, -0.0005977853434160352, 0.03042377158999443, 0.012542206794023514, 0.03763351961970329, -0.07074707746505737, 0.04047854617238045, 0.007433991879224777, 0.009039849042892456, 5.166427710926513e-33, -0.05009480193257332, -0.02173999696969986, -0.011706613004207611, 0.007131391204893589, -0.06244249269366264, -0.03922189399600029, -0.05754708871245384, 0.06355948001146317, 0.03446692228317261, 0.09001222997903824, -0.040507249534130096, 0.07749933749437332, -0.0377100333571434, -0.012951703742146492, 0.03804206848144531, -0.029459601268172264, -0.059000805020332336, -0.06385921686887741, 0.030478836968541145, -0.025910912081599236, -0.017823681235313416, -0.013467561453580856, -0.04180406779050827, 0.11024736613035202, 0.1206248551607132, 0.031879134476184845, 0.047322288155555725, -0.03631902486085892, -0.07873613387346268, 0.04405900463461876, 0.0737420991063118, 0.06621092557907104, -0.09379198402166367, -0.027040788903832436, -0.08975304663181305, 0.017780276015400887, 0.042338065803050995, 0.02178812399506569, -0.033654265105724335, -0.06830757856369019, 0.002439996227622032, 0.03665230795741081, -0.08190125972032547, -0.07686148583889008, -0.0388922356069088, -0.01372658833861351, 0.02510031685233116, 0.0378437340259552, 0.022343464195728302, 0.01770440861582756, -0.04815690219402313, -0.05728067085146904, -0.06468554586172104, 0.12246198952198029, 0.04189430922269821, 0.008708993904292583, 0.09225469827651978, 0.04678728058934212, 0.03917345404624939, 0.06516296416521072, -0.029906902462244034, 0.02485237456858158, -0.002574592363089323, -0.016233908012509346, -0.024878647178411484, 0.053615719079971313, -0.032601065933704376, -0.006035470403730869, 0.004562400281429291, -0.10035873204469681, 0.04483785852789879, -0.043097808957099915, 0.03246384859085083, -0.01313458289951086, -0.01992132142186165, -0.011233382858335972, -0.022470295429229736, -0.043652623891830444, -0.06419570744037628, 0.039548829197883606, -0.06136319041252136, 0.01856101304292679, -0.014594043605029583, 0.0027954766992479563, 0.03461754322052002, -0.07806248217821121, -0.006733877118676901, -0.045067157596349716, -0.13810165226459503, 0.0238568726927042, 0.030641963705420494, 0.04096880927681923, 0.0037835778202861547, 0.009119032882153988, -0.0420386865735054, -5.501120339964389e-33, 0.058842044323682785, 0.0211857371032238, 0.0324392095208168, 0.1006581261754036, 0.041587360203266144, 0.02757442183792591, 0.018273716792464256, 0.002489779843017459, -0.014227848500013351, -0.001248177490197122, -0.04546387493610382, -0.04066697508096695, -0.019144300371408463, 0.044910166412591934, 0.08500847965478897, 0.032108377665281296, -0.04935266822576523, -0.13745884597301483, -0.040731001645326614, 0.08715958148241043, 0.02032487839460373, 0.05049287900328636, 0.023863131180405617, -0.023530263453722, -0.03865982964634895, 0.01866568811237812, -0.0016327762277796865, 0.020447859540581703, 0.0906095877289772, 0.004485149867832661, -0.07585427165031433, 0.05813445895910263, 0.0019198382506147027, 0.05716528743505478, -0.034095797687768936, -0.12355852127075195, 0.060183700174093246, 0.057020287960767746, -0.011439262889325619, -0.055853404104709625, -0.03555486351251602, 0.11298421770334244, -0.01551687903702259, -0.06901373714208603, 0.011742699891328812, 0.03831219673156738, 0.006678604055196047, -0.029158351942896843, -0.01902959495782852, -0.015835853293538094, 0.14726601541042328, -0.032220371067523956, -0.025536758825182915, 0.08744765818119049, -0.02090499736368656, 0.020871363580226898, 0.02415096014738083, -0.03866306692361832, -0.0035180412232875824, -0.13263756036758423, 0.10112091153860092, 0.05911155045032501, -0.04490549489855766, 0.05060625821352005, -0.07025868445634842, 0.0978248342871666, 0.054646506905555725, 0.04157959297299385, -0.020224707201123238, -0.015313749201595783, 0.0244755819439888, -0.07391273975372314, 0.06443002074956894, -0.04901234805583954, -0.09009692072868347, 0.06664621829986572, 0.027832455933094025, -0.032249268144369125, -0.00165629165712744, -0.022489413619041443, -0.07526584714651108, 0.056734342128038406, -0.006281513255089521, -0.031568340957164764, -0.00536254933103919, 0.02366022765636444, -0.041431643068790436, -0.05481911078095436, 0.003867809195071459, 0.07531613856554031, -0.010961366817355156, -0.01059981994330883, -0.056976012885570526, 0.05188038572669029, -0.013983629643917084, -4.297484323956269e-08, -0.02305220067501068, 0.01229285728186369, 0.015800010412931442, -0.04123818501830101, 0.10723800957202911, 0.01667594350874424, 0.01150500774383545, 0.09031187742948532, 0.03297620266675949, 0.0782853364944458, 0.11588936299085617, -0.04869316145777702, -0.08427498489618301, 0.06822467595338821, 0.03494108095765114, -0.05067649111151695, -0.03296031430363655, 0.0175958052277565, 0.00038417152245528996, -0.028927698731422424, -0.05186597257852554, 0.030785810202360153, 0.011662445031106472, -0.0032884536776691675, -0.02079683169722557, 0.07314591854810715, -0.004771749023348093, -0.06363734602928162, -0.0049890028312802315, -0.029561273753643036, -0.07543773204088211, 0.05318055301904678, -0.06452062726020813, -0.08566884696483612, -0.06837612390518188, -0.037267234176397324, 0.012834449298679829, -0.06934609264135361, 0.05588112771511078, 0.05816446989774704, 0.031099064275622368, -0.09468778967857361, -0.022710734978318214, -0.007321607321500778, 0.02340736798942089, -0.07856061309576035, -0.03992341086268425, -0.009361354634165764, -0.06905364990234375, -0.00035315181594341993, 0.016884097829461098, 0.023624418303370476, -0.07278124243021011, -0.0477445162832737, 0.04665502905845642, 0.13784359395503998, -0.030169058591127396, 0.0022552278824150562, -0.02998923510313034, 0.02719792164862156, 0.003968045115470886, -0.004437399096786976, -0.07057195901870728, -0.04078921675682068], '3. Key Features': [-0.04051974043250084, 0.03651083633303642, 0.09795572608709335, -0.012610025703907013, 0.050637196749448776, -0.07026326656341553, 0.07003921270370483, -0.017341753467917442, -0.09603038430213928, 0.04215092211961746, 0.06506913155317307, 0.05691104382276535, 0.027090076357126236, -0.018815824761986732, -0.06279289722442627, 0.009152701124548912, 0.033202189952135086, 0.00964355655014515, -0.05302516371011734, -0.029885726049542427, -0.0025352754164487123, 0.02052222192287445, 0.020648475736379623, 0.03245428204536438, -0.0880015566945076, 0.04055221751332283, -0.053534675389528275, -0.10807269811630249, -0.023426709696650505, -0.042011283338069916, 0.03599917143583298, 0.009694927372038364, 0.03125748783349991, -0.03304017707705498, -0.07213401049375534, -0.031030772253870964, 0.07130839675664902, -0.01778019405901432, -0.04544490575790405, -0.02308236062526703, -0.059778597205877304, -0.0935138687491417, -0.05502046272158623, 0.01602858304977417, -0.003907759208232164, 0.04232536628842354, -0.04198451712727547, -0.07223443686962128, 0.021076684817671776, -0.036749597638845444, 0.006462611723691225, -0.03462893143296242, 0.003222442464902997, -0.007870413362979889, 0.010301678441464901, 0.06630342453718185, -0.04809029772877693, -0.10697798430919647, 0.005507123656570911, -0.00511706480756402, 0.08838677406311035, 0.023304127156734467, -0.06246225908398628, 0.04601530730724335, 0.10507261753082275, -0.013795641250908375, 0.002926718909293413, -0.014204711653292179, 0.048505280166864395, 0.018526136875152588, -0.028515435755252838, -0.020464910194277763, 0.014517754316329956, 0.04455612227320671, 0.053605176508426666, -0.030782649293541908, -0.0796855241060257, -0.08861492574214935, -0.004866443108767271, -0.03679359704256058, -0.02094421349465847, -0.020739084109663963, -0.009757012128829956, 0.07346288114786148, 0.05756554380059242, 0.0034159382339566946, -0.030714821070432663, -0.09769944846630096, 0.036428436636924744, -0.03640948608517647, 0.042991429567337036, -0.004299761261790991, -0.03597354143857956, -0.09998549520969391, 0.011261715553700924, 0.004072797484695911, -0.022138342261314392, -0.018020976334810257, -0.03806266188621521, 0.02785598859190941, 0.007021376863121986, 0.009456868283450603, -0.02313835546374321, -0.017032882198691368, -0.016891222447156906, -0.0004691601498052478, 0.04792052507400513, 0.006796503439545631, 0.005552965681999922, 0.03223276138305664, -0.055402349680662155, -0.028176797553896904, -0.06516332179307938, -0.04395199567079544, -0.02181602455675602, 0.035301923751831055, -0.034855302423238754, 0.04100755229592323, 0.04408822953701019, 0.017896978184580803, -0.0008731260895729065, -0.04391348734498024, 0.003044384066015482, -0.023281779140233994, 0.07299693673849106, 0.012966635636985302, -0.024975541979074478, 5.3729674866602625e-34, -0.013339783996343613, 0.05300174281001091, -0.04085147753357887, -0.011454408057034016, 0.0018388365861028433, -0.01199998427182436, -0.030624954029917717, -0.020878376439213753, 0.048084694892168045, 0.12357164174318314, -0.0051767462864518166, 0.10434314608573914, -0.0513603612780571, 0.0436299666762352, 0.08825603127479553, -0.03078795038163662, -0.027171431109309196, -0.011487800627946854, 0.016689347103238106, -0.020774925127625465, 0.05321767181158066, 0.007738403510302305, -0.0052132378332316875, 0.03742194548249245, 0.1302046775817871, 0.033686764538288116, 0.0026359555777162313, 0.0658445805311203, -0.025249408558011055, 0.05174286663532257, 0.018469829112291336, 0.024122580885887146, -0.12100941687822342, 0.06202090159058571, -0.11007954180240631, 0.012320139445364475, -0.11328103393316269, -0.05442697927355766, -0.002631187904626131, -0.01366444118320942, -0.049963824450969696, 0.006644086446613073, -0.04450686275959015, -0.05778438597917557, -0.016531411558389664, -0.05727962404489517, 0.014676416292786598, 0.02764991670846939, 0.05710244178771973, 0.021348953247070312, 0.04776306077837944, 0.007729512173682451, -0.05687010660767555, -0.020518828183412552, -0.03212996572256088, 0.03395509719848633, 0.07752397656440735, -0.052116118371486664, 0.019386669620871544, 0.0544867068529129, -0.030631303787231445, 0.001703254529275, -0.0335729643702507, -0.0074359336867928505, 0.07488276809453964, 0.034530702978372574, 0.12843796610832214, 0.06134754419326782, 0.08414802700281143, -0.08538617193698883, -0.08606560528278351, -0.012271754443645477, -0.02387104742228985, 0.03161377087235451, -0.03874782472848892, -0.015823574736714363, -0.06054637208580971, -0.055062904953956604, -0.029263410717248917, 0.03531916067004204, -0.06330842524766922, 0.03659293055534363, 0.04722142592072487, 0.058798499405384064, 0.051054395735263824, -0.05013372004032135, 0.010976671241223812, -0.038845617324113846, -0.0962030440568924, 0.009976710192859173, 0.0370948426425457, 0.05694394186139107, -0.03367164731025696, 0.03375772014260292, -0.08329536765813828, -2.108082528609742e-33, 0.08791644126176834, -0.021507350727915764, -0.014122900553047657, 0.1355562061071396, -0.06759770959615707, 0.03856387361884117, -0.003851080546155572, -0.00024946097983047366, -0.0729709267616272, -0.0035470423754304647, -0.055223118513822556, 0.05052616447210312, 0.03988936170935631, -0.007176438812166452, 0.06365325301885605, 0.0735006183385849, -0.018638787791132927, -0.16825921833515167, -0.08413413166999817, 0.04158159717917442, 0.05853540450334549, 0.09698403626680374, 0.0011983149452134967, -0.015329623594880104, -0.09832131117582321, -0.002273516496643424, -0.07877218723297119, 0.029801594093441963, 0.004630976356565952, 0.026432236656546593, 0.0009361215634271502, 0.007221283856779337, 0.10149744898080826, -0.055127065628767014, -0.0027138972654938698, -0.07685219496488571, 0.061596665531396866, 0.026206521317362785, -0.03501499444246292, -0.003235246753320098, 0.07756278663873672, 0.005545943044126034, 0.06185882166028023, 0.028213374316692352, -0.040656011551618576, 0.05637240409851074, -0.05420038849115372, 0.017961738631129265, -0.09344424307346344, -0.009544417262077332, 0.049476560205221176, -0.046842657029628754, -0.059310805052518845, 0.007969976402819157, 0.017465459182858467, 0.09357447177171707, -0.022701341658830643, -0.04448286443948746, -0.02528196945786476, -0.024656005203723907, 0.0905124694108963, 0.051120027899742126, -0.05604381114244461, 0.08993411809206009, -0.03224983438849449, 0.008477910421788692, 0.0619632713496685, 0.04334245249629021, -0.0490727461874485, -0.04131709784269333, 0.04376552999019623, -0.0066918921656906605, 0.020090848207473755, -0.04976505786180496, -0.061987992376089096, 0.023128163069486618, 0.06140347570180893, -0.06988026946783066, -0.01985817775130272, 0.01239400077611208, -0.06476666033267975, -0.03720947355031967, -0.015543222427368164, 0.011068779975175858, -0.008020846173167229, -0.019517559558153152, -0.0632018968462944, -0.04537266492843628, 0.03387933596968651, 0.01748780533671379, -0.01998600922524929, 0.011178738437592983, -0.044826243072748184, 0.08083310723304749, -0.05834316834807396, -3.248764812724403e-08, -0.006681864615529776, 0.02621517702937126, 0.07894663512706757, 0.02183777280151844, -0.0057771350257098675, -0.03761034458875656, 0.02145852893590927, 0.18327678740024567, -0.01587035320699215, 0.016971809789538383, 0.04537660628557205, -0.05447148159146309, -0.12289804220199585, 0.054831940680742264, 0.11170529574155807, -0.020613767206668854, -0.015834970399737358, 0.12152335047721863, -0.08962580561637878, -0.05446704849600792, 0.011962544173002243, -0.006539246067404747, 0.03092324361205101, 0.04315992444753647, 0.0077732522040605545, 0.011400127783417702, 0.006795617286115885, 0.008259708061814308, 0.04209808632731438, -0.007368796970695257, -0.03249111771583557, 0.015562706626951694, 0.02085292711853981, 0.004357288125902414, -0.049094364047050476, 0.10806605964899063, -0.013126814737915993, -0.0780901089310646, 0.028329208493232727, -0.03230858966708183, 0.030061380937695503, 0.061889421194791794, -0.08829352259635925, 0.0053806789219379425, -0.006854134611785412, -0.04014146700501442, -0.009545308537781239, -0.01659664325416088, -0.020285045728087425, -0.0010557201458141208, -0.005539479199796915, 0.017428377643227577, -0.0004465780220925808, 0.06340175122022629, 0.018234018236398697, 0.06497661024332047, 0.07288024574518204, -0.07458432018756866, 0.06764553487300873, 0.08525175601243973, 0.06092303246259689, -0.006591211538761854, -0.07292069494724274, -0.03463999554514885], '4. Setup and Installation': [0.006316137034446001, 0.04649203270673752, 0.008071795105934143, -0.01243145577609539, 0.0033785628620535135, -0.03490732982754707, -0.03892286866903305, -0.016423644497990608, -0.09021159261465073, 0.03462181240320206, 0.06134018301963806, -0.052417341619729996, 0.07664363086223602, -0.01820273883640766, -0.015356592833995819, -0.011042372323572636, -7.485370588256046e-05, 0.08683141320943832, 0.0073538850992918015, 0.023403620347380638, 0.01119257602840662, -0.0015867489855736494, 0.0852314680814743, -0.10833356529474258, -0.017909158021211624, 0.05104222148656845, 0.03901543468236923, -0.07537921518087387, -0.013976488262414932, -0.03184051811695099, 0.0323859304189682, -0.10378168523311615, 0.06901290267705917, -0.02753312885761261, 0.06830261647701263, 0.03227618336677551, -0.02370680309832096, -0.015173829160630703, -0.00611403351649642, 0.023694414645433426, 0.03516240045428276, -0.06362801790237427, -0.028696177527308464, -0.048121366649866104, -0.01436754409223795, 0.06302792578935623, -0.04485272616147995, -0.00991884246468544, 0.08565360307693481, 0.015204472467303276, -0.002483049873262644, 0.00378453079611063, 0.06697802245616913, -0.0016355684492737055, -0.11552682518959045, -0.024079089984297752, 0.004788525402545929, 0.022576650604605675, 0.04209761694073677, -0.10819966346025467, -0.023450631648302078, -0.029990069568157196, 0.03374623879790306, -0.012392513453960419, 0.004450295586138964, -0.003626219229772687, -0.0240431297570467, 0.05506916344165802, 0.0022653788328170776, 0.0183939840644598, 0.017521338537335396, 0.030608665198087692, -0.030357152223587036, -0.0017122402787208557, -0.03924550488591194, 0.002482530428096652, 0.01709183119237423, 0.03263026475906372, -0.03545788303017616, 0.07542071491479874, -0.008262218907475471, -0.025410320609807968, 0.024607017636299133, 0.0668439269065857, 0.014463911764323711, 0.03381813317537308, 0.03589203208684921, -0.03357086703181267, 0.04664306715130806, -0.08982323110103607, 0.06398242712020874, -0.014553672634065151, -0.022666387259960175, -0.07172507792711258, 0.0018418164690956473, 0.003527479013428092, -0.029087943956255913, 0.008258532732725143, -0.058378543704748154, 0.020587652921676636, 0.0067398021928966045, -0.004017324186861515, 0.0012323486153036356, -0.028031274676322937, -0.0025032965932041407, -0.0441993772983551, -0.04977419972419739, 0.028472134843468666, 0.05755145847797394, -0.06685955822467804, 0.018720844760537148, -0.07603521645069122, 0.0005887422012165189, 0.026399508118629456, 0.07536937296390533, 0.07488682121038437, -0.0006909104413352907, 0.02073771506547928, -0.006961076520383358, -0.07626473158597946, 0.09080611914396286, -0.05105527490377426, -0.06352251023054123, -0.08723872900009155, 0.03182399645447731, 0.056869104504585266, 0.03157085180282593, -2.1372388292719657e-33, 0.049859669059515, -0.033167414367198944, 0.05868343263864517, -0.020671145990490913, -0.005184865556657314, -0.011825695633888245, 0.043011195957660675, 0.09631746262311935, 0.016939492896199226, 0.07391809672117233, -0.008403400890529156, 0.009851432405412197, -0.05248454585671425, 0.016942903399467468, -0.07228042930364609, -0.04956503212451935, 0.004937535617500544, -0.0770224779844284, 0.044883210211992264, 0.00010676898091332987, 0.07230766862630844, 0.006773817352950573, -0.016504839062690735, 0.024856407195329666, 0.02482885867357254, 0.06095733493566513, 0.0029817302711308002, -0.06302247196435928, -0.04449434578418732, 0.014488239772617817, -0.024468939751386642, 0.050441451370716095, -0.056329939514398575, 0.07749329507350922, -0.07122684270143509, 0.035075750201940536, -0.04074417054653168, 0.08077585697174072, -0.008815144188702106, -0.006202607415616512, -0.01834547519683838, -0.06641003489494324, -0.03562219813466072, -0.11625108122825623, 0.04918048158288002, -0.032883986830711365, 0.014640970155596733, -0.07430090755224228, 0.10918232798576355, 0.04770892858505249, 0.013457308523356915, -0.0513894185423851, -0.023648107424378395, 0.01846601814031601, 0.0014539200346916914, -0.07096602767705917, 0.029031213372945786, -0.03379087522625923, -0.02948918007314205, -0.04622383415699005, 0.02131497487425804, -0.03155003488063812, -0.019911374896764755, 0.021626627072691917, -0.04729064553976059, -0.0668473020195961, -0.0051949843764305115, 0.04286805912852287, 0.06282739341259003, -0.010074165649712086, -0.0665457621216774, 0.11026094108819962, -0.0582733079791069, -0.017140215262770653, -0.08437447994947433, 0.07974566519260406, -0.009927277453243732, -0.011472833342850208, 0.01695713959634304, -0.04714254289865494, 0.03695199638605118, -0.03518490120768547, -0.06054624542593956, -0.016553789377212524, 0.004982381593436003, -0.01869777962565422, -0.03747396916151047, 0.12451893836259842, 0.016225827857851982, -0.05232226476073265, 0.021527264267206192, 0.047030795365571976, -0.010956005193293095, -0.022311285138130188, 0.02890736795961857, -1.844807977211036e-33, 0.09864161908626556, -0.06659339368343353, 0.024370724335312843, 0.04283076524734497, -0.0412166453897953, 0.0417746938765049, 0.024643663316965103, -0.055325962603092194, 0.007261540740728378, 0.0719367042183876, -0.15014153718948364, 0.08095905184745789, 0.026743028312921524, 0.02101982943713665, 0.10072986036539078, 0.07941940426826477, -0.060494303703308105, 0.00895051471889019, -0.01972590759396553, 0.025987533852458, -0.060676269233226776, 0.08424720168113708, 0.06753632426261902, 0.047163400799036026, -0.015838483348488808, -0.09235996007919312, 0.07313568890094757, -0.009951100684702396, 0.09051979333162308, 0.07346738874912262, -0.059593550860881805, 0.004288012161850929, 0.0676838830113411, 0.06308722496032715, 0.022740302607417107, -0.045431625097990036, 0.005427466239780188, 0.02076791599392891, 0.053485363721847534, -0.06560225039720535, -0.02011503092944622, -0.03360564634203911, -0.1334550976753235, -0.009835166856646538, 0.03450119495391846, -0.06962372362613678, -0.06082502380013466, -0.007931808941066265, -0.08581887930631638, 0.026518579572439194, -0.05566014349460602, -0.011497197672724724, -0.05540049448609352, -0.002651381539180875, -0.07166668772697449, 0.049985453486442566, 0.10445060580968857, 0.011645819991827011, -0.00018830214685294777, 0.03946606442332268, -0.07762890309095383, 0.007671818602830172, 0.027698885649442673, 0.01818569377064705, -0.13133658468723297, -0.016881464049220085, 0.0852578729391098, 0.10108349472284317, -0.0115940747782588, -0.015005894936621189, -0.14187031984329224, -0.035942982882261276, 0.04710646718740463, -0.01929008588194847, -0.02323300577700138, -0.015177149325609207, -0.03376197814941406, -0.04221682623028755, 0.014819365926086903, -0.022866128012537956, 0.05711087957024574, 0.017382588237524033, 0.03689529374241829, -0.00926249474287033, -0.11872512102127075, -0.02847948670387268, 0.03856682404875755, -0.008631515316665173, -0.0425245575606823, -0.027804598212242126, -0.046834468841552734, -0.04800258204340935, 0.06941119581460953, 0.11524757742881775, -0.045547764748334885, -3.3641029517639254e-08, 0.019858472049236298, 0.000910489703528583, 0.08634781092405319, 0.055175796151161194, -0.015691684558987617, 0.004834292456507683, -0.007888739928603172, 0.11387705057859421, -0.048833172768354416, -0.06056009605526924, -0.012371447868645191, 0.018603211268782616, -0.04773248732089996, 0.04268547147512436, 0.05541577190160751, 0.09561703354120255, -0.029392540454864502, 0.06053009629249573, -0.006659301463514566, -0.005575940478593111, -0.00010104363900609314, -0.07976329326629639, 0.06534163653850555, 0.06047737970948219, 0.014944424852728844, 0.03338633477687836, -0.02165541797876358, 0.01348033081740141, -0.013286761939525604, -0.05307888239622116, -0.04056845232844353, -0.007326021790504456, -0.035034723579883575, -0.004837874788790941, -0.017768042162060738, -0.009255166165530682, -0.06614954769611359, -0.08581595867872238, 0.06076302006840706, -0.023657096549868584, 0.027030499652028084, 0.04420972615480423, -0.06914322823286057, -0.0831083208322525, -0.07224754989147186, 0.013512758538126945, 0.039375387132167816, -0.11385419964790344, -0.05831817165017128, 0.0828789547085762, -0.03011990152299404, -0.03834298625588417, 0.012914510443806648, 0.03864724561572075, 0.034602127969264984, 0.09406178444623947, -0.0069206953048706055, -0.06190969794988632, -0.014800992794334888, 0.027806229889392853, 0.0622512511909008, 0.11433257162570953, 0.029117632657289505, -0.07529038190841675], '5. Usage Instructions': [-0.020135998725891113, 0.03540390357375145, -0.005834527313709259, -0.04434661567211151, -0.015133366920053959, -0.0323968231678009, 0.021523812785744667, 0.02504541352391243, -0.07112384587526321, 0.0010143461404368281, -0.009916489943861961, 0.0365193635225296, 0.004183661658316851, 0.02285463735461235, 0.019377948716282845, 0.0039008217863738537, 0.11263071000576019, 0.02816707268357277, 0.0006098043522797525, -0.05974474549293518, 0.0038445896934717894, -0.06414800882339478, 0.07463064789772034, -0.011338550597429276, -0.02176712453365326, 0.021122951060533524, -0.013827517628669739, -0.023449882864952087, 0.046240031719207764, -0.008570893667638302, 0.03306936100125313, -0.008066129870712757, 0.05859524756669998, 0.02107379212975502, -0.05835866555571556, -0.021691465750336647, 0.0025540878996253014, 0.000723973207641393, 0.005839798133820295, -0.015954414382576942, -0.02058827131986618, -0.02994501404464245, -0.09630859643220901, 0.03280726075172424, 0.053885966539382935, 0.030913321301341057, -0.03423912823200226, -0.029171492904424667, 0.007562388200312853, -0.019731832668185234, 0.0778728649020195, 0.003319820389151573, 0.015296132303774357, -0.005856577306985855, -0.016149353235960007, 0.048750270158052444, 0.031127821654081345, -0.02771795354783535, 0.028843970969319344, 0.03107130527496338, 0.030200811102986336, -1.67145008163061e-05, -0.05709400400519371, 0.06527627259492874, 0.07065647840499878, -0.004494324326515198, 0.022919204086065292, -0.045263923704624176, 0.08822853863239288, -0.029753459617495537, -0.08359628915786743, 0.03488074615597725, 0.008869508281350136, -0.04401617497205734, -0.09992463886737823, -0.017900411039590836, -0.02858685329556465, -0.054980479180812836, -0.12293180823326111, -0.07661711424589157, -0.022032616659998894, -0.036994509398937225, -0.0035852836444973946, 0.05688536912202835, 0.061197828501462936, 0.020024864003062248, -0.016740063205361366, -0.07446703314781189, 0.01392914168536663, -0.00041534972842782736, 0.07899276912212372, 0.13238435983657837, -0.014334479346871376, -0.11144154518842697, -0.0012131594121456146, 0.05020610988140106, -0.014440108090639114, -0.018511641770601273, -0.04227680340409279, 0.037821318954229355, 0.0499153770506382, -0.06816624850034714, -0.028956273570656776, -0.012621062807738781, 0.05531797930598259, -0.010267330333590508, -0.004068652633577585, -0.0013715713284909725, -0.020221708342432976, 0.033156868070364, 0.019028499722480774, 0.014734910801053047, -0.03163556009531021, -0.0036579917650669813, 0.054343584924936295, 0.06568678468465805, -0.016187377274036407, 0.02335253357887268, 0.052965983748435974, 0.13396112620830536, 0.02587868459522724, -0.07174596190452576, -0.05962377414107323, -0.07310138642787933, 0.02378634363412857, 0.04942234605550766, 0.01245736051350832, -1.6000472781667885e-33, -0.012551774270832539, 0.01761140488088131, -0.04159606620669365, -0.03890574723482132, -0.05904797837138176, 0.03524527698755264, -0.011056273244321346, 0.04683874920010567, 0.08488484472036362, 0.024962767958641052, -0.011828908696770668, 0.06301525235176086, -0.09622637182474136, -0.00894132535904646, 0.08998465538024902, -0.018817681819200516, 0.0026338929310441017, 0.04279936105012894, -0.014456677250564098, -0.028378648683428764, 0.05657118931412697, -0.1517672836780548, -0.08311428129673004, 0.09374235570430756, 0.07245248556137085, 0.04286883771419525, 0.10050967335700989, 0.01319222990423441, -0.03924672678112984, 0.03771739825606346, 0.01133202388882637, -0.005110539961606264, -0.11796755343675613, 0.06518407166004181, -0.09186659008264542, 0.05476777255535126, -0.0760001540184021, -0.0031874212436378, 0.030170969665050507, -0.013504669070243835, -0.10774382948875427, 0.05197828635573387, -0.023557834327220917, -0.07981818914413452, -0.03258443996310234, -0.03300522267818451, -0.02615729346871376, -0.0009022914455272257, -0.012139077298343182, 0.08083704859018326, 0.03875412046909332, 0.0037085344083607197, 0.023634353652596474, 0.019069291651248932, -0.05851014703512192, 0.05602935329079628, 0.083738774061203, -0.08864306658506393, 0.008115673437714577, 0.020168503746390343, -0.02411682903766632, -0.04706348478794098, -0.07808928936719894, 0.0070351893082261086, -0.02685096673667431, 0.05539204552769661, 0.05819347873330116, 0.026256009936332703, -0.00818629004061222, -0.03015821985900402, -0.05332794412970543, 0.022287949919700623, 0.006665756925940514, -0.02969464287161827, -0.006698067765682936, -0.022301414981484413, 0.025773024186491966, 0.0031235686037689447, -0.11753793805837631, -0.04136587306857109, 0.018033618107438087, 0.0516047403216362, -0.0028817045968025923, -0.025429116562008858, -0.0015667001716792583, -0.061545584350824356, 0.04801781848073006, 0.007789293769747019, -0.0497901514172554, 0.10240139067173004, 0.006031490862369537, 0.0648084431886673, 0.05633619800209999, 0.06942752003669739, -0.04459201544523239, 5.938758631649954e-34, 0.06324668228626251, -0.06121772155165672, 0.05591271445155144, 0.04196196049451828, 0.011836099438369274, 0.00754207419231534, 0.00034182018134742975, -0.01458973903208971, -0.0311138816177845, -0.00013242561544757336, -0.07348164170980453, 0.023725450038909912, -0.015231688506901264, -0.052258364856243134, -0.022243227809667587, 0.10218168050050735, -0.04434441775083542, -0.12446596473455429, -0.013481412082910538, 0.03294391185045242, -0.03143341839313507, 0.04474789276719093, 0.0234068613499403, -0.02514130063354969, -0.07665381580591202, -0.0393722727894783, -0.10162721574306488, -0.0365716814994812, -0.01714235730469227, -0.03096541203558445, -0.014260172843933105, 0.012198072858154774, 0.023403393104672432, -0.011346273124217987, -0.017642559483647346, -0.055964335799217224, 0.02299947664141655, 0.004889843985438347, 0.04475824907422066, 0.05659383535385132, 0.11971987783908844, 0.010624510236084461, -0.04332790896296501, 0.006131389643996954, -0.046276770532131195, 0.04050494357943535, -0.08599703758955002, -0.010902829468250275, -0.10898494720458984, 0.014908533543348312, -0.004348819609731436, 0.005519460421055555, -0.05127719044685364, 0.008378795348107815, 0.013636522926390171, 0.05360543355345726, 0.046939950436353683, -0.06150281801819801, -0.11855550110340118, 0.0032595160882920027, 0.04618346691131592, 0.05866800993680954, -0.030139613896608353, 0.00515899620950222, -0.04931994527578354, -0.07353080064058304, 0.08132177591323853, 0.013544721528887749, 0.00027564665651880205, -0.004134800750762224, -0.10562555491924286, -0.026261040940880775, 0.011785089038312435, 0.0019115766044706106, -0.15786172449588776, -0.013590426184237003, 0.056653138250112534, -0.11508044600486755, -0.06175407022237778, -0.019673416391015053, -0.05666295811533928, 0.07248559594154358, 0.0008624584297649562, -0.007202520500868559, -0.08838678896427155, 0.0019205062417313457, -0.048736222088336945, -0.05285533517599106, 0.04168195649981499, 0.031889427453279495, -0.025221509858965874, 0.03753785416483879, -0.015352310612797737, 0.04750355705618858, -0.02806565724313259, -3.411285476317971e-08, 0.0018951791571453214, -0.014559011906385422, 0.13139156997203827, 0.008558923378586769, -0.04280988872051239, -0.04990622028708458, -0.013432192616164684, 0.19613882899284363, 0.08065152913331985, -0.014526876620948315, 0.04787259176373482, -0.06550224125385284, -0.10067777335643768, 0.045834243297576904, 0.0720890611410141, 0.007984903641045094, 0.11519807577133179, 0.057684559375047684, -0.054349031299352646, 0.027894120663404465, 0.008257336914539337, 0.027361715212464333, -0.024206211790442467, 0.0285340603441, 0.05554596707224846, 0.0011401118244975805, 0.03919650614261627, 0.05967332422733307, -0.006416965276002884, -0.03646091744303703, -0.01749454066157341, 0.06281442195177078, 0.03885330259799957, 0.0031339244451373816, 0.01857336424291134, 0.06225847080349922, 0.0027157666627317667, -0.0403575599193573, 0.023765023797750473, 0.03881322965025902, 0.03436845541000366, 0.04256407916545868, -0.02609490603208542, 0.008381635881960392, -0.027859851717948914, -0.059974554926157, 0.05142444744706154, -0.0907757505774498, 0.03834439069032669, 0.05350419878959656, 0.00455182371661067, -0.010961117222905159, -0.022737057879567146, 0.017470665276050568, 0.045722927898168564, 0.09787480533123016, 0.035565335303545, -0.09257905930280685, 0.07704783231019974, 0.01136347372084856, 0.026189332827925682, -0.021158896386623383, -0.028185557574033737, -0.038396161049604416], '6. Maintenance and Care': [-0.035878341645002365, -0.005226124078035355, 0.0848248153924942, -0.03338677063584328, 0.04321233928203583, -0.04295768588781357, -0.01744895800948143, -0.013048410415649414, -0.07015401124954224, 0.018297934904694557, 0.06239958480000496, 0.04534437507390976, 0.012160810641944408, -0.03393050655722618, -0.0025770789943635464, 0.042359646409749985, 0.09037204831838608, 0.02197265811264515, -0.0903949961066246, -0.027573537081480026, -0.0041319336742162704, -0.00574854202568531, 0.014058771543204784, -0.002277323277667165, -0.09160169959068298, 0.05764882266521454, 0.004282805137336254, -0.0839567705988884, -0.020189953967928886, -0.04274172708392143, -0.04219873249530792, -0.06653370708227158, 0.010101261548697948, 5.0038641347782686e-05, 0.056562215089797974, 0.04705684632062912, -0.05990007892251015, -0.04141741245985031, -0.017876164987683296, -0.037546250969171524, -0.035086292773485184, -0.030812324956059456, -0.04116009175777435, -0.01910303719341755, -0.008917623199522495, 0.08137935400009155, 0.014522700570523739, -0.0865248590707779, 0.07303320616483688, 0.006738821975886822, -0.009717628359794617, 0.0179306510835886, 0.06914472579956055, -0.011421571485698223, -0.03471306711435318, -0.004500115755945444, 0.020483003929257393, -0.06573174148797989, 0.03370347619056702, -0.09229796379804611, 0.04173094034194946, -0.0314214713871479, 0.0008675507269799709, -0.00508086197078228, 0.05606042593717575, -0.021838964894413948, 0.0007696719840168953, 0.007339714094996452, 0.016247428953647614, 0.12297219038009644, -0.06612829864025116, 0.044641897082328796, -0.0514250248670578, 0.04592393338680267, -0.020539991557598114, 0.07170656323432922, -0.03355773165822029, -0.10349568724632263, 0.028261542320251465, 0.014756389893591404, 0.0022948626428842545, -0.048790864646434784, 0.003681171452626586, 0.0584215447306633, -0.005368900019675493, 0.04777711257338524, 0.021179357543587685, -0.08723869919776917, 0.05537658557295799, -0.031058330088853836, 0.04075178876519203, 0.020491238683462143, 0.0357033833861351, -0.08320564776659012, -0.027470912784337997, 0.020104622468352318, -0.028744420036673546, 0.05528083071112633, 0.034848302602767944, 0.0218867938965559, -0.050895776599645615, -0.0325106717646122, 0.04126068577170372, 0.021155506372451782, -0.015757912769913673, -0.0461542010307312, 0.00011347963300067931, -0.02851029299199581, 0.031848929822444916, -0.03882377967238426, 0.022020647302269936, 0.017757372930645943, 0.02363845519721508, 0.008540497161448002, 0.07817896455526352, 0.049072783440351486, 0.060847412794828415, 0.010631193406879902, -0.09312459826469421, 0.025927143171429634, 0.05023582652211189, -0.044431284070014954, 0.02883676439523697, -0.009127890691161156, 0.05019332841038704, 0.04196194186806679, 0.03728114441037178, -3.019228403741252e-33, 0.02849494479596615, -0.012370315380394459, 0.028023933991789818, -0.029378024861216545, -0.09346412122249603, 0.008298974484205246, 0.05235559120774269, 0.06186820566654205, 0.06523614376783371, 0.027773160487413406, -0.013739360496401787, -0.007413079030811787, -0.12473993003368378, -0.053438950330019, -0.025648418813943863, 0.01642748713493347, 0.07308781892061234, -0.02047009952366352, -0.010113670490682125, 0.007601138669997454, 0.07006054371595383, -0.040470488369464874, -0.08399845659732819, 0.08840448409318924, 0.057451032102108, -0.0185210220515728, 0.015751859173178673, -0.016591519117355347, -0.07330486178398132, 0.01649031601846218, -0.023529313504695892, 0.07884804159402847, -0.09499911218881607, 0.04589187353849411, -0.09218225628137589, 0.07723516970872879, -0.13672274351119995, 0.08547472208738327, 0.03244946524500847, -0.04642225429415703, -0.037986040115356445, 0.03993405029177666, -0.020867325365543365, -0.07541155815124512, 0.02824808657169342, -0.069842129945755, -0.021336229518055916, -0.025780003517866135, 0.028046147897839546, 0.02389657497406006, 0.019728826358914375, 0.018165379762649536, 0.020728029310703278, 0.0544126071035862, -0.012494352646172047, -0.05461147055029869, 0.0794156864285469, -0.09763803333044052, -0.053625158965587616, -0.007634053472429514, 0.041718900203704834, -0.01596551202237606, -0.011500119231641293, 0.009881027974188328, 0.04032769054174423, 0.019512852653861046, 0.11370226740837097, 0.06512938439846039, 0.04139481484889984, -0.03327824920415878, -0.0690540075302124, -0.01078842394053936, -0.06757008284330368, 0.017628267407417297, -0.0063640521839261055, -0.03761552646756172, -0.06313475966453552, -0.04883185401558876, -0.015056352131068707, -0.08040007948875427, 0.0518600158393383, 0.04065534099936485, -0.024972282350063324, 0.016316218301653862, 0.02044898271560669, -0.04939446225762367, 0.0027220265474170446, 0.053240690380334854, -0.040282294154167175, 0.02828448824584484, 0.017076261341571808, -0.010523276403546333, 0.016557425260543823, 0.06341936439275742, -0.0330449715256691, 3.0436765281041957e-34, 0.10277124494314194, -0.025874508544802666, 0.07362598180770874, 0.06998597085475922, -0.10770455747842789, 0.07066714763641357, -0.025375446304678917, -0.02184724435210228, -0.05344948545098305, 0.0032213807571679354, -0.06000079587101936, 0.017881758511066437, 0.015578288584947586, -0.00657836114987731, 0.04396962374448776, 0.10642442852258682, -0.11557066440582275, -0.15108267962932587, -0.01608322747051716, -0.039509087800979614, 0.0002779764181468636, 0.04746726527810097, 0.024693258106708527, 0.017539240419864655, -0.07950409501791, -0.03699737414717674, -0.09849352389574051, -0.0006801002891734242, 0.02430523931980133, -0.006949226837605238, -0.04982726275920868, 0.028241751715540886, 0.068927101790905, 0.03525827080011368, 0.08931367099285126, -0.12563557922840118, -0.006889654323458672, -0.006210947409272194, 0.05316626653075218, 0.025686558336019516, -0.0013809246011078358, 0.011864337138831615, -0.015520498156547546, 0.044222407042980194, 0.0028097080066800117, -0.042031578719615936, -0.012201177887618542, -0.048794910311698914, -0.0428248755633831, 0.02194262109696865, -0.02600593864917755, 0.004840275272727013, -0.08813691884279251, -0.015573102980852127, -0.0503629632294178, 0.14754313230514526, -0.015049846842885017, -0.009516512043774128, -0.03990035876631737, -0.0026732159312814474, -0.05401987582445145, 0.025379061698913574, -0.019931960850954056, 0.008866746909916401, -0.12168122828006744, 0.05487007275223732, 0.13569118082523346, 0.11536796391010284, 0.04269592836499214, -0.06488662213087082, -0.0319226048886776, -0.07182545214891434, 0.059769924730062485, -0.0184260755777359, -0.04649844393134117, -0.03939516097307205, 0.04165760055184364, -0.06515216827392578, 0.04708946868777275, 0.06207830458879471, -0.06551212817430496, 0.04718898981809616, -0.002761480864137411, 0.08591776341199875, -0.0077069164253771305, 0.01514487899839878, -0.04382817819714546, -0.09568925201892853, -0.012719407677650452, 0.007427664007991552, -0.0015541259199380875, -0.058222752064466476, 0.025575757026672363, 0.016206635162234306, -0.03982558473944664, -3.1378718290397956e-08, -0.03461339324712753, 0.024282895028591156, 0.10099764168262482, 0.09446101635694504, 0.0020736048463732004, -0.007355888839811087, 0.031280357390642166, 0.16529437899589539, -0.024182606488466263, 0.037136293947696686, 0.08127915859222412, 0.0013616859214380383, -0.08879055082798004, 0.0010127235436812043, 0.054174140095710754, 0.01035754382610321, 0.00797708984464407, 0.029512278735637665, -0.053317684680223465, -0.036509282886981964, -0.016076495870947838, -0.011662831529974937, 0.10346870124340057, 0.050256047397851944, -0.04153776541352272, 0.026960745453834534, 0.033806607127189636, -0.0014871259918436408, -0.015180680900812149, 0.04420856758952141, -0.023686759173870087, 0.002749062143266201, -0.002113944385200739, -0.012897954322397709, -0.030930183827877045, 0.01484892051666975, -0.057347219437360764, -0.05120568349957466, 0.061901479959487915, 0.02741670422255993, 0.0643484964966774, 0.06993133574724197, -0.06399966776371002, 0.028307046741247177, 0.030420366674661636, -0.04041057080030441, 0.012879825197160244, -0.10424630343914032, -0.047463566064834595, 0.06574331223964691, -0.08268249034881592, -0.03184618428349495, 0.013228998519480228, 0.09954372048377991, -0.0025249149184674025, -0.012081296183168888, 0.017996294423937798, 0.015235601924359798, -0.030322834849357605, 0.032448530197143555, 0.0027321588713675737, -0.014416815713047981, -0.07228709012269974, -0.02679065428674221], '7. Troubleshooting': [-0.01926221139729023, 0.0638182982802391, 0.09025003761053085, -0.01650141552090645, 0.04490099847316742, -0.08453016728162766, 0.0009498656145296991, -0.049039073288440704, -0.06973292678594589, 0.03480026125907898, 0.08923360705375671, -0.0588022843003273, 0.005850206129252911, 0.0729566365480423, -0.03617950528860092, -0.007168403826653957, 0.026792895048856735, 0.02322652004659176, -0.03279642015695572, 0.05502669885754585, -0.053939275443553925, 0.017911652103066444, 0.0034957046154886484, 0.033387575298547745, -0.09930624067783356, 0.019635407254099846, -0.011848438531160355, -0.10340392589569092, -0.02581850066781044, -0.06152244284749031, 0.01970236748456955, -0.034150630235672, -0.049870241433382034, -0.04229147732257843, 0.07109532505273819, 0.04898683726787567, -0.0271419920027256, -0.02359173633158207, -0.05383533239364624, -0.05259653553366661, -0.03544007986783981, -0.041014257818460464, -0.02293386310338974, 0.025728706270456314, 0.015560769475996494, -0.016365300863981247, 0.0343925841152668, -0.013302133418619633, 0.05692870542407036, 0.03155377134680748, -0.031194545328617096, -0.03252868726849556, 0.052145831286907196, -0.06279368698596954, -0.04110441356897354, -0.04193788766860962, -0.03400262072682381, 0.06048576533794403, 0.05788372457027435, -0.0987863689661026, 0.056544456630945206, -0.043993689119815826, -0.07193800806999207, -0.004069194197654724, 0.038393184542655945, 0.06159224361181259, -0.020118825137615204, 0.03755935654044151, -0.033398836851119995, 0.03640764206647873, 0.052457891404628754, 0.04455774277448654, 2.3273976239579497e-06, 0.026437444612383842, 0.07318414747714996, 0.03457076847553253, -0.05248227342963219, -0.047681234776973724, 0.0039696176536381245, -0.021899569779634476, 0.04106709733605385, -0.08046464622020721, -0.07716555893421173, 0.07777582108974457, 0.06765034794807434, 0.012588828802108765, -0.012013521045446396, -0.08920156210660934, -0.024945728480815887, -0.10435299575328827, 0.04116115719079971, -0.012870470993220806, 0.04154970869421959, -0.07625032216310501, 0.05040108412504196, -0.03875984624028206, -0.0018786947475746274, 0.016029467806220055, -0.02067016065120697, 0.03541948273777962, -0.00844309851527214, 0.015715915709733963, 0.053679078817367554, 0.06804428994655609, 0.037498027086257935, 0.05850253254175186, 0.045438192784786224, -0.03250568360090256, -0.026611287146806717, -0.011034838855266571, 0.03949695825576782, -0.045236729085445404, -0.044125474989414215, 0.050031326711177826, 0.03973221406340599, 0.019200434908270836, -0.0036722198128700256, -0.024691399186849594, -0.06594785302877426, 0.0002782965893857181, -0.01766013354063034, 0.0010897951433435082, -0.0239687729626894, -0.10067252814769745, -0.01794407330453396, 0.07276110351085663, 0.045614320784807205, 1.8938630095097808e-33, -0.03941090404987335, -0.04627956077456474, 0.034000836312770844, -0.0401192232966423, 0.03157658874988556, -0.06308584660291672, 0.05087951198220253, 0.11175376176834106, 0.034460343420505524, 0.08624609559774399, -0.01464936975389719, 0.0270902831107378, 0.0026912258472293615, -0.09594185650348663, 0.05368831008672714, -0.039940763264894485, -0.04822162538766861, 0.007915891706943512, -0.0638350248336792, -0.016867125406861305, 0.0729864314198494, -0.06727336347103119, -0.005551064386963844, 0.01589256338775158, 0.027383388951420784, 0.042469121515750885, 0.03089579939842224, -0.009103052318096161, 0.009305919520556927, 0.020314747467637062, -0.014027366414666176, 0.06926417350769043, 0.008300142362713814, 0.040967803448438644, -0.17764195799827576, 0.09239442646503448, 0.04591952636837959, 0.03161909803748131, 0.03669949620962143, -0.03780389204621315, -0.08823659271001816, 0.000508854805957526, 0.018557995557785034, -0.005785686895251274, 0.01450865063816309, -0.04997694119811058, 0.04072677344083786, -0.06446784734725952, 0.0025539149064570665, 0.09058620780706406, -0.05079246312379837, -0.06391740590333939, -0.0827295258641243, 0.01828927919268608, -0.022682616487145424, -0.04567698389291763, 0.02456790953874588, 0.007130141835659742, -0.03709017485380173, 0.02223198115825653, 0.030620798468589783, -0.06917110085487366, -0.0057248566299676895, -0.0853535532951355, 0.055544544011354446, 0.00974531751126051, 0.020574847236275673, 0.03922358900308609, 0.038998570293188095, -0.03996523842215538, -0.05386916920542717, 0.014267678372561932, 0.028893910348415375, 0.009472796693444252, -0.0015389402396976948, -0.0017602206207811832, -0.03971679136157036, -0.03865469992160797, -0.09801574796438217, -0.06342268735170364, 0.004190361592918634, -0.05177361145615578, 0.058948442339897156, 0.008787075988948345, -0.03209219127893448, 0.002215201733633876, -0.008711112663149834, 0.0933646410703659, -0.08796712756156921, 0.04532730206847191, 0.034217480570077896, 0.11613299697637558, 0.05082060024142265, 0.007833490148186684, 0.07244198024272919, -3.123518813559182e-33, -0.014231396839022636, -0.005697254091501236, 0.021058451384305954, 0.02559361606836319, -0.018631121143698692, 0.03494385629892349, -0.006135648116469383, -0.004072406329214573, -0.011228230781853199, -0.014554301276803017, -0.1402883231639862, 0.05091772973537445, -0.014217579737305641, 0.052945785224437714, 0.020900432020425797, 0.07635940611362457, -0.011806932277977467, -0.08937067538499832, 0.055893611162900925, 0.08811014145612717, -0.028313107788562775, 0.15737169981002808, 0.03338446095585823, -0.021491624414920807, -0.028159812092781067, 0.003403186332434416, 0.07452953606843948, -0.0254089143127203, 0.09336097538471222, 0.024875333532691002, 0.05012180656194687, 0.02169637568295002, 0.03315616771578789, 0.062456730753183365, 0.032818809151649475, -0.06087725609540939, -0.00016643194248899817, 0.009485676884651184, 0.004676051903516054, -0.040328498929739, 0.012289677746593952, 0.00785912200808525, 0.06105944886803627, 0.011640749871730804, 0.03470877930521965, -0.018192913383245468, -0.03656913712620735, 0.0026644289027899504, -0.0775374099612236, 0.029267065227031708, -0.007134312763810158, -0.09512075036764145, -0.08911183476448059, 0.02753235027194023, -0.05720927566289902, 0.11783590167760849, 0.06752384454011917, 0.012273120693862438, -0.030248090624809265, -0.014524032361805439, 0.060448698699474335, 0.03819400817155838, -0.00605169078335166, -0.05721268057823181, 0.004966717213392258, 0.06487076729536057, 0.04856986179947853, 0.11437470465898514, 0.0896795466542244, 0.009811566211283207, -0.06003713980317116, -0.0038208714686334133, 0.005250819958746433, -0.07349369674921036, -0.06568939238786697, 0.06340760737657547, -0.03126038610935211, -0.028168736025691032, -0.007945727556943893, -0.057394061237573624, 0.055361781269311905, 0.017381688579916954, 0.018581194803118706, -0.04626606032252312, -0.01783411204814911, -0.018956121057271957, 0.0045504504814744, -0.03214592859148979, 0.018310029059648514, 0.0029203901067376137, -0.10574740916490555, -0.046991102397441864, -0.021503346040844917, 0.119681216776371, -0.023860637098550797, -3.8807819180419756e-08, -0.017256727442145348, 0.04405802860856056, -0.011264597997069359, 0.06657713651657104, -0.008988027460873127, -0.010641238652169704, -0.05388409271836281, 0.09943190217018127, -0.05051190033555031, -0.017105529084801674, -0.08513130247592926, -0.007958458736538887, -0.05820320546627045, 0.07202035933732986, 0.02861320786178112, -0.004072133917361498, -0.10263650119304657, 0.1101413145661354, -0.09277230501174927, -0.07379235327243805, -0.04458910599350929, 0.04027704522013664, -9.189802221953869e-05, 0.005824404302984476, -0.027415039017796516, 0.012976123951375484, 0.016165675595402718, -0.03980182111263275, 0.07841598987579346, -0.11115569621324539, -0.08515683561563492, 0.008867950178682804, 0.013756499625742435, -0.027243876829743385, -0.02168884687125683, 0.03527843579649925, 0.04718461260199547, -0.04604130983352661, 0.06933870166540146, -0.08384552597999573, 0.053808555006980896, -0.000981657300144434, -0.03466147184371948, -0.017554117366671562, -0.0834139883518219, -0.011063093319535255, 0.05827948823571205, -0.010541628114879131, 0.06973757594823837, 0.08513503521680832, -0.07323399931192398, -0.03373526409268379, 0.0072191329672932625, 0.027234669774770737, 0.04504132643342018, 0.02401091158390045, -0.032316870987415314, -0.06520470231771469, 0.045576877892017365, 0.04759697616100311, 0.09023556858301163, -0.02422773838043213, -0.07465662062168121, 0.015581187792122364], '8. Warranty Information': [-0.08126498758792877, -0.017798904329538345, 0.12715119123458862, -0.02090097777545452, -0.016152098774909973, -0.023636197671294212, -0.0969683900475502, -0.012221711687743664, -0.048601582646369934, 0.006442229729145765, 0.049025874584913254, 0.004771814215928316, 0.03416086360812187, -0.11765608936548233, 0.05525284260511398, -0.007944904267787933, 0.02860540896654129, -0.03038763999938965, -0.05634506419301033, -0.009407754056155682, 0.039927661418914795, 0.028632495552301407, 0.0331701934337616, 0.0033095297403633595, -0.06716451048851013, 0.044138189405202866, 0.026374928653240204, -0.05208366736769676, -0.050873979926109314, 0.03064858913421631, -0.01497687492519617, -0.029056278988718987, 0.013242264278233051, 0.03530644625425339, 0.10171176493167877, -0.014242731034755707, -0.11306839436292648, -0.0974782183766365, -0.04301213100552559, -0.041204649955034256, -0.031912725418806076, -0.017405176535248756, -0.03640417382121086, 0.014385567978024483, -0.026489073410630226, 0.10672251880168915, -0.01635853387415409, -0.052977416664361954, 0.061754174530506134, 0.06685394048690796, -0.03125877305865288, 0.01898128166794777, 0.11490616947412491, -0.010459947399795055, -0.052236367017030716, -0.0869414433836937, -0.05850348621606827, -0.009007877670228481, -0.013201989233493805, -0.011323608458042145, 0.02281222678720951, -0.016317743808031082, -0.007746124640107155, -0.026815306395292282, 0.014643847942352295, -0.034984227269887924, -0.02664901688694954, -0.040894076228141785, 0.0062356679700315, 0.04009973257780075, -0.02284444496035576, -0.026594610884785652, -0.026814162731170654, 0.06568725407123566, -0.04687817022204399, 0.08104851841926575, -0.001543892896734178, -0.019554998725652695, 0.02232298254966736, -0.0699254646897316, -0.016180556267499924, -0.007954313419759274, 0.07066802680492401, 0.06863121688365936, 0.03795172646641731, 0.004626775160431862, 0.03222811594605446, 0.03569566458463669, 0.05627854913473129, -0.037915829569101334, 0.06909960508346558, -0.08413839340209961, 0.009939376264810562, -0.01568627916276455, -0.03934391215443611, -0.03964867815375328, -0.022725295275449753, 0.053433824330568314, 0.08270078897476196, 0.03357626125216484, -0.012740676291286945, -0.0486832857131958, 0.00551651930436492, -0.047309815883636475, -0.00355343334376812, 0.009236886166036129, 0.006297944579273462, 0.001885448582470417, -0.006973047740757465, -2.3298758605960757e-05, 0.024441052228212357, -0.09223514795303345, 0.07487308979034424, 0.02223552204668522, 0.09582698345184326, 0.00948014110326767, -0.05251442641019821, 0.013016470707952976, 0.04925614595413208, -0.015606326051056385, 0.09818771481513977, -0.04882979765534401, -0.02110307104885578, -0.02722146362066269, -0.013863526284694672, -0.022601664066314697, 0.06018945202231407, -3.1406979288124806e-33, 0.008421042002737522, 0.004104985389858484, 0.027126912027597427, -0.014650077559053898, -0.04260963201522827, 0.03070623241364956, 0.031010251492261887, 0.03550468012690544, 0.06547017395496368, 0.03988909348845482, -0.012049941346049309, 0.006644616834819317, -0.08795914798974991, -0.08732335269451141, -0.04827655106782913, 0.04948506876826286, 0.03175872936844826, -0.018503425642848015, 0.05730065330862999, 0.06422916799783707, 0.04842739552259445, -0.08488215506076813, 0.0013433098793029785, 0.06856443732976913, 0.013182454742491245, -0.02282116748392582, -0.019931089133024216, -0.05742063745856285, -0.03158087655901909, 0.0037251105532050133, 0.0013588531874120235, 0.12938708066940308, -0.02396313101053238, 0.04455745965242386, -0.053446512669324875, 0.01329463068395853, -0.03599472716450691, 0.019770482555031776, -0.06654348224401474, 0.015897026285529137, -0.05490237846970558, -0.0487862229347229, -0.029039878398180008, -0.1469188630580902, 0.07791882753372192, -0.09807361662387848, -0.0481371209025383, -0.07725956290960312, 0.06690505146980286, -0.022343628108501434, -0.024425402283668518, 0.05300816893577576, -0.02688564360141754, 0.011855009011924267, 0.009679113514721394, -0.0002046773734036833, 0.07231954485177994, 0.03764478862285614, -0.05251216143369675, 0.022477084770798683, 0.06843911856412888, -0.005717889871448278, 0.014594560489058495, -0.004114051815122366, -0.0229793693870306, 0.0029154219664633274, 0.0862794741988182, 0.07417920231819153, -0.015339506790041924, 0.0227648988366127, -0.032488878816366196, 0.04090878367424011, -0.13305136561393738, -0.020225610584020615, 0.0001288221392314881, -0.039324257522821426, 0.017853425815701485, -0.10642663389444351, 0.0745638757944107, 0.06573875993490219, -0.015097018331289291, -0.05380631238222122, -0.06481418013572693, -0.020972099155187607, -0.03733361139893532, -0.01244462188333273, 0.022439470514655113, 0.09650681167840958, -0.006128647364675999, -0.03140910714864731, 0.00385985872708261, -0.01872922107577324, -0.08801387995481491, 0.0861087441444397, 0.036623843014240265, -1.9548485747854027e-33, 0.043274909257888794, 0.02638331986963749, 0.08563200384378433, 0.079525426030159, -0.03756895288825035, 0.0024001423735171556, -0.11906439810991287, 0.10334546864032745, -0.03088250197470188, 0.004725772887468338, -0.07330168783664703, 0.019915247336030006, 0.012941553257405758, 0.00818384625017643, 0.06996989250183105, 0.07520212978124619, -0.044647496193647385, -0.14192552864551544, -0.0255266260355711, 0.0012767338193953037, 0.05510953068733215, 0.038029544055461884, 0.02629130706191063, -0.0260018240660429, -0.03234165161848068, -0.05524430051445961, -0.0511455237865448, -0.025084536522626877, 0.11460746824741364, 0.04556789994239807, -0.04956624656915665, 0.014581654220819473, 0.029126139357686043, 0.07852020114660263, 0.09912034124135971, -0.11798456311225891, 0.03850235790014267, 0.012045898474752903, 0.05384330451488495, 0.0005190021474845707, 0.03225434944033623, -0.0167032852768898, 0.0079673295840621, 0.016552699729800224, 0.02018006518483162, -0.07756250351667404, -0.053712647408246994, -0.025706123560667038, 0.03358285874128342, -0.04704897478222847, 0.00043130634003318846, -0.005155626218765974, 0.012026616372168064, -0.05585203319787979, -0.0579754002392292, 0.01879745163023472, -0.007687764707952738, -0.005943005438894033, -0.0772118791937828, 0.005475976504385471, -0.08582688122987747, 0.028861330822110176, -0.018840646371245384, 0.05295046046376228, -0.07082094252109528, 0.06710638105869293, 0.10290461033582687, 0.04386438801884651, 0.0726616233587265, -0.10093563050031662, 0.004915495403110981, -0.024759845808148384, -0.06300922483205795, -0.0003207316331099719, 0.014628788456320763, -0.002944167936220765, -0.038119152188301086, -0.047491833567619324, 0.01994440145790577, 0.06150127202272415, 0.024137774482369423, 0.04192626476287842, 0.009996315464377403, 0.05700255557894707, -0.01843857206404209, 0.03916570916771889, -0.027534371241927147, -0.04740125313401222, -0.007342048455029726, 0.025358829647302628, 0.041906364262104034, -0.04903596267104149, -0.025029944255948067, 0.03341737017035484, -0.06097770109772682, -2.994740810891017e-08, 0.006869560107588768, 0.06680937111377716, 0.0671878457069397, 0.06603656709194183, 0.10050603002309799, -0.059851352125406265, -0.02706795744597912, 0.06650763750076294, -0.02585815079510212, 0.06442577391862869, 0.0687311589717865, -0.010828346945345402, -0.0810525193810463, 0.01870928891003132, 0.014528345316648483, 0.009207074530422688, -0.02301531657576561, 0.06777328997850418, 0.02900615520775318, 0.018327124416828156, -0.03549126163125038, -0.07241799682378769, 0.059598054736852646, -0.009095382876694202, -0.17191950976848602, 0.02563672885298729, -0.05453221872448921, -0.016788678243756294, -0.002677491633221507, 0.005085562355816364, -0.022055042907595634, -0.018242359161376953, 0.05724014714360237, -0.08988732099533081, -0.046415701508522034, -0.017328528687357903, -0.07273276150226593, -0.09005453437566757, 0.03844287246465683, 0.017632870003581047, 0.02843812294304371, 0.13760511577129364, 0.058094583451747894, 0.022717760875821114, 0.014367800205945969, -0.02313457801938057, -0.040930841118097305, -0.09972114115953445, -0.07088383287191391, -0.04521475359797478, -0.016713116317987442, 0.015519280917942524, -0.016695478931069374, 0.05522109568119049, -0.059522707015275955, 0.021337231621146202, 0.022639114409685135, -0.004614963196218014, -0.03220897540450096, -0.003254187060520053, 0.003733276156708598, 0.008694863878190517, -0.006304523441940546, -0.010015356354415417], '9. Customer Support': [-0.05282169580459595, -0.08514193445444107, 0.1080438569188118, -0.0550597719848156, 0.037042804062366486, -0.005499537102878094, -0.033449966460466385, 0.027272559702396393, -0.10062024742364883, -0.024846112355589867, -0.0028719990514218807, -0.03177744150161743, 0.008235923945903778, -0.051524851471185684, 0.0746392011642456, 0.06742937117815018, 0.052785564213991165, 0.0240570567548275, -0.12498128414154053, -0.0028197444044053555, -0.004889788571745157, 0.011992000043392181, 0.047735363245010376, -0.02770146355032921, -0.06636393070220947, 0.035941217094659805, 0.004594345111399889, -0.055986978113651276, -0.04628198966383934, -0.02509615384042263, 0.004706186708062887, -0.10490136593580246, -0.0169898122549057, 0.00016764177416916937, 0.09004893898963928, 0.016217386350035667, -0.06941235065460205, 0.012455524876713753, -0.026615936309099197, -0.010738902725279331, -0.00784427672624588, 0.029365459457039833, 0.0024009677581489086, -0.05688813328742981, -0.002086624735966325, 0.08071143925189972, -0.06485548615455627, -0.05083022266626358, 0.06337767839431763, 3.2518139050807804e-05, -0.04678413271903992, -0.007790385279804468, 0.08912865072488785, 0.008131139911711216, -0.09352880716323853, -0.04815848916769028, 0.03450512886047363, 0.004283618647605181, 0.004557204898446798, -0.026584506034851074, 0.08611086755990982, -0.005797320976853371, -0.027313267812132835, -0.029780901968479156, -0.009131134487688541, 0.00973415095359087, -0.008768989704549313, 0.03237004205584526, -0.03369143605232239, -0.057922620326280594, -0.022966938093304634, 0.02489706128835678, 0.008951491676270962, 0.11765457689762115, 0.008774437010288239, 0.07955694943666458, -0.005973800551146269, -0.03937587887048721, 0.07049739360809326, 0.0152391092851758, -0.005455220118165016, 0.0031972709111869335, 0.015972739085555077, 0.08898083120584488, -0.0026011064182966948, 0.06255281716585159, 0.03879036381840706, -0.013614022172987461, 0.06588247418403625, 0.0009376719826832414, 0.04312123730778694, 0.00792213436216116, 0.0297204852104187, -0.0432465635240078, -0.012458055280148983, 0.005398489534854889, 0.013314292766153812, 0.029075229540467262, -0.0006578213069587946, 0.021982252597808838, -0.0066676014102995396, -0.04082644358277321, 0.03977813944220543, -0.026332590728998184, -0.02056269720196724, 0.013066349551081657, -0.05210159346461296, 0.08684002608060837, 0.08658715337514877, -0.03748553991317749, 0.013734575361013412, -0.0881081074476242, -0.0123917730525136, 0.0394422821700573, 0.03876148909330368, 0.007465537171810865, 0.007350367959588766, -0.01769290678203106, -0.000717305054422468, -0.052925314754247665, 0.029155761003494263, -0.04110684618353844, -0.0322088785469532, -0.05766798555850983, 0.07282321155071259, 0.015015180222690105, 0.013582445681095123, -1.1191844979980536e-33, -0.029198123142123222, -0.02435661107301712, 0.0884903147816658, 0.03630116209387779, -0.032105702906847, -0.011105676181614399, 0.002543376525864005, 0.06798170506954193, -0.004039809573441744, -0.004828133154660463, 0.0072685168124735355, 0.03617948293685913, -0.03729900345206261, -0.07091154903173447, -0.1621069312095642, 0.034548141062259674, 0.11104452610015869, -0.053861964493989944, -0.010336916893720627, 0.0629151463508606, 0.07247477769851685, -0.025173546746373177, -0.039658188819885254, 0.08209133893251419, 0.0005512091447599232, 0.004187850281596184, 0.0012630796991288662, 0.027193449437618256, 0.006851755082607269, -0.007482231128960848, -0.010576114058494568, 0.05894787609577179, -0.028592051938176155, -0.05875517427921295, -0.06546641886234283, 0.011276958510279655, -0.031921014189720154, 0.01604592055082321, -0.08456994593143463, -0.060445599257946014, -0.06595280021429062, 0.009941894561052322, -0.08630029112100601, -0.10276353359222412, 0.02243104949593544, -0.015572937205433846, 0.026584729552268982, -0.0746479406952858, 0.10781978815793991, 0.01657840982079506, -0.033995162695646286, 0.054595913738012314, -0.07586570829153061, 0.03389619290828705, 0.011804038658738136, -0.05505286529660225, 0.0483609177172184, 0.03773174807429314, -0.04489554092288017, -0.07357564568519592, 0.0358995720744133, -0.08191754668951035, 0.03202299028635025, -0.027786940336227417, -0.009259805083274841, -0.08656100183725357, 0.078628309071064, -0.011078142561018467, 0.02415662631392479, 0.012538110837340355, -0.08643397688865662, 0.05930214375257492, 0.008102167397737503, 0.04418589919805527, -0.04148907959461212, 0.006473416928201914, -0.0759110301733017, -0.06033938378095627, 0.03329499810934067, 0.05377717688679695, 0.020364969968795776, -0.09670612215995789, -0.004376519471406937, 0.0006423728773370385, 0.04642871394753456, 0.025838620960712433, -0.060381725430488586, 0.0825018510222435, -0.008588054217398167, -0.058069732040166855, -0.015514625236392021, 0.008306572213768959, -0.11254855990409851, 0.06968039274215698, 0.0009160403860732913, -3.7354558260003254e-33, 0.019456101581454277, -0.03142772242426872, 0.07373413443565369, 0.016509512439370155, 0.02195381186902523, 0.024967500939965248, -0.08076103031635284, -0.07922755926847458, 0.04302031174302101, 0.042491525411605835, -0.09826845675706863, 0.045349493622779846, -0.02751736342906952, 0.06635215878486633, 0.005687354132533073, 0.06283408403396606, -0.1240968257188797, -0.04746153950691223, 0.013707021251320839, 0.030521707609295845, -0.06742475181818008, 0.05969945713877678, 0.029677292332053185, 0.0678001269698143, -0.037197042256593704, -0.030847134068608284, -0.01284516230225563, 0.012838898226618767, 0.11607638001441956, 0.0436786487698555, -0.01854322850704193, -0.013302914798259735, 0.027769112959504128, 0.07413540780544281, 0.02538914419710636, -0.08985487371683121, -0.05351661890745163, -0.0008746971725486219, 0.016778448596596718, -0.06385389715433121, 0.04486485943198204, -0.0019323666347190738, -0.02233596332371235, -0.060248248279094696, -0.012015520595014095, -0.07860636711120605, -0.006952229887247086, -0.008966888301074505, -0.022915206849575043, 0.025565965101122856, 0.020826304331421852, -0.005210463423281908, 0.030950063839554787, 0.010876229964196682, -0.02437632717192173, 0.06763197481632233, 0.04794471710920334, -0.02094622701406479, -0.06808306276798248, -0.007918295450508595, -0.14056214690208435, 0.055629730224609375, 0.013125069439411163, 0.045428868383169174, -0.003133214544504881, 0.03189702332019806, 0.05811070650815964, 0.02323777973651886, 0.00784457940608263, -0.1043979823589325, -0.06965718418359756, -0.023568980395793915, 0.04371211677789688, 0.04742128774523735, 0.05971049889922142, 0.013910154812037945, -0.07830477505922318, -0.05463601276278496, 0.009904780425131321, 0.06363599747419357, 0.04812983423471451, 0.02131437323987484, 0.04173021391034126, 0.0563005730509758, -0.02314179576933384, 0.06637468189001083, 0.01666291244328022, -0.009600595571100712, 0.05087658390402794, -0.04516787454485893, -0.03696497157216072, -0.015112408436834812, 0.013758092187345028, 0.04240556061267853, -0.040888380259275436, -3.5707728329725796e-08, 0.06223424896597862, -0.001286812243051827, 0.07633130252361298, 0.07451719045639038, 0.017247647047042847, -0.0034470511600375175, -0.029190190136432648, 0.08154463022947311, -0.04162641614675522, 0.10227537900209427, -0.035539183765649796, -0.04201629385352135, -0.04690118879079819, 0.032855018973350525, 0.09594960510730743, -0.04296455532312393, -0.016498766839504242, 0.009389031678438187, -0.02397492527961731, -0.04249051585793495, -0.06365732103586197, -0.08850601315498352, 0.10576771199703217, 0.04064016044139862, -0.050678372383117676, 0.039488065987825394, -0.12094010412693024, 0.018129020929336548, -0.11076919734477997, -0.04689594358205795, -0.005057718139141798, -0.05821700766682625, 0.019693879410624504, -0.03023962676525116, 0.06078052148222923, 0.01450267806649208, -0.07359643280506134, -0.07860495895147324, -0.0018784492276608944, 0.01406759861856699, 0.05177002400159836, 0.0840834528207779, -0.005095817614346743, 0.008259272202849388, 0.027290452271699905, 0.03746713325381279, 0.0036001838743686676, -0.17226088047027588, -0.11594484746456146, 0.024583356454968452, -0.05570602789521217, -0.07672572880983353, 0.015179656445980072, 0.07826212048530579, -0.034506235271692276, 0.03840194270014763, 0.005392528139054775, -5.117576438351534e-05, 0.019433435052633286, 0.05106813833117485, 0.01775132305920124, 0.04880096763372421, -0.015038948506116867, -0.00906085129827261]}\n"
     ]
    }
   ],
   "source": [
    "from sentence_transformers import SentenceTransformer\n",
    "\n",
    "# Initializing the model\n",
    "model = SentenceTransformer('all-MiniLM-L6-v2')\n",
    "\n",
    "def add_embeddings(row):\n",
    "    sections = row.get(\"sections\")\n",
    "    if sections:\n",
    "        row[\"embeddings\"] = {k: model.encode(v).tolist() for k, v in sections.items()}\n",
    "    return row\n",
    "\n",
    "# Applying the embeddings\n",
    "vectorized_dataset = split_dataset.map(add_embeddings)\n",
    "\n",
    "# Taking a sample and print the embeddings\n",
    "sample = vectorized_dataset.take(1)\n",
    "print(sample[0].get(\"embeddings\", \"No embeddings found\"))\n",
    "\n",
    "\n",
    "\n"
   ]
  },
  {
   "cell_type": "markdown",
   "metadata": {},
   "source": [
    "## Setting up Pinecone index for storing PDF section embeddings"
   ]
  },
  {
   "cell_type": "code",
   "execution_count": 45,
   "metadata": {},
   "outputs": [],
   "source": [
    "import os\n",
    "import pinecone\n",
    "from dotenv import load_dotenv\n",
    "\n",
    "\n",
    "load_dotenv()\n",
    "\n",
    "\n",
    "pinecone_api_key = os.getenv('PINECONE_API')\n",
    "\n",
    "\n",
    "pc = pinecone.Pinecone(api_key=pinecone_api_key)\n",
    "\n",
    "\n",
    "index_name = 'pdf-embeddings-index'\n",
    "\n",
    "# Check if index exists and create if not\n",
    "if index_name not in pc.list_indexes().names():\n",
    "    pc.create_index(\n",
    "        name=index_name,\n",
    "        dimension=384,  \n",
    "        metric='cosine',  # can Choose between 'cosine', 'dotproduct', or 'euclidean'\n",
    "        spec=pinecone.ServerlessSpec(\n",
    "            cloud='aws',\n",
    "            region='us-east-1'\n",
    "        )\n",
    "    )\n",
    "\n",
    "\n",
    "index = pc.Index(index_name)\n"
   ]
  },
  {
   "cell_type": "markdown",
   "metadata": {},
   "source": [
    "## Upserting it to Pinecone "
   ]
  },
  {
   "cell_type": "code",
   "execution_count": 54,
   "metadata": {},
   "outputs": [
    {
     "name": "stderr",
     "output_type": "stream",
     "text": [
      "2024-10-19 16:08:53,404\tINFO streaming_executor.py:108 -- Starting execution of Dataset. Full logs are in C:\\Users\\Vipul\\AppData\\Local\\Temp\\ray\\session_2024-10-19_15-23-27_640146_1900\\logs\\ray-data\n",
      "2024-10-19 16:08:53,405\tINFO streaming_executor.py:109 -- Execution plan of Dataset: InputDataBuffer[Input] -> TaskPoolMapOperator[Map(split_sections)->Map(add_embeddings)]\n"
     ]
    },
    {
     "data": {
      "application/vnd.jupyter.widget-view+json": {
       "model_id": "702f8b8a400941ca96bc69f748fe9c81",
       "version_major": 2,
       "version_minor": 0
      },
      "text/plain": [
       "Running 0: 0.00 row [00:00, ? row/s]"
      ]
     },
     "metadata": {},
     "output_type": "display_data"
    },
    {
     "data": {
      "application/vnd.jupyter.widget-view+json": {
       "model_id": "152211e6b1ff43508615f2d2ecbe1628",
       "version_major": 2,
       "version_minor": 0
      },
      "text/plain": [
       "- Map(split_sections)->Map(add_embeddings) 1: 0.00 row [00:00, ? row/s]"
      ]
     },
     "metadata": {},
     "output_type": "display_data"
    },
    {
     "name": "stdout",
     "output_type": "stream",
     "text": [
      "Upsert process completed!\n"
     ]
    }
   ],
   "source": [
    "\n",
    "def upsert_to_pinecone(row):\n",
    "    for section, embedding in row[\"embeddings\"].items():\n",
    "        # Creating a unique ID using filename and section header\n",
    "        vector_id = f\"{row['filename']}_{section}\"\n",
    "        \n",
    "        # Upsert the embedding for this section\n",
    "        index.upsert(vectors=[(vector_id, embedding)])\n",
    "\n",
    "\n",
    "rows = vectorized_dataset.take_all()  # Take all rows from the dataset\n",
    "\n",
    "for row in rows:\n",
    "    upsert_to_pinecone(row)\n",
    "\n",
    "print(\"Upsert process completed!\")\n"
   ]
  },
  {
   "cell_type": "code",
   "execution_count": null,
   "metadata": {},
   "outputs": [],
   "source": []
  }
 ],
 "metadata": {
  "kernelspec": {
   "display_name": "pdf",
   "language": "python",
   "name": "python3"
  },
  "language_info": {
   "codemirror_mode": {
    "name": "ipython",
    "version": 3
   },
   "file_extension": ".py",
   "mimetype": "text/x-python",
   "name": "python",
   "nbconvert_exporter": "python",
   "pygments_lexer": "ipython3",
   "version": "3.10.15"
  }
 },
 "nbformat": 4,
 "nbformat_minor": 2
}
