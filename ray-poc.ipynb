{
 "cells": [
  {
   "cell_type": "code",
   "execution_count": 1,
   "metadata": {},
   "outputs": [
    {
     "data": {
      "application/vnd.jupyter.widget-view+json": {
       "model_id": "4ff9df6c646e4ff384cf281add87070b",
       "version_major": 2,
       "version_minor": 0
      },
      "text/html": [
       "<div class=\"lm-Widget p-Widget lm-Panel p-Panel jp-Cell-outputWrapper\">\n",
       "    <div style=\"margin-left: 50px;display: flex;flex-direction: row;align-items: center\">\n",
       "        <div class=\"jp-RenderedHTMLCommon\" style=\"display: flex; flex-direction: row;\">\n",
       "  <svg viewBox=\"0 0 567 224\" fill=\"none\" xmlns=\"http://www.w3.org/2000/svg\" style=\"height: 3em;\">\n",
       "    <g clip-path=\"url(#clip0_4338_178347)\">\n",
       "        <path d=\"M341.29 165.561H355.29L330.13 129.051C345.63 123.991 354.21 112.051 354.21 94.2307C354.21 71.3707 338.72 58.1807 311.88 58.1807H271V165.561H283.27V131.661H311.8C314.25 131.661 316.71 131.501 319.01 131.351L341.25 165.561H341.29ZM283.29 119.851V70.0007H311.82C331.3 70.0007 342.34 78.2907 342.34 94.5507C342.34 111.271 331.34 119.861 311.82 119.861L283.29 119.851ZM451.4 138.411L463.4 165.561H476.74L428.74 58.1807H416L367.83 165.561H380.83L392.83 138.411H451.4ZM446.19 126.601H398L422 72.1407L446.24 126.601H446.19ZM526.11 128.741L566.91 58.1807H554.35L519.99 114.181L485.17 58.1807H472.44L514.01 129.181V165.541H526.13V128.741H526.11Z\" fill=\"var(--jp-ui-font-color0)\"/>\n",
       "        <path d=\"M82.35 104.44C84.0187 97.8827 87.8248 92.0678 93.1671 87.9146C98.5094 83.7614 105.083 81.5067 111.85 81.5067C118.617 81.5067 125.191 83.7614 130.533 87.9146C135.875 92.0678 139.681 97.8827 141.35 104.44H163.75C164.476 101.562 165.622 98.8057 167.15 96.2605L127.45 56.5605C121.071 60.3522 113.526 61.6823 106.235 60.3005C98.9443 58.9187 92.4094 54.9203 87.8602 49.0574C83.3109 43.1946 81.0609 35.8714 81.5332 28.4656C82.0056 21.0599 85.1679 14.0819 90.4252 8.8446C95.6824 3.60726 102.672 0.471508 110.08 0.0272655C117.487 -0.416977 124.802 1.86091 130.647 6.4324C136.493 11.0039 140.467 17.5539 141.821 24.8501C143.175 32.1463 141.816 39.6859 138 46.0505L177.69 85.7505C182.31 82.9877 187.58 81.4995 192.962 81.4375C198.345 81.3755 203.648 82.742 208.33 85.3976C213.012 88.0532 216.907 91.9029 219.616 96.5544C222.326 101.206 223.753 106.492 223.753 111.875C223.753 117.258 222.326 122.545 219.616 127.197C216.907 131.848 213.012 135.698 208.33 138.353C203.648 141.009 198.345 142.375 192.962 142.313C187.58 142.251 182.31 140.763 177.69 138L138 177.7C141.808 184.071 143.155 191.614 141.79 198.91C140.424 206.205 136.44 212.75 130.585 217.313C124.731 221.875 117.412 224.141 110.004 223.683C102.596 223.226 95.6103 220.077 90.3621 214.828C85.1139 209.58 81.9647 202.595 81.5072 195.187C81.0497 187.779 83.3154 180.459 87.878 174.605C92.4405 168.751 98.9853 164.766 106.281 163.401C113.576 162.035 121.119 163.383 127.49 167.19L167.19 127.49C165.664 124.941 164.518 122.182 163.79 119.3H141.39C139.721 125.858 135.915 131.673 130.573 135.826C125.231 139.98 118.657 142.234 111.89 142.234C105.123 142.234 98.5494 139.98 93.2071 135.826C87.8648 131.673 84.0587 125.858 82.39 119.3H60C58.1878 126.495 53.8086 132.78 47.6863 136.971C41.5641 141.163 34.1211 142.972 26.7579 142.059C19.3947 141.146 12.6191 137.574 7.70605 132.014C2.79302 126.454 0.0813599 119.29 0.0813599 111.87C0.0813599 104.451 2.79302 97.2871 7.70605 91.7272C12.6191 86.1673 19.3947 82.5947 26.7579 81.6817C34.1211 80.7686 41.5641 82.5781 47.6863 86.7696C53.8086 90.9611 58.1878 97.2456 60 104.44H82.35ZM100.86 204.32C103.407 206.868 106.759 208.453 110.345 208.806C113.93 209.159 117.527 208.258 120.522 206.256C123.517 204.254 125.725 201.276 126.771 197.828C127.816 194.38 127.633 190.677 126.253 187.349C124.874 184.021 122.383 181.274 119.205 179.577C116.027 177.88 112.359 177.337 108.826 178.042C105.293 178.746 102.113 180.654 99.8291 183.44C97.5451 186.226 96.2979 189.718 96.3 193.32C96.2985 195.364 96.7006 197.388 97.4831 199.275C98.2656 201.163 99.4132 202.877 100.86 204.32ZM204.32 122.88C206.868 120.333 208.453 116.981 208.806 113.396C209.159 109.811 208.258 106.214 206.256 103.219C204.254 100.223 201.275 98.0151 197.827 96.97C194.38 95.9249 190.676 96.1077 187.348 97.4873C184.02 98.8669 181.274 101.358 179.577 104.536C177.879 107.714 177.337 111.382 178.041 114.915C178.746 118.448 180.653 121.627 183.439 123.911C186.226 126.195 189.717 127.443 193.32 127.44C195.364 127.443 197.388 127.042 199.275 126.259C201.163 125.476 202.878 124.328 204.32 122.88ZM122.88 19.4205C120.333 16.8729 116.981 15.2876 113.395 14.9347C109.81 14.5817 106.213 15.483 103.218 17.4849C100.223 19.4868 98.0146 22.4654 96.9696 25.9131C95.9245 29.3608 96.1073 33.0642 97.4869 36.3922C98.8665 39.7202 101.358 42.4668 104.535 44.1639C107.713 45.861 111.381 46.4036 114.914 45.6992C118.447 44.9949 121.627 43.0871 123.911 40.301C126.195 37.515 127.442 34.0231 127.44 30.4205C127.44 28.3772 127.038 26.3539 126.255 24.4664C125.473 22.5788 124.326 20.8642 122.88 19.4205ZM19.42 100.86C16.8725 103.408 15.2872 106.76 14.9342 110.345C14.5813 113.93 15.4826 117.527 17.4844 120.522C19.4863 123.518 22.4649 125.726 25.9127 126.771C29.3604 127.816 33.0638 127.633 36.3918 126.254C39.7198 124.874 42.4664 122.383 44.1635 119.205C45.8606 116.027 46.4032 112.359 45.6988 108.826C44.9944 105.293 43.0866 102.114 40.3006 99.8296C37.5145 97.5455 34.0227 96.2983 30.42 96.3005C26.2938 96.3018 22.337 97.9421 19.42 100.86ZM100.86 100.86C98.3125 103.408 96.7272 106.76 96.3742 110.345C96.0213 113.93 96.9226 117.527 98.9244 120.522C100.926 123.518 103.905 125.726 107.353 126.771C110.8 127.816 114.504 127.633 117.832 126.254C121.16 124.874 123.906 122.383 125.604 119.205C127.301 116.027 127.843 112.359 127.139 108.826C126.434 105.293 124.527 102.114 121.741 99.8296C118.955 97.5455 115.463 96.2983 111.86 96.3005C109.817 96.299 107.793 96.701 105.905 97.4835C104.018 98.2661 102.303 99.4136 100.86 100.86Z\" fill=\"#00AEEF\"/>\n",
       "    </g>\n",
       "    <defs>\n",
       "        <clipPath id=\"clip0_4338_178347\">\n",
       "            <rect width=\"566.93\" height=\"223.75\" fill=\"white\"/>\n",
       "        </clipPath>\n",
       "    </defs>\n",
       "  </svg>\n",
       "</div>\n",
       "\n",
       "        <table class=\"jp-RenderedHTMLCommon\" style=\"border-collapse: collapse;color: var(--jp-ui-font-color1);font-size: var(--jp-ui-font-size1);\">\n",
       "    <tr>\n",
       "        <td style=\"text-align: left\"><b>Python version:</b></td>\n",
       "        <td style=\"text-align: left\"><b>3.10.15</b></td>\n",
       "    </tr>\n",
       "    <tr>\n",
       "        <td style=\"text-align: left\"><b>Ray version:</b></td>\n",
       "        <td style=\"text-align: left\"><b>2.37.0</b></td>\n",
       "    </tr>\n",
       "    \n",
       "</table>\n",
       "\n",
       "    </div>\n",
       "</div>\n"
      ],
      "text/plain": [
       "RayContext(dashboard_url='', python_version='3.10.15', ray_version='2.37.0', ray_commit='1b620f244c4fb67d80661046091573fb6eefecb6')"
      ]
     },
     "execution_count": 1,
     "metadata": {},
     "output_type": "execute_result"
    }
   ],
   "source": [
    "import ray\n",
    "\n",
    "ray.init(logging_level=\"ERROR\")\n"
   ]
  },
  {
   "cell_type": "code",
   "execution_count": 2,
   "metadata": {},
   "outputs": [
    {
     "name": "stderr",
     "output_type": "stream",
     "text": [
      "2024-10-18 18:43:19,823\tINFO dataset.py:2416 -- Tip: Use `take_batch()` instead of `take() / show()` to return records in pandas or numpy batch format.\n",
      "2024-10-18 18:43:19,832\tINFO streaming_executor.py:108 -- Starting execution of Dataset. Full logs are in C:\\Users\\Vipul\\AppData\\Local\\Temp\\ray\\session_2024-10-18_18-42-51_240098_31748\\logs\\ray-data\n",
      "2024-10-18 18:43:19,832\tINFO streaming_executor.py:109 -- Execution plan of Dataset: InputDataBuffer[Input] -> LimitOperator[limit=2]\n"
     ]
    },
    {
     "data": {
      "application/vnd.jupyter.widget-view+json": {
       "model_id": "6bcf180ea7ff4498bf9b024e3cbd6ea1",
       "version_major": 2,
       "version_minor": 0
      },
      "text/plain": [
       "Running 0: 0.00 row [00:00, ? row/s]"
      ]
     },
     "metadata": {},
     "output_type": "display_data"
    },
    {
     "data": {
      "application/vnd.jupyter.widget-view+json": {
       "model_id": "d2d06e8a86e94b0aada5450c1510469e",
       "version_major": 2,
       "version_minor": 0
      },
      "text/plain": [
       "- limit=2 1: 0.00 row [00:00, ? row/s]"
      ]
     },
     "metadata": {},
     "output_type": "display_data"
    },
    {
     "name": "stdout",
     "output_type": "stream",
     "text": [
      "[{'filename': 'CleanBot_Robotic_Vacuum_Cleaner_FAQ.pdf', 'content': 'CleanBot Robotic Vacuum Cleaner FAQ \\n1. Product Overview \\nCleanBot offers a range of robotic vacuum cleaners to suit different cleaning needs. Our \\ncurrent lineup includes: \\n• CB-100 (Basic) \\n• CB-200 (Smart Navigation) \\n• CB-300 (Self-Emptying) \\nEach model is designed to provide efficient and hassle-free cleaning. \\n2. Technical Specifications \\nCB-100 (Basic) \\nBattery Life: 90 minutes \\nSuction Power: 2000Pa \\nDustbin Capacity: 0.5L \\nNoise Level: 60dB \\nWeight: 3.5kg \\nCB-200 (Smart Navigation) \\nBattery Life: 90 minutes \\nSuction Power: 2000Pa \\nDustbin Capacity: 0.5L \\nNoise Level: 60dB \\nWeight: 3.5kg \\nCB-300 (Self-Emptying) \\nBattery Life: 90 minutes \\nSuction Power: 2000Pa \\nDustbin Capacity: 0.5L Noise Level: 60dB \\nWeight: 3.5kg \\n3. Key Features \\n• Efficient Cleaning: High suction power and multiple cleaning modes. \\n• Smart Navigation: Advanced sensors for better navigation and cleaning. \\n• Self-Emptying: Automatically empties its dustbin for hands-free maintenance. \\n4. Setup and Installation \\nStep-by-step instructions for setting up your CleanBot robotic vacuum cleaner: \\n1. Unbox the vacuum cleaner and charging dock. \\n2. Place the charging dock against a wall and plug it in. \\n3. Place the vacuum cleaner on the dock to charge. \\n4. Download the CleanBot app and follow the setup instructions. \\n5. Usage Instructions \\nDetailed guidelines on using various features and optimizing performance: \\n• Use the app to start, stop, and schedule cleaning sessions. \\n• Select different cleaning modes (e.g., auto, spot, edge) based on your needs. \\n• Monitor the cleaning progress and battery status through the app. \\n6. Maintenance and Care \\nGuidelines for keeping your robotic vacuum cleaner in top condition: \\n• Regularly empty the dustbin and clean the filters. \\n• Check and clean the brushes and sensors to ensure optimal performance. \\n• Keep the firmware updated for enhanced features and performance. \\n7. Troubleshooting \\nCommon issues and their solutions: Problem: Vacuum Cleaner Not Charging \\nSolution: Ensure the charging dock is plugged in and the vacuum is properly aligned with \\nthe dock. \\nProblem: Reduced Suction Power \\nSolution: Check for blockages in the suction path and clean the filters. \\nProblem: Random Navigation \\nSolution: Reset the navigation system through the app and ensure the sensors are clean. \\n8. Warranty Information \\nComprehensive warranty details for your CleanBot robotic vacuum cleaner: \\n• Coverage period: 1 year from the date of purchase. \\n• Includes free repair and replacement for manufacturing defects. \\n• Excludes damage caused by misuse or unauthorized modifications. \\n9. Customer Support \\nInformation on how to get support for your CleanBot robotic vacuum cleaner: \\n• Visit our online support portal for FAQs and troubleshooting guides. \\n• Contact our support team via phone or email for personalized assistance. \\n• Locate the nearest service center for in-person support. '}, {'filename': 'CleanPro_Washing_Machine_FAQ.pdf', 'content': 'CleanPro Washing Machine FAQ \\n1. Product Overview \\nCleanPro offers a range of washing machines designed to meet various laundry needs. Our \\ncurrent lineup includes: \\n• CP-FL800 (Front Load) \\n• CP-TL600 (Top Load) \\n• CP-CD900 (Combo Washer-Dryer) \\nEach model is equipped with advanced technology and features to provide a superior \\nwashing experience. \\n2. Technical Specifications \\nCP-FL800 (Front Load) \\nCapacity: 8kg \\nSpin Speed: 1200 RPM \\nEnergy Rating: A+++ \\nWater Consumption: 50L per wash cycle \\nPrograms: Cotton, Synthetic, Delicate, Quick Wash, Eco Wash \\nCP-TL600 (Top Load) \\nCapacity: 8kg \\nSpin Speed: 1200 RPM \\nEnergy Rating: A+++ \\nWater Consumption: 50L per wash cycle \\nPrograms: Cotton, Synthetic, Delicate, Quick Wash, Eco Wash \\nCP-CD900 (Combo Washer-Dryer) \\nCapacity: 8kg \\nSpin Speed: 1200 RPM \\nEnergy Rating: A+++ Water Consumption: 50L per wash cycle \\nPrograms: Cotton, Synthetic, Delicate, Quick Wash, Eco Wash \\n3. Key Features \\n• Multiple Wash Programs: Choose from a variety of programs to suit different fabrics and \\nstains. \\n• Eco Wash: Reduces water and energy consumption while maintaining wash quality. \\n• Smart Diagnosis: Detects and alerts you to potential issues before they become serious \\nproblems. \\n4. Setup and Installation \\nStep-by-step instructions for setting up your CleanPro washing machine: \\n1. Unbox the washing machine and remove all packing materials. \\n2. Place the washing machine on a flat, stable surface near a water source and drain. \\n3. Connect the water inlet hose to a water tap and the drain hose to a drain outlet. \\n4. Plug in the washing machine and perform a test wash without laundry. \\n5. Usage Instructions \\nDetailed guidelines on using various features and optimizing performance: \\n• Select the appropriate wash program based on the type of laundry. \\n• Use the correct amount of detergent to avoid over-sudsing. \\n• Clean the detergent drawer and filter regularly to maintain performance. \\n6. Maintenance and Care \\nGuidelines for keeping your washing machine in top condition: \\n• Clean the drum and door seal regularly to prevent mold and mildew. \\n• Check the hoses for any leaks or damage and replace them if necessary. \\n• Run a maintenance wash with a washing machine cleaner once a month. 7. Troubleshooting \\nCommon issues and their solutions: \\nProblem: Washing Machine Not Draining \\nSolution: Check the drain hose for any blockages and ensure it is positioned correctly. \\nProblem: Excessive Vibration During Spin \\nSolution: Ensure the washing machine is level and all transit bolts have been removed. \\nProblem: Detergent Not Dispensing \\nSolution: Clean the detergent drawer and ensure it is properly inserted. \\n8. Warranty Information \\nComprehensive warranty details for your CleanPro washing machine: \\n• Coverage period: 2 years from the date of purchase. \\n• Includes free repair and replacement for manufacturing defects. \\n• Excludes damage caused by misuse or unauthorized modifications. \\n9. Customer Support \\nInformation on how to get support for your CleanPro washing machine: \\n• Visit our online support portal for FAQs and troubleshooting guides. \\n• Contact our support team via phone or email for personalized assistance. \\n• Locate the nearest service center for in-person support. '}]\n"
     ]
    }
   ],
   "source": [
    "import os\n",
    "from PyPDF2 import PdfReader\n",
    "import ray\n",
    "import ray.data\n",
    "\n",
    "\n",
    "pdf_dir = r\"C:\\Users\\Vipul\\RAG-PDF-QUERYING\\data\"\n",
    "\n",
    "# Function to extract text from a PDF\n",
    "def extract_text(filepath):\n",
    "    reader = PdfReader(filepath)\n",
    "    text = ''.join(page.extract_text() or '' for page in reader.pages)\n",
    "    return text\n",
    "\n",
    "# Prepare data\n",
    "data = []\n",
    "for filename in os.listdir(pdf_dir):\n",
    "    if filename.lower().endswith('.pdf'):\n",
    "        path = os.path.join(pdf_dir, filename)\n",
    "        text = extract_text(path)\n",
    "        data.append({\"filename\": filename, \"content\": text})\n",
    "\n",
    "\n",
    "dataset = ray.data.from_items(data)\n",
    "\n",
    "# (Optional) Show some data\n",
    "print(dataset.take(2))\n",
    "\n",
    "\n"
   ]
  },
  {
   "cell_type": "code",
   "execution_count": 3,
   "metadata": {},
   "outputs": [
    {
     "name": "stderr",
     "output_type": "stream",
     "text": [
      "2024-10-18 18:44:39,023\tINFO streaming_executor.py:108 -- Starting execution of Dataset. Full logs are in C:\\Users\\Vipul\\AppData\\Local\\Temp\\ray\\session_2024-10-18_18-42-51_240098_31748\\logs\\ray-data\n",
      "2024-10-18 18:44:39,023\tINFO streaming_executor.py:109 -- Execution plan of Dataset: InputDataBuffer[Input] -> LimitOperator[limit=20]\n"
     ]
    },
    {
     "data": {
      "application/vnd.jupyter.widget-view+json": {
       "model_id": "3916e5043cf741f5a3b2a8bbe138dccc",
       "version_major": 2,
       "version_minor": 0
      },
      "text/plain": [
       "Running 0: 0.00 row [00:00, ? row/s]"
      ]
     },
     "metadata": {},
     "output_type": "display_data"
    },
    {
     "data": {
      "application/vnd.jupyter.widget-view+json": {
       "model_id": "a0b39c779f4e4f52ba3f70449b21a744",
       "version_major": 2,
       "version_minor": 0
      },
      "text/plain": [
       "- limit=20 1: 0.00 row [00:00, ? row/s]"
      ]
     },
     "metadata": {},
     "output_type": "display_data"
    },
    {
     "name": "stdout",
     "output_type": "stream",
     "text": [
      "{'filename': 'CleanBot_Robotic_Vacuum_Cleaner_FAQ.pdf', 'content': 'CleanBot Robotic Vacuum Cleaner FAQ \\n1. Product Overview \\nCleanBot offers a range of robotic vacuum cleaners to suit different cleaning needs. Our \\ncurrent lineup includes: \\n• CB-100 (Basic) \\n• CB-200 (Smart Navigation) \\n• CB-300 (Self-Emptying) \\nEach model is designed to provide efficient and hassle-free cleaning. \\n2. Technical Specifications \\nCB-100 (Basic) \\nBattery Life: 90 minutes \\nSuction Power: 2000Pa \\nDustbin Capacity: 0.5L \\nNoise Level: 60dB \\nWeight: 3.5kg \\nCB-200 (Smart Navigation) \\nBattery Life: 90 minutes \\nSuction Power: 2000Pa \\nDustbin Capacity: 0.5L \\nNoise Level: 60dB \\nWeight: 3.5kg \\nCB-300 (Self-Emptying) \\nBattery Life: 90 minutes \\nSuction Power: 2000Pa \\nDustbin Capacity: 0.5L Noise Level: 60dB \\nWeight: 3.5kg \\n3. Key Features \\n• Efficient Cleaning: High suction power and multiple cleaning modes. \\n• Smart Navigation: Advanced sensors for better navigation and cleaning. \\n• Self-Emptying: Automatically empties its dustbin for hands-free maintenance. \\n4. Setup and Installation \\nStep-by-step instructions for setting up your CleanBot robotic vacuum cleaner: \\n1. Unbox the vacuum cleaner and charging dock. \\n2. Place the charging dock against a wall and plug it in. \\n3. Place the vacuum cleaner on the dock to charge. \\n4. Download the CleanBot app and follow the setup instructions. \\n5. Usage Instructions \\nDetailed guidelines on using various features and optimizing performance: \\n• Use the app to start, stop, and schedule cleaning sessions. \\n• Select different cleaning modes (e.g., auto, spot, edge) based on your needs. \\n• Monitor the cleaning progress and battery status through the app. \\n6. Maintenance and Care \\nGuidelines for keeping your robotic vacuum cleaner in top condition: \\n• Regularly empty the dustbin and clean the filters. \\n• Check and clean the brushes and sensors to ensure optimal performance. \\n• Keep the firmware updated for enhanced features and performance. \\n7. Troubleshooting \\nCommon issues and their solutions: Problem: Vacuum Cleaner Not Charging \\nSolution: Ensure the charging dock is plugged in and the vacuum is properly aligned with \\nthe dock. \\nProblem: Reduced Suction Power \\nSolution: Check for blockages in the suction path and clean the filters. \\nProblem: Random Navigation \\nSolution: Reset the navigation system through the app and ensure the sensors are clean. \\n8. Warranty Information \\nComprehensive warranty details for your CleanBot robotic vacuum cleaner: \\n• Coverage period: 1 year from the date of purchase. \\n• Includes free repair and replacement for manufacturing defects. \\n• Excludes damage caused by misuse or unauthorized modifications. \\n9. Customer Support \\nInformation on how to get support for your CleanBot robotic vacuum cleaner: \\n• Visit our online support portal for FAQs and troubleshooting guides. \\n• Contact our support team via phone or email for personalized assistance. \\n• Locate the nearest service center for in-person support. '}\n",
      "{'filename': 'CleanPro_Washing_Machine_FAQ.pdf', 'content': 'CleanPro Washing Machine FAQ \\n1. Product Overview \\nCleanPro offers a range of washing machines designed to meet various laundry needs. Our \\ncurrent lineup includes: \\n• CP-FL800 (Front Load) \\n• CP-TL600 (Top Load) \\n• CP-CD900 (Combo Washer-Dryer) \\nEach model is equipped with advanced technology and features to provide a superior \\nwashing experience. \\n2. Technical Specifications \\nCP-FL800 (Front Load) \\nCapacity: 8kg \\nSpin Speed: 1200 RPM \\nEnergy Rating: A+++ \\nWater Consumption: 50L per wash cycle \\nPrograms: Cotton, Synthetic, Delicate, Quick Wash, Eco Wash \\nCP-TL600 (Top Load) \\nCapacity: 8kg \\nSpin Speed: 1200 RPM \\nEnergy Rating: A+++ \\nWater Consumption: 50L per wash cycle \\nPrograms: Cotton, Synthetic, Delicate, Quick Wash, Eco Wash \\nCP-CD900 (Combo Washer-Dryer) \\nCapacity: 8kg \\nSpin Speed: 1200 RPM \\nEnergy Rating: A+++ Water Consumption: 50L per wash cycle \\nPrograms: Cotton, Synthetic, Delicate, Quick Wash, Eco Wash \\n3. Key Features \\n• Multiple Wash Programs: Choose from a variety of programs to suit different fabrics and \\nstains. \\n• Eco Wash: Reduces water and energy consumption while maintaining wash quality. \\n• Smart Diagnosis: Detects and alerts you to potential issues before they become serious \\nproblems. \\n4. Setup and Installation \\nStep-by-step instructions for setting up your CleanPro washing machine: \\n1. Unbox the washing machine and remove all packing materials. \\n2. Place the washing machine on a flat, stable surface near a water source and drain. \\n3. Connect the water inlet hose to a water tap and the drain hose to a drain outlet. \\n4. Plug in the washing machine and perform a test wash without laundry. \\n5. Usage Instructions \\nDetailed guidelines on using various features and optimizing performance: \\n• Select the appropriate wash program based on the type of laundry. \\n• Use the correct amount of detergent to avoid over-sudsing. \\n• Clean the detergent drawer and filter regularly to maintain performance. \\n6. Maintenance and Care \\nGuidelines for keeping your washing machine in top condition: \\n• Clean the drum and door seal regularly to prevent mold and mildew. \\n• Check the hoses for any leaks or damage and replace them if necessary. \\n• Run a maintenance wash with a washing machine cleaner once a month. 7. Troubleshooting \\nCommon issues and their solutions: \\nProblem: Washing Machine Not Draining \\nSolution: Check the drain hose for any blockages and ensure it is positioned correctly. \\nProblem: Excessive Vibration During Spin \\nSolution: Ensure the washing machine is level and all transit bolts have been removed. \\nProblem: Detergent Not Dispensing \\nSolution: Clean the detergent drawer and ensure it is properly inserted. \\n8. Warranty Information \\nComprehensive warranty details for your CleanPro washing machine: \\n• Coverage period: 2 years from the date of purchase. \\n• Includes free repair and replacement for manufacturing defects. \\n• Excludes damage caused by misuse or unauthorized modifications. \\n9. Customer Support \\nInformation on how to get support for your CleanPro washing machine: \\n• Visit our online support portal for FAQs and troubleshooting guides. \\n• Contact our support team via phone or email for personalized assistance. \\n• Locate the nearest service center for in-person support. '}\n",
      "{'filename': 'CompuTech_Laptop_FAQ.pdf', 'content': 'CompuTech Laptop FAQ \\n1. Product Overview \\nCompuTech offers a range of laptops to meet diverse computing needs. Our current lineup \\nincludes: \\n• CT-B500 (Business) \\n• CT-G700 (Gaming) \\n• CT-U300 (Ultralight) \\nEach model is engineered with high-performance components and innovative features to \\nenhance user experience. \\n2. Technical Specifications \\nCT-B500 (Business) \\nProcessor: Intel i7 \\nMemory: 16GB RAM \\nStorage: 512GB SSD \\nDisplay: 15.6-inch Full HD \\nGraphics: NVIDIA GTX 1650 \\nBattery Capacity: 6000mAh \\nCT-G700 (Gaming) \\nProcessor: Intel i7 \\nMemory: 16GB RAM \\nStorage: 512GB SSD \\nDisplay: 15.6-inch Full HD \\nGraphics: NVIDIA GTX 1650 \\nBattery Capacity: 6000mAh \\nCT-U300 (Ultralight) \\nProcessor: Intel i7 Memory: 16GB RAM \\nStorage: 512GB SSD \\nDisplay: 15.6-inch Full HD \\nGraphics: NVIDIA GTX 1650 \\nBattery Capacity: 6000mAh \\n3. Key Features \\n• High-Performance Processor: Ensures smooth and fast computing experience for all tasks. \\n• Advanced Graphics: Provides stunning visuals for gaming and multimedia. \\n• Long Battery Life: Offers extended usage without frequent recharging. \\n4. Setup and Installation \\nStep-by-step instructions for setting up your new CompuTech laptop: \\n1. Unbox the laptop and connect the charger. \\n2. Power on the laptop and follow the on-screen setup instructions. \\n3. Install essential software and updates. \\n5. Usage Instructions \\nDetailed guidelines on using various features and optimizing performance: \\n• Use the control panel to manage hardware settings. \\n• Customize the desktop environment for better productivity. \\n• Utilize power-saving modes to extend battery life. \\n6. Maintenance and Care \\nGuidelines for keeping your laptop in top condition: \\n• Regularly clean the keyboard and screen. \\n• Ensure proper ventilation to prevent overheating. \\n• Keep the software updated to enhance security and performance. 7. Troubleshooting \\nCommon issues and their solutions: \\nProblem: Slow Performance \\nSolution: Close unnecessary applications and check for malware. \\nProblem: Overheating \\nSolution: Ensure proper ventilation and clean the cooling fans. \\nProblem: Battery Not Charging \\nSolution: Check the charger and battery health. Replace if necessary. \\n8. Warranty Information \\nComprehensive warranty details for your CompuTech laptop: \\n• Coverage period: 2 years from the date of purchase. \\n• Includes free repair and replacement for manufacturing defects. \\n• Excludes damage caused by misuse or unauthorized modifications. \\n9. Customer Support \\nInformation on how to get support for your CompuTech laptop: \\n• Visit our online support portal for FAQs and troubleshooting guides. \\n• Contact our support team via phone or email for personalized assistance. \\n• Locate the nearest service center for in-person support. '}\n",
      "{'filename': 'CoolTech_Refrigerator_FAQ.pdf', 'content': 'CoolTech Refrigerator FAQ \\n1. Product Overview \\nCoolTech offers a variety of refrigerators to suit different household needs. Our current \\nlineup includes: \\n• CT-FD450 (French Door) \\n• CT-SBS500 (Side-by-Side) \\n• CT-TF400 (Top Freezer) \\nEach model is equipped with innovative cooling technology and convenient features. \\n2. Technical Specifications \\nCT-FD450 (French Door) \\nCapacity: 450L \\nDimensions: 70 x 36 x 33 inches \\nEnergy Rating: A++ \\nCooling Technology: Multi-Airflow System \\nFreezer Capacity: 150L \\nRefrigerator Capacity: 300L \\nCT-SBS500 (Side-by-Side) \\nCapacity: 450L \\nDimensions: 70 x 36 x 33 inches \\nEnergy Rating: A++ \\nCooling Technology: Multi-Airflow System \\nFreezer Capacity: 150L \\nRefrigerator Capacity: 300L \\nCT-TF400 (Top Freezer) \\nCapacity: 450L Dimensions: 70 x 36 x 33 inches \\nEnergy Rating: A++ \\nCooling Technology: Multi-Airflow System \\nFreezer Capacity: 150L \\nRefrigerator Capacity: 300L \\n3. Key Features \\n• Multi-Airflow System: Ensures uniform cooling throughout the refrigerator. \\n• Frost-Free Technology: Prevents ice build-up, reducing the need for manual defrosting. \\n• Digital Inverter Compressor: Adjusts cooling speed for efficient energy consumption. \\n4. Setup and Installation \\nStep-by-step instructions for setting up your CoolTech refrigerator: \\n1. Unbox the refrigerator and remove all packing materials. \\n2. Place the refrigerator on a flat, stable surface. \\n3. Connect the refrigerator to a power outlet and allow it to cool for a few hours before use. \\n5. Usage Instructions \\nDetailed guidelines on using various features and optimizing performance: \\n• Adjust the temperature settings according to the type of food stored. \\n• Use the humidity-controlled crisper drawers to keep fruits and vegetables fresh. \\n• Ensure proper spacing between items for better air circulation. \\n6. Maintenance and Care \\nGuidelines for keeping your refrigerator in top condition: \\n• Clean the interior and exterior regularly with a mild detergent. \\n• Check the door seals for any damage and replace them if necessary. \\n• Defrost the freezer compartment periodically to maintain efficiency. 7. Troubleshooting \\nCommon issues and their solutions: \\nProblem: Refrigerator Not Cooling \\nSolution: Check if the refrigerator is properly plugged in and the thermostat is set correctly. \\nProblem: Excessive Frost Build-Up \\nSolution: Ensure the door is closing properly and the seals are intact. \\nProblem: Unusual Noises \\nSolution: Check for any items obstructing the fan or compressor. \\n8. Warranty Information \\nComprehensive warranty details for your CoolTech refrigerator: \\n• Coverage period: 2 years from the date of purchase. \\n• Includes free repair and replacement for manufacturing defects. \\n• Excludes damage caused by misuse or unauthorized modifications. \\n9. Customer Support \\nInformation on how to get support for your CoolTech refrigerator: \\n• Visit our online support portal for FAQs and troubleshooting guides. \\n• Contact our support team via phone or email for personalized assistance. \\n• Locate the nearest service center for in-person support. '}\n",
      "{'filename': 'EcoControl_Smart_Home_Thermostat_FAQ.pdf', 'content': \"EcoControl Smart Home Thermostat \\nFAQ \\n1. Product Overview \\nEcoControl offers a range of smart home thermostats designed to provide comfort and \\nenergy efficiency. Our current lineup includes: \\n• EC-B10 (Basic) \\n• EC-L20 (Learning) \\n• EC-V30 (Voice-Controlled) \\nEach model is equipped with features to help you manage your home's climate effectively. \\n2. Technical Specifications \\nEC-B10 (Basic) \\nDisplay: 3.5-inch color LCD \\nConnectivity: Wi-Fi, Bluetooth \\nPower Source: Hardwired, Battery Backup \\nCompatibility: Works with most HVAC systems \\nSensors: Temperature, Humidity, Proximity \\nEC-L20 (Learning) \\nDisplay: 3.5-inch color LCD \\nConnectivity: Wi-Fi, Bluetooth \\nPower Source: Hardwired, Battery Backup \\nCompatibility: Works with most HVAC systems \\nSensors: Temperature, Humidity, Proximity \\nEC-V30 (Voice-Controlled) \\nDisplay: 3.5-inch color LCD \\nConnectivity: Wi-Fi, Bluetooth Power Source: Hardwired, Battery Backup \\nCompatibility: Works with most HVAC systems \\nSensors: Temperature, Humidity, Proximity \\n3. Key Features \\n• Energy Savings: Automatically adjusts temperature settings to save energy when you're \\naway. \\n• Smart Learning: Learns your schedule and preferences to optimize comfort and efficiency. \\n• Voice Control: Compatible with major voice assistants like Alexa and Google Assistant. \\n4. Setup and Installation \\nStep-by-step instructions for installing your EcoControl Smart Thermostat: \\n1. Turn off power to your HVAC system. \\n2. Remove your old thermostat and label the wires. \\n3. Mount the EcoControl thermostat base and connect the wires. \\n4. Attach the thermostat display and turn the power back on. \\n5. Follow the on-screen prompts to complete setup and connect to Wi-Fi. \\n5. Usage Instructions \\nDetailed guidelines on using various features and optimizing performance: \\n• Use the mobile app to remotely control your thermostat settings. \\n• Set schedules to automatically adjust temperatures based on your routine. \\n• Monitor energy usage and receive tips for saving energy. \\n6. Maintenance and Care \\nGuidelines for keeping your thermostat in top condition: \\n• Clean the display regularly with a soft, dry cloth. \\n• Replace the battery backup annually to ensure uninterrupted operation. \\n• Keep the firmware updated for optimal performance and security. 7. Troubleshooting \\nCommon issues and their solutions: \\nProblem: Thermostat Not Responding \\nSolution: Check the power connection and ensure the thermostat is properly installed. \\nProblem: Inaccurate Temperature Readings \\nSolution: Calibrate the thermostat and check for any obstructions blocking the sensors. \\nProblem: Unable to Connect to Wi-Fi \\nSolution: Restart the thermostat and router. Ensure you are using the correct Wi-Fi \\ncredentials. \\n8. Warranty Information \\nComprehensive warranty details for your EcoControl Smart Thermostat: \\n• Coverage period: 2 years from the date of purchase. \\n• Includes free repair and replacement for manufacturing defects. \\n• Excludes damage caused by misuse or unauthorized modifications. \\n9. Customer Support \\nInformation on how to get support for your EcoControl Smart Thermostat: \\n• Visit our online support portal for FAQs and troubleshooting guides. \\n• Contact our support team via phone or email for personalized assistance. \\n• Locate the nearest service center for in-person support. \"}\n",
      "{'filename': 'FitTech_Fitness_Tracker_FAQ.pdf', 'content': 'FitTech Fitness Tracker FAQ \\n1. Product Overview \\nFitTech offers a range of fitness trackers to help you monitor your health and fitness goals. \\nOur current lineup includes: \\n• FT-B100 (Basic) \\n• FT-A200 (Advanced) \\n• FT-P300 (Premium) \\nEach model is equipped with features to track your activity, heart rate, and more. \\n2. Technical Specifications \\nFT-B100 (Basic) \\nDisplay: 1.4-inch OLED \\nBattery Life: Up to 10 days \\nWater Resistance: 50 meters \\nConnectivity: Bluetooth 5.0 \\nSensors: Heart rate, accelerometer, gyroscope \\nCompatibility: iOS and Android \\nFT-A200 (Advanced) \\nDisplay: 1.4-inch OLED \\nBattery Life: Up to 10 days \\nWater Resistance: 50 meters \\nConnectivity: Bluetooth 5.0 \\nSensors: Heart rate, accelerometer, gyroscope \\nCompatibility: iOS and Android \\nFT-P300 (Premium) \\nDisplay: 1.4-inch OLED Battery Life: Up to 10 days \\nWater Resistance: 50 meters \\nConnectivity: Bluetooth 5.0 \\nSensors: Heart rate, accelerometer, gyroscope \\nCompatibility: iOS and Android \\n3. Key Features \\n• Activity Tracking: Monitor steps, distance, calories burned, and active minutes. \\n• Heart Rate Monitoring: Continuous heart rate tracking for better health insights. \\n• Sleep Analysis: Track your sleep patterns and get insights to improve your sleep quality. \\n4. Setup and Installation \\nStep-by-step instructions for setting up your FitTech fitness tracker: \\n1. Charge the tracker fully before first use. \\n2. Download the FitTech app from the App Store or Google Play. \\n3. Pair the tracker with your smartphone via Bluetooth. \\n4. Follow the in-app instructions to complete the setup process. \\n5. Usage Instructions \\nGuidelines on using various features and optimizing performance: \\n• Use the app to set goals and track your progress. \\n• Customize the watch face and notifications to suit your preferences. \\n• Sync the tracker with your phone regularly to keep data updated. \\n6. Maintenance and Care \\nTips for keeping your fitness tracker in top condition: \\n• Clean the band and tracker regularly to prevent skin irritation. \\n• Avoid exposing the tracker to extreme temperatures or direct sunlight. \\n• Keep the firmware updated for optimal performance. 7. Troubleshooting \\nCommon issues and their solutions: \\nProblem: Tracker Not Syncing \\nSolution: Ensure Bluetooth is enabled on your phone and restart both devices. \\nProblem: Inaccurate Step Count \\nSolution: Adjust the tracker fit and check the settings in the app. \\nProblem: Battery Draining Quickly \\nSolution: Reduce the frequency of notifications and disable unnecessary features. \\n8. Warranty Information \\nComprehensive warranty details for your FitTech fitness tracker: \\n• Coverage period: 1 year from the date of purchase. \\n• Includes free repair and replacement for manufacturing defects. \\n• Excludes damage caused by misuse or unauthorized modifications. \\n9. Customer Support \\nInformation on how to get support for your FitTech fitness tracker: \\n• Visit our online support portal for FAQs and troubleshooting guides. \\n• Contact our support team via phone or email for personalized assistance. \\n• Locate the nearest service center for in-person support. '}\n",
      "{'filename': 'PhotoPro_Digital_Camera_FAQ.pdf', 'content': 'PhotoPro Digital Camera FAQ \\n1. Product Overview \\nPhotoPro offers a range of digital cameras to cater to various photography needs. Our \\ncurrent lineup includes: \\n• PP-D5000 (DSLR) \\n• PP-M3000 (Mirrorless) \\n• PP-P1000 (Point-and-Shoot) \\nEach model is designed with advanced features to capture stunning images and videos. \\n2. Technical Specifications \\nPP-D5000 (DSLR) \\nResolution: 24.2MP \\nSensor Type: APS-C \\nISO Range: 100-25600 \\nDisplay: 3.0-inch LCD \\nVideo Resolution: 4K UHD at 30fps \\nBattery Life: 700 shots per charge \\nPP-M3000 (Mirrorless) \\nResolution: 24.2MP \\nSensor Type: APS-C \\nISO Range: 100-25600 \\nDisplay: 3.0-inch LCD \\nVideo Resolution: 4K UHD at 30fps \\nBattery Life: 700 shots per charge \\nPP-P1000 (Point-and-Shoot) \\nResolution: 24.2MP Sensor Type: APS-C \\nISO Range: 100-25600 \\nDisplay: 3.0-inch LCD \\nVideo Resolution: 4K UHD at 30fps \\nBattery Life: 700 shots per charge \\n3. Key Features \\n• High-Resolution Sensor: Capture detailed images with 24.2MP resolution. \\n• Fast Autofocus: Quick and accurate focusing for sharp photos. \\n• 4K Video Recording: Record high-quality videos with stunning clarity. \\n4. Setup and Installation \\nStep-by-step instructions for setting up your PhotoPro camera: \\n1. Insert the battery and memory card. \\n2. Attach the lens and remove the lens cap. \\n3. Power on the camera and set the date and time. \\n4. Adjust the settings according to your shooting preference. \\n5. Usage Instructions \\nGuidelines on using various features and optimizing performance: \\n• Use the mode dial to switch between different shooting modes. \\n• Adjust ISO, aperture, and shutter speed for better exposure. \\n• Use the viewfinder or LCD screen to compose your shots. \\n6. Maintenance and Care \\nTips for keeping your camera in top condition: \\n• Clean the lens and sensor regularly to avoid dust and smudges. \\n• Store the camera in a dry place and use a camera bag for protection. \\n• Update the firmware periodically for improved performance. 7. Troubleshooting \\nCommon issues and their solutions: \\nProblem: Blurry Images \\nSolution: Check the focus settings and use a tripod for stability. \\nProblem: Camera Not Powering On \\nSolution: Ensure the battery is charged and properly inserted. \\nProblem: Memory Card Error \\nSolution: Format the memory card in the camera and check for compatibility. \\n8. Warranty Information \\nComprehensive warranty details for your PhotoPro camera: \\n• Coverage period: 2 years from the date of purchase. \\n• Includes free repair and replacement for manufacturing defects. \\n• Excludes damage caused by misuse or unauthorized modifications. \\n9. Customer Support \\nInformation on how to get support for your PhotoPro camera: \\n• Visit our online support portal for FAQs and troubleshooting guides. \\n• Contact our support team via phone or email for personalized assistance. \\n• Locate the nearest service center for in-person support. '}\n",
      "{'filename': 'SoundWave_Wireless_Earbuds_FAQ.pdf', 'content': 'SoundWave Wireless Earbuds FAQ \\n1. Product Overview \\nSoundWave offers a range of wireless earbuds designed for different lifestyles. Our current \\nlineup includes: \\n• SW-S50 (Sport) \\n• SW-NC100 (Noise-Cancelling) \\n• SW-TW150 (True Wireless) \\nEach model delivers superior sound quality and advanced features for an enhanced \\nlistening experience. \\n2. Technical Specifications \\nSW-S50 (Sport) \\nBattery Life: 6 hours (earbuds), 24 hours (with charging case) \\nBluetooth Version: 5.0 \\nDriver Size: 10mm \\nFrequency Response: 20Hz - 20kHz \\nWater Resistance: IPX5 \\nSW-NC100 (Noise-Cancelling) \\nBattery Life: 6 hours (earbuds), 24 hours (with charging case) \\nBluetooth Version: 5.0 \\nDriver Size: 10mm \\nFrequency Response: 20Hz - 20kHz \\nWater Resistance: IPX5 \\nSW-TW150 (True Wireless) \\nBattery Life: 6 hours (earbuds), 24 hours (with charging case) \\nBluetooth Version: 5.0 \\nDriver Size: 10mm Frequency Response: 20Hz - 20kHz \\nWater Resistance: IPX5 \\n3. Key Features \\n• High-Quality Sound: Enjoy crystal clear audio with deep bass and balanced mids and \\nhighs. \\n• Active Noise Cancelling: Reduce ambient noise for an immersive listening experience. \\n• True Wireless Design: Experience total freedom with no wires to get in the way. \\n4. Setup and Installation \\nStep-by-step instructions for setting up your SoundWave wireless earbuds: \\n1. Remove the earbuds from the charging case. \\n2. Enable Bluetooth on your device and select the earbuds from the list of available devices. \\n3. Follow the pairing instructions displayed on your device. \\n5. Usage Instructions \\nDetailed guidelines on using various features and optimizing performance: \\n• Use touch controls to play/pause music, answer/end calls, and activate voice assistants. \\n• Switch between different noise cancelling modes using the app. \\n• Monitor battery status and customize settings through the SoundWave app. \\n6. Maintenance and Care \\nGuidelines for keeping your wireless earbuds in top condition: \\n• Regularly clean the earbuds and charging contacts with a soft, dry cloth. \\n• Store the earbuds in the charging case when not in use to protect them and keep them \\ncharged. \\n• Keep the firmware updated through the app for improved performance and new features. \\n7. Troubleshooting \\nCommon issues and their solutions: Problem: Earbuds Not Pairing \\nSolution: Ensure Bluetooth is enabled on your device and the earbuds are in pairing mode. \\nReset the earbuds if necessary. \\nProblem: Poor Sound Quality \\nSolution: Check the fit of the earbuds and clean any debris from the ear tips and speaker \\nmesh. \\nProblem: Battery Draining Quickly \\nSolution: Ensure the earbuds are properly seated in the charging case when not in use and \\ndisable any unnecessary features. \\n8. Warranty Information \\nComprehensive warranty details for your SoundWave wireless earbuds: \\n• Coverage period: 1 year from the date of purchase. \\n• Includes free repair and replacement for manufacturing defects. \\n• Excludes damage caused by misuse or unauthorized modifications. \\n9. Customer Support \\nInformation on how to get support for your SoundWave wireless earbuds: \\n• Visit our online support portal for FAQs and troubleshooting guides. \\n• Contact our support team via phone or email for personalized assistance. \\n• Locate the nearest service center for in-person support. '}\n",
      "{'filename': 'TechMobile_Smartphone_FAQ.pdf', 'content': 'TechMobile Smartphone FAQ \\n1. Product Overview \\nTechMobile offers a range of smartphones to suit various needs and preferences. Our \\ncurrent lineup includes: \\n• TM-S100 (Standard) \\n• TM-P200 (Pro) \\n• TM-L150 (Lite) \\nEach device is designed with cutting-edge technology to provide an exceptional user \\nexperience. \\n2. Technical Specifications \\nTM-S100 (Standard) \\nProcessor: Snapdragon 888 \\nMemory: 8GB RAM \\nStorage: 128GB \\nDisplay: 6.5-inch AMOLED, 1080x2400 pixels \\nCamera: 64MP main, 12MP ultra-wide, 5MP macro \\nBattery Capacity: 4500mAh \\nTM-P200 (Pro) \\nProcessor: Snapdragon 888 \\nMemory: 8GB RAM \\nStorage: 128GB \\nDisplay: 6.5-inch AMOLED, 1080x2400 pixels \\nCamera: 64MP main, 12MP ultra-wide, 5MP macro \\nBattery Capacity: 4500mAh \\nTM-L150 (Lite) \\nProcessor: Snapdragon 888 Memory: 8GB RAM \\nStorage: 128GB \\nDisplay: 6.5-inch AMOLED, 1080x2400 pixels \\nCamera: 64MP main, 12MP ultra-wide, 5MP macro \\nBattery Capacity: 4500mAh \\n3. Key Features \\n• AI-Enhanced Photography: The AI camera system optimizes settings for different scenes, \\nensuring stunning photos every time. \\n• 5G Connectivity: Experience blazing fast internet speeds with 5G support, allowing \\nseamless streaming and browsing. \\n• Advanced Security Measures: Includes facial recognition, fingerprint scanner, and secure \\nencryption to protect your data. \\n4. Battery Life \\nThe battery life of TechMobile smartphones is designed to last all day with moderate use. \\nFor heavy users, fast charging capabilities ensure you are never out of power for long. \\nTips for optimizing battery life: \\n• Reduce screen brightness and timeout duration. \\n• Disable background app refresh for non-essential apps. \\n• Use battery saver mode when needed. \\n5. Camera \\nTechMobile smartphones feature a versatile camera system with multiple lenses to suit \\ndifferent photography needs. From ultra-wide landscape shots to detailed macro \\nphotography, capture every moment with precision. \\nTips for best photography: \\n• Use Pro mode to manually adjust settings for optimal results. \\n• Experiment with different camera modes like Night, Portrait, and Panorama. \\n• Clean the camera lens regularly to avoid blurry images. 6. Connectivity \\nTechMobile smartphones support a wide range of connectivity options including: \\n• 5G and 4G LTE networks for fast mobile internet. \\n• Bluetooth 5.0 for quick and reliable connections with accessories. \\n• Dual-band Wi-Fi for stable and fast internet at home or work. \\n• NFC for easy contactless payments and data transfer. \\n7. Troubleshooting \\nHere are some common issues and their solutions: \\nProblem: Battery Draining Quickly \\nSolution: Check for power-hungry apps in settings and limit their usage. Enable battery \\nsaver mode. \\nProblem: Phone Overheating \\nSolution: Avoid using your phone while charging. Remove the case during intensive tasks to \\nhelp with heat dissipation. \\nProblem: Poor Network Connectivity \\nSolution: Restart your phone. Check for software updates. Reset network settings if the \\nproblem persists. '}\n",
      "{'filename': 'ViewMax_Smart_TV_FAQ.pdf', 'content': 'ViewMax Smart TV FAQ \\n1. Product Overview \\nViewMax offers a range of Smart TVs designed to deliver an immersive viewing experience. \\nOur current lineup includes: \\n• VM-O55 (OLED) \\n• VM-Q65 (QLED) \\n• VM-L50 (LED) \\nEach model is equipped with advanced technology and smart features to enhance your \\nentertainment. \\n2. Technical Specifications \\nVM-O55 (OLED) \\nScreen Size: 55 inches \\nResolution: 4K Ultra HD (3840 x 2160) \\nRefresh Rate: 120Hz \\nHDR: Dolby Vision, HDR10+ \\nSmart Platform: ViewMax OS \\nConnectivity: HDMI x 4, USB x 2, Wi-Fi, Ethernet \\nVM-Q65 (QLED) \\nScreen Size: 55 inches \\nResolution: 4K Ultra HD (3840 x 2160) \\nRefresh Rate: 120Hz \\nHDR: Dolby Vision, HDR10+ \\nSmart Platform: ViewMax OS \\nConnectivity: HDMI x 4, USB x 2, Wi-Fi, Ethernet \\nVM-L50 (LED) \\nScreen Size: 55 inches Resolution: 4K Ultra HD (3840 x 2160) \\nRefresh Rate: 120Hz \\nHDR: Dolby Vision, HDR10+ \\nSmart Platform: ViewMax OS \\nConnectivity: HDMI x 4, USB x 2, Wi-Fi, Ethernet \\n3. Key Features \\n• Stunning Picture Quality: Experience lifelike images with deep blacks and vibrant colors. \\n• Smart Features: Access popular streaming services, browse the internet, and use voice \\ncontrol. \\n• Advanced Audio: Enjoy immersive sound with Dolby Atmos support. \\n4. Setup and Installation \\nStep-by-step instructions for setting up your ViewMax Smart TV: \\n1. Unbox the TV and attach the stand or mount it on the wall. \\n2. Connect the TV to a power source and turn it on. \\n3. Follow the on-screen prompts to connect to Wi-Fi and sign in to your accounts. \\n4. Adjust picture and sound settings to your preference. \\n5. Usage Instructions \\nDetailed guidelines on using various features and optimizing performance: \\n• Use the home screen to access apps, live TV, and settings. \\n• Utilize the search function to quickly find content. \\n• Customize the picture and sound settings to suit different types of content. \\n6. Maintenance and Care \\nGuidelines for keeping your Smart TV in top condition: \\n• Clean the screen regularly with a soft, dry cloth. \\n• Ensure proper ventilation to prevent overheating. • Keep the firmware updated for optimal performance. \\n7. Troubleshooting \\nCommon issues and their solutions: \\nProblem: No Picture or Sound \\nSolution: Check the power connection and ensure the TV is turned on. Verify the input \\nsource. \\nProblem: Poor Picture Quality \\nSolution: Adjust the picture settings and check for any signal interference. \\nProblem: Unable to Connect to Wi-Fi \\nSolution: Restart the TV and router. Check if other devices can connect to the network. \\n8. Warranty Information \\nComprehensive warranty details for your ViewMax Smart TV: \\n• Coverage period: 1 year from the date of purchase. \\n• Includes free repair and replacement for manufacturing defects. \\n• Excludes damage caused by misuse or unauthorized modifications. \\n9. Customer Support \\nInformation on how to get support for your ViewMax Smart TV: \\n• Visit our online support portal for FAQs and troubleshooting guides. \\n• Contact our support team via phone or email for personalized assistance. \\n• Locate the nearest service center for in-person support. '}\n"
     ]
    }
   ],
   "source": [
    "dataset.show()\n"
   ]
  },
  {
   "cell_type": "code",
   "execution_count": 6,
   "metadata": {},
   "outputs": [
    {
     "name": "stderr",
     "output_type": "stream",
     "text": [
      "2024-10-18 18:54:19,874\tINFO streaming_executor.py:108 -- Starting execution of Dataset. Full logs are in C:\\Users\\Vipul\\AppData\\Local\\Temp\\ray\\session_2024-10-18_18-42-51_240098_31748\\logs\\ray-data\n",
      "2024-10-18 18:54:19,874\tINFO streaming_executor.py:109 -- Execution plan of Dataset: InputDataBuffer[Input] -> TaskPoolMapOperator[Map(split_sections)->Filter(<lambda>)] -> LimitOperator[limit=1]\n"
     ]
    },
    {
     "data": {
      "application/vnd.jupyter.widget-view+json": {
       "model_id": "775562f8b1904abab270060a169e9c3a",
       "version_major": 2,
       "version_minor": 0
      },
      "text/plain": [
       "Running 0: 0.00 row [00:00, ? row/s]"
      ]
     },
     "metadata": {},
     "output_type": "display_data"
    },
    {
     "data": {
      "application/vnd.jupyter.widget-view+json": {
       "model_id": "5db829bdd15c4b41b745dae0947f128b",
       "version_major": 2,
       "version_minor": 0
      },
      "text/plain": [
       "- Map(split_sections)->Filter(<lambda>) 1: 0.00 row [00:00, ? row/s]"
      ]
     },
     "metadata": {},
     "output_type": "display_data"
    },
    {
     "data": {
      "application/vnd.jupyter.widget-view+json": {
       "model_id": "ec822a0255b74e0da288ea3f5dc25a2f",
       "version_major": 2,
       "version_minor": 0
      },
      "text/plain": [
       "- limit=1 2: 0.00 row [00:00, ? row/s]"
      ]
     },
     "metadata": {},
     "output_type": "display_data"
    },
    {
     "name": "stderr",
     "output_type": "stream",
     "text": [
      "2024-10-18 18:54:22,298\tINFO streaming_executor.py:108 -- Starting execution of Dataset. Full logs are in C:\\Users\\Vipul\\AppData\\Local\\Temp\\ray\\session_2024-10-18_18-42-51_240098_31748\\logs\\ray-data\n",
      "2024-10-18 18:54:22,298\tINFO streaming_executor.py:109 -- Execution plan of Dataset: InputDataBuffer[Input] -> TaskPoolMapOperator[Map(split_sections)->Filter(<lambda>)] -> LimitOperator[limit=1]\n"
     ]
    },
    {
     "data": {
      "application/vnd.jupyter.widget-view+json": {
       "model_id": "802a5c4e359947069cfcf75023205536",
       "version_major": 2,
       "version_minor": 0
      },
      "text/plain": [
       "Running 0: 0.00 row [00:00, ? row/s]"
      ]
     },
     "metadata": {},
     "output_type": "display_data"
    },
    {
     "data": {
      "application/vnd.jupyter.widget-view+json": {
       "model_id": "7be6f74537974738a32f2b186d844f94",
       "version_major": 2,
       "version_minor": 0
      },
      "text/plain": [
       "- Map(split_sections)->Filter(<lambda>) 1: 0.00 row [00:00, ? row/s]"
      ]
     },
     "metadata": {},
     "output_type": "display_data"
    },
    {
     "data": {
      "application/vnd.jupyter.widget-view+json": {
       "model_id": "d9afb6df21ce48e2965440e29c524ed4",
       "version_major": 2,
       "version_minor": 0
      },
      "text/plain": [
       "- limit=1 2: 0.00 row [00:00, ? row/s]"
      ]
     },
     "metadata": {},
     "output_type": "display_data"
    },
    {
     "name": "stdout",
     "output_type": "stream",
     "text": [
      "--- TechMobile_Smartphone_FAQ.pdf ---\n",
      "--- 1. Product Overview ---\n",
      "TechMobile offers a range of smartphones to suit various needs and preferences. Our \n",
      "current lineup includes: \n",
      "• TM-S100 (Standard) \n",
      "• TM-P200 (Pro) \n",
      "• TM-L150 (Lite) \n",
      "Each device is designed with cutting-edge technology to provide an exceptional user \n",
      "experience.\n",
      "\n",
      "--- 2. Technical Specifications ---\n",
      "TM-S100 (Standard) \n",
      "Processor: Snapdragon 888 \n",
      "Memory: 8GB RAM \n",
      "Storage: 128GB \n",
      "Display: 6.5-inch AMOLED, 1080x2400 pixels \n",
      "Camera: 64MP main, 12MP ultra-wide, 5MP macro \n",
      "Battery Capacity: 4500mAh \n",
      "TM-P200 (Pro) \n",
      "Processor: Snapdragon 888 \n",
      "Memory: 8GB RAM \n",
      "Storage: 128GB \n",
      "Display: 6.5-inch AMOLED, 1080x2400 pixels \n",
      "Camera: 64MP main, 12MP ultra-wide, 5MP macro \n",
      "Battery Capacity: 4500mAh \n",
      "TM-L150 (Lite) \n",
      "Processor: Snapdragon 888 Memory: 8GB RAM \n",
      "Storage: 128GB \n",
      "Display: 6.5-inch AMOLED, 1080x2400 pixels \n",
      "Camera: 64MP main, 12MP ultra-wide, 5MP macro \n",
      "Battery Capacity: 4500mAh\n",
      "\n",
      "--- 3. Key Features ---\n",
      "• AI-Enhanced Photography: The AI camera system optimizes settings for different scenes, \n",
      "ensuring stunning photos every time. \n",
      "• 5G Connectivity: Experience blazing fast internet speeds with 5G support, allowing \n",
      "seamless streaming and browsing. \n",
      "• Advanced Security Measures: Includes facial recognition, fingerprint scanner, and secure \n",
      "encryption to protect your data.\n",
      "\n",
      "--- 4. Battery Life ---\n",
      "The battery life of TechMobile smartphones is designed to last all day with moderate use. \n",
      "For heavy users, fast charging capabilities ensure you are never out of power for long. \n",
      "Tips for optimizing battery life: \n",
      "• Reduce screen brightness and timeout duration. \n",
      "• Disable background app refresh for non-essential apps. \n",
      "• Use battery saver mode when needed.\n",
      "\n",
      "--- 5. Camera ---\n",
      "TechMobile smartphones feature a versatile camera system with multiple lenses to suit \n",
      "different photography needs. From ultra-wide landscape shots to detailed macro \n",
      "photography, capture every moment with precision. \n",
      "Tips for best photography: \n",
      "• Use Pro mode to manually adjust settings for optimal results. \n",
      "• Experiment with different camera modes like Night, Portrait, and Panorama. \n",
      "• Clean the camera lens regularly to avoid blurry images. 6. Connectivity \n",
      "TechMobile smartphones support a wide range of connectivity options including: \n",
      "• 5G and 4G LTE networks for fast mobile internet. \n",
      "• Bluetooth 5.0 for quick and reliable connections with accessories. \n",
      "• Dual-band Wi-Fi for stable and fast internet at home or work. \n",
      "• NFC for easy contactless payments and data transfer.\n",
      "\n",
      "--- 7. Troubleshooting ---\n",
      "Here are some common issues and their solutions: \n",
      "Problem: Battery Draining Quickly \n",
      "Solution: Check for power-hungry apps in settings and limit their usage. Enable battery \n",
      "saver mode. \n",
      "Problem: Phone Overheating \n",
      "Solution: Avoid using your phone while charging. Remove the case during intensive tasks to \n",
      "help with heat dissipation. \n",
      "Problem: Poor Network Connectivity \n",
      "Solution: Restart your phone. Check for software updates. Reset network settings if the \n",
      "problem persists.\n",
      "\n",
      "--- Common PDF Example ---\n",
      "--- 1. Product Overview ---\n",
      "CleanBot offers a range of robotic vacuum cleaners to suit different cleaning needs. Our \n",
      "current lineup includes: \n",
      "• CB-100 (Basic) \n",
      "• CB-200 (Smart Navigation) \n",
      "• CB-300 (Self-Emptying) \n",
      "Each model is designed to provide efficient and hassle-free cleaning.\n",
      "\n",
      "--- 2. Technical Specifications ---\n",
      "CB-100 (Basic) \n",
      "Battery Life: 90 minutes \n",
      "Suction Power: 2000Pa \n",
      "Dustbin Capacity: 0.5L \n",
      "Noise Level: 60dB \n",
      "Weight: 3.5kg \n",
      "CB-200 (Smart Navigation) \n",
      "Battery Life: 90 minutes \n",
      "Suction Power: 2000Pa \n",
      "Dustbin Capacity: 0.5L \n",
      "Noise Level: 60dB \n",
      "Weight: 3.5kg \n",
      "CB-300 (Self-Emptying) \n",
      "Battery Life: 90 minutes \n",
      "Suction Power: 2000Pa \n",
      "Dustbin Capacity: 0.5L Noise Level: 60dB \n",
      "Weight: 3.5kg\n",
      "\n",
      "--- 3. Key Features ---\n",
      "• Efficient Cleaning: High suction power and multiple cleaning modes. \n",
      "• Smart Navigation: Advanced sensors for better navigation and cleaning. \n",
      "• Self-Emptying: Automatically empties its dustbin for hands-free maintenance.\n",
      "\n",
      "--- 4. Setup and Installation ---\n",
      "Step-by-step instructions for setting up your CleanBot robotic vacuum cleaner: \n",
      "1. Unbox the vacuum cleaner and charging dock. \n",
      "2. Place the charging dock against a wall and plug it in. \n",
      "3. Place the vacuum cleaner on the dock to charge. \n",
      "4. Download the CleanBot app and follow the setup instructions.\n",
      "\n",
      "--- 5. Usage Instructions ---\n",
      "Detailed guidelines on using various features and optimizing performance: \n",
      "• Use the app to start, stop, and schedule cleaning sessions. \n",
      "• Select different cleaning modes (e.g., auto, spot, edge) based on your needs. \n",
      "• Monitor the cleaning progress and battery status through the app.\n",
      "\n",
      "--- 6. Maintenance and Care ---\n",
      "Guidelines for keeping your robotic vacuum cleaner in top condition: \n",
      "• Regularly empty the dustbin and clean the filters. \n",
      "• Check and clean the brushes and sensors to ensure optimal performance. \n",
      "• Keep the firmware updated for enhanced features and performance.\n",
      "\n",
      "--- 7. Troubleshooting ---\n",
      "Common issues and their solutions: Problem: Vacuum Cleaner Not Charging \n",
      "Solution: Ensure the charging dock is plugged in and the vacuum is properly aligned with \n",
      "the dock. \n",
      "Problem: Reduced Suction Power \n",
      "Solution: Check for blockages in the suction path and clean the filters. \n",
      "Problem: Random Navigation \n",
      "Solution: Reset the navigation system through the app and ensure the sensors are clean.\n",
      "\n",
      "--- 8. Warranty Information ---\n",
      "Comprehensive warranty details for your CleanBot robotic vacuum cleaner: \n",
      "• Coverage period: 1 year from the date of purchase. \n",
      "• Includes free repair and replacement for manufacturing defects. \n",
      "• Excludes damage caused by misuse or unauthorized modifications.\n",
      "\n",
      "--- 9. Customer Support ---\n",
      "Information on how to get support for your CleanBot robotic vacuum cleaner: \n",
      "• Visit our online support portal for FAQs and troubleshooting guides. \n",
      "• Contact our support team via phone or email for personalized assistance. \n",
      "• Locate the nearest service center for in-person support.\n",
      "\n"
     ]
    }
   ],
   "source": [
    "import re\n",
    "import ray\n",
    "import ray.data\n",
    "\n",
    "# Initialize Ray\n",
    "\n",
    "\n",
    "# Define section headers\n",
    "common_headers = [\n",
    "    r\"1\\. Product Overview\", r\"2\\. Technical Specifications\", r\"3\\. Key Features\",\n",
    "    r\"4\\. Setup and Installation\", r\"5\\. Usage Instructions\", r\"6\\. Maintenance and Care\",\n",
    "    r\"7\\. Troubleshooting\", r\"8\\. Warranty Information\", r\"9\\. Customer Support\"\n",
    "]\n",
    "\n",
    "techmobile_headers = [\n",
    "    r\"1\\. Product Overview\", r\"2\\. Technical Specifications\", r\"3\\. Key Features\",\n",
    "    r\"4\\. Battery Life\", r\"5\\. Camera\", r\"6\\. Connectivity\", r\"7\\. Troubleshooting\"\n",
    "]\n",
    "\n",
    "# Function to clean page breaks\n",
    "def clean_page_breaks(text):\n",
    "    return re.sub(r'\\n+', '\\n', text)\n",
    "\n",
    "# Function to split into sections\n",
    "def split_sections(row):\n",
    "    text = clean_page_breaks(row[\"content\"])\n",
    "    headers = techmobile_headers if row[\"filename\"] == \"TechMobile_Smartphone_FAQ.pdf\" else common_headers\n",
    "    sections = {}\n",
    "    current_section = None\n",
    "    current_content = []\n",
    "    header_pattern = re.compile(rf\"({'|'.join(headers)})\", re.IGNORECASE)\n",
    "    \n",
    "    for line in text.split('\\n'):\n",
    "        match = header_pattern.match(line.strip())\n",
    "        if match:\n",
    "            if current_section:\n",
    "                sections[current_section] = '\\n'.join(current_content).strip()\n",
    "            current_section = match.group(0)\n",
    "            current_content = []\n",
    "        elif current_section:\n",
    "            current_content.append(line)\n",
    "    \n",
    "    if current_section:\n",
    "        sections[current_section] = '\\n'.join(current_content).strip()\n",
    "    \n",
    "    row[\"sections\"] = sections\n",
    "    return row\n",
    "\n",
    "\n",
    "\n",
    "# Apply the split_sections function\n",
    "split_dataset = dataset.map(split_sections)\n",
    "\n",
    "# Show sections for 'TechMobile_Smartphone_FAQ.pdf' and one common PDF\n",
    "techmobile = split_dataset.filter(lambda row: row[\"filename\"] == \"TechMobile_Smartphone_FAQ.pdf\").take(1)\n",
    "common_pdf = split_dataset.filter(lambda row: row[\"filename\"] != \"TechMobile_Smartphone_FAQ.pdf\").take(1)\n",
    "\n",
    "print(\"--- TechMobile_Smartphone_FAQ.pdf ---\")\n",
    "for section, content in techmobile[0][\"sections\"].items():\n",
    "    print(f\"--- {section} ---\\n{content}\\n\")\n",
    "\n",
    "print(\"--- Common PDF Example ---\")\n",
    "for section, content in common_pdf[0][\"sections\"].items():\n",
    "    print(f\"--- {section} ---\\n{content}\\n\")\n",
    "\n",
    "# Shutdown Ray when done\n",
    "# ray.shutdown()\n"
   ]
  }
 ],
 "metadata": {
  "kernelspec": {
   "display_name": "pdf",
   "language": "python",
   "name": "python3"
  },
  "language_info": {
   "codemirror_mode": {
    "name": "ipython",
    "version": 3
   },
   "file_extension": ".py",
   "mimetype": "text/x-python",
   "name": "python",
   "nbconvert_exporter": "python",
   "pygments_lexer": "ipython3",
   "version": "3.10.15"
  }
 },
 "nbformat": 4,
 "nbformat_minor": 2
}
